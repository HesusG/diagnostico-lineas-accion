{
 "cells": [
  {
   "cell_type": "markdown",
   "metadata": {},
   "source": [
    "# Regresión Lineal y Correlación\n",
    "\n",
    "## Objetivos\n",
    "- Calcular e interpretar coeficientes de correlación\n",
    "- Crear modelos de regresión lineal simple\n",
    "- Interpretar R², pendiente e intercepto\n",
    "- Verificar supuestos de regresión\n",
    "- Hacer predicciones con modelos\n",
    "- Construir modelos de regresión múltiple\n",
    "\n",
    "---"
   ]
  },
  {
   "cell_type": "markdown",
   "metadata": {},
   "source": [
    "## 1. Preparación"
   ]
  },
  {
   "cell_type": "code",
   "execution_count": null,
   "metadata": {},
   "outputs": [],
   "source": [
    "import pandas as pd\n",
    "import numpy as np\n",
    "from scipy import stats\n",
    "import matplotlib.pyplot as plt\n",
    "import seaborn as sns\n",
    "import statsmodels.api as sm\n",
    "from sklearn.linear_model import LinearRegression\n",
    "from sklearn.metrics import r2_score, mean_squared_error\n",
    "\n",
    "# Configuración\n",
    "plt.style.use('seaborn-v0_8-whitegrid')\n",
    "sns.set_palette(\"Set2\")\n",
    "%matplotlib inline\n",
    "\n",
    "# Cargar datos\n",
    "df = pd.read_csv('../datos/ejemplo_satisfaccion_clientes.csv')\n",
    "print(f\"Dataset cargado: {df.shape[0]} registros, {df.shape[1]} variables\")\n",
    "df.head()"
   ]
  },
  {
   "cell_type": "markdown",
   "metadata": {},
   "source": [
    "## 2. Matriz de Correlación\n",
    "\n",
    "Primero, exploramos las correlaciones entre **todas** las variables numéricas."
   ]
  },
  {
   "cell_type": "code",
   "execution_count": null,
   "metadata": {},
   "outputs": [],
   "source": [
    "# Seleccionar variables numéricas\n",
    "vars_numericas = ['edad', 'tiempo_servicio', 'satisfaccion', 'calidad_atencion', 'tiempo_espera']\n",
    "df_numerico = df[vars_numericas]\n",
    "\n",
    "# Calcular matriz de correlación\n",
    "correlacion = df_numerico.corr()\n",
    "\n",
    "print(\"MATRIZ DE CORRELACIÓN (Pearson)\")\n",
    "print(\"=\"*60)\n",
    "print(correlacion.round(3))"
   ]
  },
  {
   "cell_type": "code",
   "execution_count": null,
   "metadata": {},
   "outputs": [],
   "source": [
    "# Heatmap de correlaciones\n",
    "plt.figure(figsize=(10, 8))\n",
    "sns.heatmap(correlacion, annot=True, cmap='coolwarm', center=0,\n",
    "            square=True, linewidths=1, cbar_kws={\"shrink\": 0.8},\n",
    "            fmt='.3f', vmin=-1, vmax=1)\n",
    "plt.title('Matriz de Correlación - Variables Numéricas', fontsize=14, fontweight='bold')\n",
    "plt.tight_layout()\n",
    "plt.show()"
   ]
  },
  {
   "cell_type": "code",
   "execution_count": null,
   "metadata": {},
   "outputs": [],
   "source": [
    "# Identificar correlaciones fuertes con satisfacción\n",
    "print(\"\\nCorrelaciones con SATISFACCIÓN:\")\n",
    "print(\"=\"*60)\n",
    "corr_satisfaccion = correlacion['satisfaccion'].sort_values(ascending=False)\n",
    "\n",
    "for var, corr_val in corr_satisfaccion.items():\n",
    "    if var != 'satisfaccion':\n",
    "        if abs(corr_val) >= 0.7:\n",
    "            fuerza = \"FUERTE\"\n",
    "        elif abs(corr_val) >= 0.3:\n",
    "            fuerza = \"MODERADA\"\n",
    "        else:\n",
    "            fuerza = \"DÉBIL\"\n",
    "        \n",
    "        direccion = \"positiva\" if corr_val > 0 else \"negativa\"\n",
    "        print(f\"{var:20s}: r = {corr_val:7.3f} → Correlación {fuerza} {direccion}\")"
   ]
  },
  {
   "cell_type": "markdown",
   "metadata": {},
   "source": [
    "## 3. Correlación de Pearson: Análisis Detallado\n",
    "\n",
    "### Pregunta de investigación:\n",
    "> ¿Existe relación lineal entre el tiempo de espera y la satisfacción?"
   ]
  },
  {
   "cell_type": "code",
   "execution_count": null,
   "metadata": {},
   "outputs": [],
   "source": [
    "# Calcular correlación con prueba de significancia\n",
    "r, p_value = stats.pearsonr(df['tiempo_espera'], df['satisfaccion'])\n",
    "\n",
    "print(\"=\"*60)\n",
    "print(\"CORRELACIÓN: TIEMPO DE ESPERA vs SATISFACCIÓN\")\n",
    "print(\"=\"*60)\n",
    "print(f\"Coeficiente de Pearson (r): {r:.4f}\")\n",
    "print(f\"p-value: {p_value:.4f}\")\n",
    "print(f\"R² (varianza compartida): {r**2:.4f} ({r**2*100:.1f}%)\")\n",
    "\n",
    "# Interpretación\n",
    "if abs(r) < 0.3:\n",
    "    fuerza = \"DÉBIL\"\n",
    "elif abs(r) < 0.7:\n",
    "    fuerza = \"MODERADA\"\n",
    "else:\n",
    "    fuerza = \"FUERTE\"\n",
    "\n",
    "direccion = \"POSITIVA\" if r > 0 else \"NEGATIVA\"\n",
    "\n",
    "print(f\"\\n💡 Correlación {fuerza} {direccion}\")\n",
    "\n",
    "if p_value < 0.05:\n",
    "    print(\"✗ La correlación es estadísticamente SIGNIFICATIVA\")\n",
    "else:\n",
    "    print(\"✓ La correlación NO es estadísticamente significativa\")"
   ]
  },
  {
   "cell_type": "code",
   "execution_count": null,
   "metadata": {},
   "outputs": [],
   "source": [
    "# Scatter plot\n",
    "plt.figure(figsize=(10, 6))\n",
    "plt.scatter(df['tiempo_espera'], df['satisfaccion'], alpha=0.6, edgecolor='black', s=60)\n",
    "plt.xlabel('Tiempo de Espera (minutos)', fontsize=12)\n",
    "plt.ylabel('Satisfacción (1-10)', fontsize=12)\n",
    "plt.title(f'Relación: Tiempo de Espera vs Satisfacción (r={r:.3f}, p={p_value:.4f})',\n",
    "          fontsize=14, fontweight='bold')\n",
    "plt.grid(alpha=0.3)\n",
    "plt.tight_layout()\n",
    "plt.show()"
   ]
  },
  {
   "cell_type": "markdown",
   "metadata": {},
   "source": [
    "## 4. Regresión Lineal Simple\n",
    "\n",
    "### Modelo:\n",
    "$$\\text{Satisfacción} = \\beta_0 + \\beta_1 \\times \\text{Tiempo de Espera} + \\epsilon$$\n",
    "\n",
    "Donde:\n",
    "- **β₀**: Intercepto (satisfacción cuando tiempo_espera = 0)\n",
    "- **β₁**: Pendiente (cambio en satisfacción por cada minuto adicional)\n",
    "- **ε**: Error (residuo)"
   ]
  },
  {
   "cell_type": "code",
   "execution_count": null,
   "metadata": {},
   "outputs": [],
   "source": [
    "# Opción 1: Regresión con scipy (método rápido)\n",
    "pendiente, intercepto, r_value, p_value_reg, std_err = stats.linregress(\n",
    "    df['tiempo_espera'], df['satisfaccion']\n",
    ")\n",
    "\n",
    "print(\"=\"*60)\n",
    "print(\"REGRESIÓN LINEAL SIMPLE (scipy)\")\n",
    "print(\"=\"*60)\n",
    "print(f\"Ecuación: Satisfacción = {intercepto:.4f} + ({pendiente:.4f}) × Tiempo_Espera\")\n",
    "print(f\"\\nCoeficientes:\")\n",
    "print(f\"  Intercepto (β₀): {intercepto:.4f}\")\n",
    "print(f\"  Pendiente (β₁):  {pendiente:.4f}\")\n",
    "print(f\"\\nBondad de ajuste:\")\n",
    "print(f\"  R²: {r_value**2:.4f}\")\n",
    "print(f\"  p-value: {p_value_reg:.4f}\")\n",
    "print(f\"  Error estándar: {std_err:.4f}\")"
   ]
  },
  {
   "cell_type": "code",
   "execution_count": null,
   "metadata": {},
   "outputs": [],
   "source": [
    "# Opción 2: Regresión con statsmodels (más completo)\n",
    "X = df['tiempo_espera']\n",
    "X = sm.add_constant(X)  # Añadir intercepto\n",
    "Y = df['satisfaccion']\n",
    "\n",
    "modelo = sm.OLS(Y, X).fit()\n",
    "\n",
    "print(\"\\n\" + \"=\"*60)\n",
    "print(\"RESUMEN COMPLETO DEL MODELO (statsmodels)\")\n",
    "print(\"=\"*60)\n",
    "print(modelo.summary())"
   ]
  },
  {
   "cell_type": "markdown",
   "metadata": {},
   "source": [
    "## 5. Interpretación de Resultados"
   ]
  },
  {
   "cell_type": "code",
   "execution_count": null,
   "metadata": {},
   "outputs": [],
   "source": [
    "print(\"=\"*70)\n",
    "print(\"INTERPRETACIÓN EN CONTEXTO DE NEGOCIO\")\n",
    "print(\"=\"*70)\n",
    "\n",
    "print(f\"\\n1. INTERCEPTO (β₀ = {intercepto:.2f}):\")\n",
    "print(f\"   → Cuando el tiempo de espera es 0 minutos, la satisfacción esperada es {intercepto:.2f}\")\n",
    "print(f\"   (Este valor puede ser teórico si tiempo_espera=0 está fuera del rango observado)\")\n",
    "\n",
    "print(f\"\\n2. PENDIENTE (β₁ = {pendiente:.4f}):\")\n",
    "if pendiente < 0:\n",
    "    print(f\"   → Por cada MINUTO ADICIONAL de espera, la satisfacción DISMINUYE {abs(pendiente):.4f} puntos\")\n",
    "    print(f\"   → Si el tiempo de espera aumenta de 20 a 30 minutos (10 min más):\")\n",
    "    print(f\"     Satisfacción baja aproximadamente {abs(pendiente)*10:.2f} puntos\")\n",
    "else:\n",
    "    print(f\"   → Por cada MINUTO ADICIONAL de espera, la satisfacción AUMENTA {pendiente:.4f} puntos\")\n",
    "\n",
    "print(f\"\\n3. R² = {r_value**2:.4f}:\")\n",
    "print(f\"   → El {r_value**2*100:.1f}% de la variabilidad en satisfacción se explica por el tiempo de espera\")\n",
    "print(f\"   → El {(1-r_value**2)*100:.1f}% restante se debe a otros factores no incluidos en el modelo\")\n",
    "\n",
    "print(f\"\\n4. SIGNIFICANCIA ESTADÍSTICA:\")\n",
    "if p_value_reg < 0.001:\n",
    "    print(f\"   → p-value < 0.001: Relación MUY significativa\")\n",
    "elif p_value_reg < 0.05:\n",
    "    print(f\"   → p-value = {p_value_reg:.4f}: Relación significativa\")\n",
    "else:\n",
    "    print(f\"   → p-value = {p_value_reg:.4f}: Relación NO significativa\")"
   ]
  },
  {
   "cell_type": "markdown",
   "metadata": {},
   "source": [
    "## 6. Visualización del Modelo"
   ]
  },
  {
   "cell_type": "code",
   "execution_count": null,
   "metadata": {},
   "outputs": [],
   "source": [
    "# Línea de regresión con intervalo de confianza\n",
    "plt.figure(figsize=(12, 6))\n",
    "sns.regplot(x='tiempo_espera', y='satisfaccion', data=df,\n",
    "            scatter_kws={'alpha':0.5, 'edgecolor':'black', 's':60},\n",
    "            line_kws={'color':'red', 'linewidth':2.5})\n",
    "\n",
    "plt.xlabel('Tiempo de Espera (minutos)', fontsize=12)\n",
    "plt.ylabel('Satisfacción (1-10)', fontsize=12)\n",
    "plt.title(f'Regresión Lineal: Satisfacción = {intercepto:.2f} + ({pendiente:.4f}) × Tiempo_Espera\\n'\n",
    "          f'R² = {r_value**2:.4f}', fontsize=13, fontweight='bold')\n",
    "plt.grid(alpha=0.3)\n",
    "plt.tight_layout()\n",
    "plt.show()"
   ]
  },
  {
   "cell_type": "code",
   "execution_count": null,
   "metadata": {},
   "outputs": [],
   "source": [
    "# Predicciones vs Valores Reales\n",
    "predicciones = intercepto + pendiente * df['tiempo_espera']\n",
    "\n",
    "plt.figure(figsize=(10, 6))\n",
    "plt.scatter(df['satisfaccion'], predicciones, alpha=0.6, edgecolor='black', s=60)\n",
    "plt.plot([df['satisfaccion'].min(), df['satisfaccion'].max()],\n",
    "         [df['satisfaccion'].min(), df['satisfaccion'].max()],\n",
    "         'r--', linewidth=2.5, label='Predicción perfecta')\n",
    "plt.xlabel('Satisfacción Real', fontsize=12)\n",
    "plt.ylabel('Satisfacción Predicha', fontsize=12)\n",
    "plt.title('Valores Reales vs Predicciones', fontsize=14, fontweight='bold')\n",
    "plt.legend(fontsize=11)\n",
    "plt.grid(alpha=0.3)\n",
    "plt.tight_layout()\n",
    "plt.show()"
   ]
  },
  {
   "cell_type": "markdown",
   "metadata": {},
   "source": [
    "## 7. Verificación de Supuestos\n",
    "\n",
    "### Supuesto 1: Linealidad\n",
    "La relación entre X e Y debe ser lineal (ya verificamos con scatter plot).\n",
    "\n",
    "### Supuesto 2: Independencia de Residuos\n",
    "\n",
    "### Supuesto 3: Homocedasticidad\n",
    "La varianza de los residuos debe ser constante."
   ]
  },
  {
   "cell_type": "code",
   "execution_count": null,
   "metadata": {},
   "outputs": [],
   "source": [
    "# Calcular residuos\n",
    "residuos = df['satisfaccion'] - predicciones\n",
    "\n",
    "print(\"Estadísticos de Residuos:\")\n",
    "print(f\"Media: {residuos.mean():.6f} (debe ser ~0)\")\n",
    "print(f\"Desviación estándar: {residuos.std():.4f}\")\n",
    "print(f\"Mínimo: {residuos.min():.4f}\")\n",
    "print(f\"Máximo: {residuos.max():.4f}\")"
   ]
  },
  {
   "cell_type": "code",
   "execution_count": null,
   "metadata": {},
   "outputs": [],
   "source": [
    "# Gráficos de diagnóstico\n",
    "fig, axes = plt.subplots(2, 2, figsize=(14, 10))\n",
    "\n",
    "# 1. Residuos vs Valores Ajustados\n",
    "axes[0, 0].scatter(predicciones, residuos, alpha=0.6, edgecolor='black')\n",
    "axes[0, 0].axhline(y=0, color='red', linestyle='--', linewidth=2)\n",
    "axes[0, 0].set_xlabel('Valores Ajustados')\n",
    "axes[0, 0].set_ylabel('Residuos')\n",
    "axes[0, 0].set_title('Residuos vs Valores Ajustados', fontweight='bold')\n",
    "axes[0, 0].grid(alpha=0.3)\n",
    "\n",
    "# 2. Q-Q Plot (Normalidad de residuos)\n",
    "stats.probplot(residuos, dist=\"norm\", plot=axes[0, 1])\n",
    "axes[0, 1].set_title('Q-Q Plot de Residuos', fontweight='bold')\n",
    "axes[0, 1].grid(alpha=0.3)\n",
    "\n",
    "# 3. Histograma de Residuos\n",
    "axes[1, 0].hist(residuos, bins=20, edgecolor='black', alpha=0.7, color='skyblue')\n",
    "axes[1, 0].axvline(x=0, color='red', linestyle='--', linewidth=2)\n",
    "axes[1, 0].set_xlabel('Residuos')\n",
    "axes[1, 0].set_ylabel('Frecuencia')\n",
    "axes[1, 0].set_title('Distribución de Residuos', fontweight='bold')\n",
    "axes[1, 0].grid(alpha=0.3, axis='y')\n",
    "\n",
    "# 4. Scale-Location (Raíz de residuos estandarizados)\n",
    "residuos_std = (residuos - residuos.mean()) / residuos.std()\n",
    "axes[1, 1].scatter(predicciones, np.sqrt(np.abs(residuos_std)), alpha=0.6, edgecolor='black')\n",
    "axes[1, 1].set_xlabel('Valores Ajustados')\n",
    "axes[1, 1].set_ylabel('√|Residuos Estandarizados|')\n",
    "axes[1, 1].set_title('Scale-Location', fontweight='bold')\n",
    "axes[1, 1].grid(alpha=0.3)\n",
    "\n",
    "plt.tight_layout()\n",
    "plt.show()"
   ]
  },
  {
   "cell_type": "code",
   "execution_count": null,
   "metadata": {},
   "outputs": [],
   "source": [
    "# Prueba de normalidad de residuos (Shapiro-Wilk)\n",
    "stat_shapiro, p_shapiro = stats.shapiro(residuos)\n",
    "\n",
    "print(\"\\nPRUEBA DE NORMALIDAD DE RESIDUOS:\")\n",
    "print(f\"Shapiro-Wilk: W={stat_shapiro:.4f}, p={p_shapiro:.4f}\")\n",
    "\n",
    "if p_shapiro > 0.05:\n",
    "    print(\"✓ Residuos siguen distribución normal\")\n",
    "else:\n",
    "    print(\"⚠️ Residuos NO siguen distribución normal\")\n",
    "    print(\"   Considerar transformación de variables\")"
   ]
  },
  {
   "cell_type": "markdown",
   "metadata": {},
   "source": [
    "## 8. Hacer Predicciones"
   ]
  },
  {
   "cell_type": "code",
   "execution_count": null,
   "metadata": {},
   "outputs": [],
   "source": [
    "# Rango de datos observados\n",
    "print(\"Rango de Tiempo de Espera observado:\")\n",
    "print(f\"Mínimo: {df['tiempo_espera'].min()} minutos\")\n",
    "print(f\"Máximo: {df['tiempo_espera'].max()} minutos\")\n",
    "\n",
    "print(\"\\n\" + \"=\"*60)\n",
    "print(\"PREDICCIONES DE EJEMPLOS\")\n",
    "print(\"=\"*60)\n",
    "\n",
    "# Ejemplos de predicción\n",
    "tiempos_ejemplo = [10, 20, 25, 30, 35]\n",
    "\n",
    "for tiempo in tiempos_ejemplo:\n",
    "    sat_pred = intercepto + pendiente * tiempo\n",
    "    print(f\"\\nTiempo de espera = {tiempo} min → Satisfacción predicha = {sat_pred:.2f}\")\n",
    "    \n",
    "    # Advertencia si está fuera del rango\n",
    "    if tiempo < df['tiempo_espera'].min() or tiempo > df['tiempo_espera'].max():\n",
    "        print(\"   ⚠️ Advertencia: Extrapolación (fuera del rango observado)\")"
   ]
  },
  {
   "cell_type": "code",
   "execution_count": null,
   "metadata": {},
   "outputs": [],
   "source": [
    "# Intervalos de confianza para predicciones (con statsmodels)\n",
    "nuevos_tiempos = pd.DataFrame({'tiempo_espera': [15, 25, 35]})\n",
    "nuevos_tiempos = sm.add_constant(nuevos_tiempos)\n",
    "\n",
    "predicciones_nuevas = modelo.get_prediction(nuevos_tiempos)\n",
    "df_pred = predicciones_nuevas.summary_frame(alpha=0.05)\n",
    "\n",
    "print(\"\\nPredicciones con Intervalos de Confianza 95%:\")\n",
    "df_pred.index = [15, 25, 35]\n",
    "print(df_pred[['mean', 'mean_ci_lower', 'mean_ci_upper']].round(2))"
   ]
  },
  {
   "cell_type": "markdown",
   "metadata": {},
   "source": [
    "## 9. Segundo Modelo: Calidad de Atención vs Satisfacción"
   ]
  },
  {
   "cell_type": "code",
   "execution_count": null,
   "metadata": {},
   "outputs": [],
   "source": [
    "# Correlación\n",
    "r2, p2 = stats.pearsonr(df['calidad_atencion'], df['satisfaccion'])\n",
    "\n",
    "print(\"=\"*60)\n",
    "print(\"MODELO 2: CALIDAD DE ATENCIÓN → SATISFACCIÓN\")\n",
    "print(\"=\"*60)\n",
    "print(f\"Correlación (r): {r2:.4f}\")\n",
    "print(f\"R²: {r2**2:.4f}\")\n",
    "print(f\"p-value: {p2:.4f}\")\n",
    "\n",
    "# Regresión\n",
    "pend2, inter2, r_val2, p_val2, se2 = stats.linregress(df['calidad_atencion'], df['satisfaccion'])\n",
    "\n",
    "print(f\"\\nEcuación: Satisfacción = {inter2:.4f} + ({pend2:.4f}) × Calidad_Atención\")\n",
    "print(f\"\\nInterpretación:\")\n",
    "print(f\"  Por cada punto adicional en calidad de atención,\")\n",
    "print(f\"  la satisfacción {'aumenta' if pend2 > 0 else 'disminuye'} {abs(pend2):.4f} puntos\")"
   ]
  },
  {
   "cell_type": "code",
   "execution_count": null,
   "metadata": {},
   "outputs": [],
   "source": [
    "# Visualización\n",
    "plt.figure(figsize=(10, 6))\n",
    "sns.regplot(x='calidad_atencion', y='satisfaccion', data=df,\n",
    "            scatter_kws={'alpha':0.5, 'edgecolor':'black'},\n",
    "            line_kws={'color':'green', 'linewidth':2.5})\n",
    "plt.xlabel('Calidad de Atención (1-10)', fontsize=12)\n",
    "plt.ylabel('Satisfacción (1-10)', fontsize=12)\n",
    "plt.title(f'Calidad de Atención vs Satisfacción (R² = {r_val2**2:.4f})',\n",
    "          fontsize=14, fontweight='bold')\n",
    "plt.grid(alpha=0.3)\n",
    "plt.tight_layout()\n",
    "plt.show()"
   ]
  },
  {
   "cell_type": "markdown",
   "metadata": {},
   "source": [
    "## 10. Regresión Lineal Múltiple\n",
    "\n",
    "Ahora usamos **múltiples** variables para predecir satisfacción:\n",
    "\n",
    "$$\\text{Satisfacción} = \\beta_0 + \\beta_1 \\times \\text{Tiempo\\_Espera} + \\beta_2 \\times \\text{Calidad\\_Atención} + \\beta_3 \\times \\text{Tiempo\\_Servicio} + \\epsilon$$"
   ]
  },
  {
   "cell_type": "code",
   "execution_count": null,
   "metadata": {},
   "outputs": [],
   "source": [
    "# Preparar datos\n",
    "X_multi = df[['tiempo_espera', 'calidad_atencion', 'tiempo_servicio']]\n",
    "X_multi = sm.add_constant(X_multi)\n",
    "Y = df['satisfaccion']\n",
    "\n",
    "# Ajustar modelo\n",
    "modelo_multi = sm.OLS(Y, X_multi).fit()\n",
    "\n",
    "print(\"=\"*70)\n",
    "print(\"REGRESIÓN LINEAL MÚLTIPLE\")\n",
    "print(\"=\"*70)\n",
    "print(modelo_multi.summary())"
   ]
  },
  {
   "cell_type": "code",
   "execution_count": null,
   "metadata": {},
   "outputs": [],
   "source": [
    "# Ecuación del modelo\n",
    "print(\"\\nECUACIÓN DEL MODELO:\")\n",
    "print(\"=\"*70)\n",
    "print(f\"Satisfacción = {modelo_multi.params['const']:.4f}\")\n",
    "\n",
    "for var in ['tiempo_espera', 'calidad_atencion', 'tiempo_servicio']:\n",
    "    coef = modelo_multi.params[var]\n",
    "    signo = '+' if coef >= 0 else ''\n",
    "    print(f\"             {signo}{coef:.4f} × {var}\")\n",
    "\n",
    "print(f\"\\nR² ajustado: {modelo_multi.rsquared_adj:.4f}\")\n",
    "print(f\"R² simple:   {modelo_multi.rsquared:.4f}\")"
   ]
  },
  {
   "cell_type": "code",
   "execution_count": null,
   "metadata": {},
   "outputs": [],
   "source": [
    "# Interpretación de coeficientes\n",
    "print(\"\\nINTERPRETACIÓN DE COEFICIENTES:\")\n",
    "print(\"=\"*70)\n",
    "\n",
    "for var in ['tiempo_espera', 'calidad_atencion', 'tiempo_servicio']:\n",
    "    coef = modelo_multi.params[var]\n",
    "    p_val = modelo_multi.pvalues[var]\n",
    "    \n",
    "    print(f\"\\n{var}:\")\n",
    "    print(f\"  Coeficiente: {coef:.4f}\")\n",
    "    print(f\"  p-value: {p_val:.4f}\")\n",
    "    \n",
    "    if p_val < 0.05:\n",
    "        print(f\"  ✗ Variable SIGNIFICATIVA\")\n",
    "        print(f\"  Manteniendo las demás variables constantes, un aumento de 1 unidad\")\n",
    "        print(f\"  en {var} {'aumenta' if coef > 0 else 'disminuye'} la satisfacción en {abs(coef):.4f} puntos\")\n",
    "    else:\n",
    "        print(f\"  ✓ Variable NO significativa (puede eliminarse del modelo)\")"
   ]
  },
  {
   "cell_type": "markdown",
   "metadata": {},
   "source": [
    "## 11. Comparación de Modelos"
   ]
  },
  {
   "cell_type": "code",
   "execution_count": null,
   "metadata": {},
   "outputs": [],
   "source": [
    "# Comparar modelos\n",
    "modelos_comparacion = pd.DataFrame({\n",
    "    'Modelo': [\n",
    "        'Simple: Tiempo_Espera',\n",
    "        'Simple: Calidad_Atención',\n",
    "        'Múltiple: 3 variables'\n",
    "    ],\n",
    "    'R²': [\n",
    "        r_value**2,\n",
    "        r_val2**2,\n",
    "        modelo_multi.rsquared\n",
    "    ],\n",
    "    'R² ajustado': [\n",
    "        np.nan,  # No aplica para regresión simple\n",
    "        np.nan,\n",
    "        modelo_multi.rsquared_adj\n",
    "    ],\n",
    "    'AIC': [\n",
    "        np.nan,\n",
    "        np.nan,\n",
    "        modelo_multi.aic\n",
    "    ]\n",
    "})\n",
    "\n",
    "print(\"=\"*70)\n",
    "print(\"COMPARACIÓN DE MODELOS\")\n",
    "print(\"=\"*70)\n",
    "print(modelos_comparacion.to_string(index=False))\n",
    "\n",
    "print(\"\\n💡 ¿Qué modelo es mejor?\")\n",
    "print(f\"   El modelo múltiple explica {modelo_multi.rsquared*100:.1f}% de la varianza\")\n",
    "print(f\"   vs {r_value**2*100:.1f}% del mejor modelo simple\")\n",
    "print(f\"   → Mejora de {(modelo_multi.rsquared - r_value**2)*100:.1f} puntos porcentuales\")"
   ]
  },
  {
   "cell_type": "markdown",
   "metadata": {},
   "source": [
    "## 12. Predicciones con Modelo Múltiple"
   ]
  },
  {
   "cell_type": "code",
   "execution_count": null,
   "metadata": {},
   "outputs": [],
   "source": [
    "# Ejemplo de predicción\n",
    "print(\"EJEMPLO DE PREDICCIÓN CON MODELO MÚLTIPLE\")\n",
    "print(\"=\"*70)\n",
    "\n",
    "# Nuevo caso\n",
    "nuevo_caso = pd.DataFrame({\n",
    "    'const': [1],\n",
    "    'tiempo_espera': [25],\n",
    "    'calidad_atencion': [8],\n",
    "    'tiempo_servicio': [12]\n",
    "})\n",
    "\n",
    "prediccion = modelo_multi.predict(nuevo_caso)\n",
    "\n",
    "print(f\"\\nCaracterísticas del beneficiario:\")\n",
    "print(f\"  Tiempo de espera: 25 minutos\")\n",
    "print(f\"  Calidad de atención: 8/10\")\n",
    "print(f\"  Tiempo de servicio: 12 meses\")\n",
    "print(f\"\\nSatisfacción predicha: {prediccion[0]:.2f}/10\")"
   ]
  },
  {
   "cell_type": "markdown",
   "metadata": {},
   "source": [
    "## 13. Reporte Ejecutivo"
   ]
  },
  {
   "cell_type": "code",
   "execution_count": null,
   "metadata": {},
   "outputs": [],
   "source": [
    "print(\"=\"*70)\n",
    "print(\"REPORTE EJECUTIVO - REGRESIÓN Y CORRELACIÓN\")\n",
    "print(\"=\"*70)\n",
    "\n",
    "print(\"\\n🎯 OBJETIVO:\")\n",
    "print(\"   Identificar factores que predicen la satisfacción del cliente\")\n",
    "\n",
    "print(\"\\n📊 HALLAZGOS PRINCIPALES:\")\n",
    "\n",
    "# Top 3 correlaciones con satisfacción\n",
    "top_corr = correlacion['satisfaccion'].drop('satisfaccion').abs().sort_values(ascending=False).head(3)\n",
    "print(\"\\n   Variables más correlacionadas con satisfacción:\")\n",
    "for i, (var, val) in enumerate(top_corr.items(), 1):\n",
    "    direccion = \"positiva\" if correlacion.loc[var, 'satisfaccion'] > 0 else \"negativa\"\n",
    "    print(f\"   {i}. {var}: r = {correlacion.loc[var, 'satisfaccion']:.3f} ({direccion})\")\n",
    "\n",
    "print(f\"\\n💡 MODELO RECOMENDADO: Regresión Múltiple\")\n",
    "print(f\"   R² = {modelo_multi.rsquared:.4f} ({modelo_multi.rsquared*100:.1f}% de varianza explicada)\")\n",
    "print(f\"\\n   Variables significativas:\")\n",
    "\n",
    "for var in ['tiempo_espera', 'calidad_atencion', 'tiempo_servicio']:\n",
    "    if modelo_multi.pvalues[var] < 0.05:\n",
    "        coef = modelo_multi.params[var]\n",
    "        print(f\"   • {var}: β = {coef:.4f} (p < 0.05)\")\n",
    "\n",
    "print(\"\\n📌 RECOMENDACIONES:\")\n",
    "if modelo_multi.params['tiempo_espera'] < 0 and modelo_multi.pvalues['tiempo_espera'] < 0.05:\n",
    "    print(\"   1. Reducir tiempos de espera para mejorar satisfacción\")\n",
    "if modelo_multi.params['calidad_atencion'] > 0 and modelo_multi.pvalues['calidad_atencion'] < 0.05:\n",
    "    print(\"   2. Invertir en capacitación para mejorar calidad de atención\")\n",
    "\n",
    "print(\"\\n\" + \"=\"*70)"
   ]
  },
  {
   "cell_type": "markdown",
   "metadata": {},
   "source": [
    "## 14. Ejercicios Propuestos\n",
    "\n",
    "### Ejercicio 1: Edad vs Satisfacción\n",
    "Crea un modelo de regresión simple entre edad y satisfacción. ¿Es significativo?\n",
    "\n",
    "### Ejercicio 2: Modelo Reducido\n",
    "Elimina las variables NO significativas del modelo múltiple y vuelve a ajustar. ¿Mejora el R² ajustado?\n",
    "\n",
    "### Ejercicio 3: Residuos\n",
    "Identifica observaciones con residuos grandes (>2 SD). ¿Son outliers?\n",
    "\n",
    "### Ejercicio 4: Interacciones\n",
    "Crea un modelo con término de interacción: `tiempo_espera * calidad_atencion`\n"
   ]
  },
  {
   "cell_type": "code",
   "execution_count": null,
   "metadata": {},
   "outputs": [],
   "source": [
    "# Tu código aquí\n"
   ]
  },
  {
   "cell_type": "markdown",
   "metadata": {},
   "source": [
    "---\n",
    "\n",
    "## Resumen\n",
    "\n",
    "En este notebook aprendiste a:\n",
    "- ✓ Calcular e interpretar correlaciones de Pearson\n",
    "- ✓ Crear modelos de regresión lineal simple\n",
    "- ✓ Interpretar coeficientes (intercepto, pendiente, R²)\n",
    "- ✓ Verificar supuestos de regresión (linealidad, normalidad, homocedasticidad)\n",
    "- ✓ Hacer predicciones con modelos\n",
    "- ✓ Construir modelos de regresión múltiple\n",
    "- ✓ Comparar modelos y seleccionar el mejor\n",
    "- ✓ Interpretar resultados en contexto de negocio\n",
    "\n",
    "**¡Felicidades!** Has completado el Módulo 1 de Estadística.\n",
    "\n",
    "**Siguiente módulo:** Ética, Compromiso Social y Diagnóstico Estratégico (Semana 3)\n"
   ]
  }
 ],
 "metadata": {
  "kernelspec": {
   "display_name": "Python 3",
   "language": "python",
   "name": "python3"
  },
  "language_info": {
   "codemirror_mode": {
    "name": "ipython",
    "version": 3
   },
   "file_extension": ".py",
   "mimetype": "text/x-python",
   "name": "python",
   "nbconvert_exporter": "python",
   "pygments_lexer": "ipython3",
   "version": "3.10.0"
  }
 },
 "nbformat": 4,
 "nbformat_minor": 4
}
