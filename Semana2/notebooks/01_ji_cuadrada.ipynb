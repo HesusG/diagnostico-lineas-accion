{
 "cells": [
  {
   "cell_type": "markdown",
   "metadata": {},
   "source": [
    "# Prueba Ji-Cuadrada (χ²) de Independencia\n",
    "\n",
    "## Objetivos\n",
    "- Entender cuándo usar la prueba Ji-cuadrada\n",
    "- Crear y analizar tablas de contingencia\n",
    "- Interpretar el estadístico χ² y p-value\n",
    "- Analizar residuos estandarizados\n",
    "- Calcular medidas de asociación (Cramér's V)\n",
    "\n",
    "---"
   ]
  },
  {
   "cell_type": "markdown",
   "metadata": {},
   "source": [
    "## 1. Preparación"
   ]
  },
  {
   "cell_type": "code",
   "execution_count": null,
   "metadata": {},
   "outputs": [],
   "source": [
    "import pandas as pd\n",
    "import numpy as np\n",
    "from scipy.stats import chi2_contingency, chi2\n",
    "import matplotlib.pyplot as plt\n",
    "import seaborn as sns\n",
    "\n",
    "# Configuración\n",
    "plt.style.use('seaborn-v0_8-whitegrid')\n",
    "sns.set_palette(\"Set2\")\n",
    "%matplotlib inline\n",
    "\n",
    "# Cargar datos\n",
    "df = pd.read_csv('../datos/ejemplo_satisfaccion_clientes.csv')\n",
    "print(f\"Dataset cargado: {df.shape[0]} registros\")\n",
    "df.head()"
   ]
  },
  {
   "cell_type": "markdown",
   "metadata": {},
   "source": [
    "## 2. Recordatorio: ¿Cuándo usar Ji-Cuadrada?\n",
    "\n",
    "✅ **Usar cuando:**\n",
    "- Ambas variables son **categóricas**\n",
    "- Quieres probar si hay **asociación/relación** entre ellas\n",
    "- Tienes datos de frecuencias o conteos\n",
    "\n",
    "**Pregunta de investigación:**\n",
    "> ¿El área de servicio está relacionada con el nivel de satisfacción?\n",
    "\n",
    "---"
   ]
  },
  {
   "cell_type": "markdown",
   "metadata": {},
   "source": [
    "## 3. Preparación de Datos: Categorizar Variables\n",
    "\n",
    "Primero, convertimos satisfacción (numérica) en categórica:"
   ]
  },
  {
   "cell_type": "code",
   "execution_count": null,
   "metadata": {},
   "outputs": [],
   "source": [
    "# Crear variable categórica de satisfacción\n",
    "# Baja: 1-6, Media: 7-8, Alta: 9-10\n",
    "df['satisfaccion_cat'] = pd.cut(df['satisfaccion'],\n",
    "                                  bins=[0, 6, 8, 10],\n",
    "                                  labels=['Baja', 'Media', 'Alta'])\n",
    "\n",
    "print(\"Distribución de satisfacción categorizada:\")\n",
    "print(df['satisfaccion_cat'].value_counts().sort_index())\n",
    "\n",
    "# Verificar que no haya valores nulos\n",
    "print(f\"\\nValores nulos: {df['satisfaccion_cat'].isnull().sum()}\")"
   ]
  },
  {
   "cell_type": "markdown",
   "metadata": {},
   "source": [
    "## 4. Tabla de Contingencia\n",
    "\n",
    "Una **tabla de contingencia** muestra las frecuencias de las combinaciones de dos variables categóricas."
   ]
  },
  {
   "cell_type": "code",
   "execution_count": null,
   "metadata": {},
   "outputs": [],
   "source": [
    "# Crear tabla de contingencia\n",
    "tabla = pd.crosstab(df['area'], df['satisfaccion_cat'])\n",
    "\n",
    "print(\"=\"*60)\n",
    "print(\"TABLA DE CONTINGENCIA: Área vs Satisfacción\")\n",
    "print(\"=\"*60)\n",
    "print(tabla)\n",
    "print(\"\\nTotal de observaciones:\", tabla.sum().sum())"
   ]
  },
  {
   "cell_type": "code",
   "execution_count": null,
   "metadata": {},
   "outputs": [],
   "source": [
    "# Tabla con totales marginales\n",
    "tabla_con_totales = pd.crosstab(df['area'], df['satisfaccion_cat'], margins=True, margins_name='TOTAL')\n",
    "print(\"\\nTabla con Totales Marginales:\")\n",
    "print(tabla_con_totales)"
   ]
  },
  {
   "cell_type": "markdown",
   "metadata": {},
   "source": [
    "## 5. Visualización de la Tabla de Contingencia"
   ]
  },
  {
   "cell_type": "code",
   "execution_count": null,
   "metadata": {},
   "outputs": [],
   "source": [
    "# Heatmap de frecuencias observadas\n",
    "plt.figure(figsize=(10, 6))\n",
    "sns.heatmap(tabla, annot=True, fmt='d', cmap='Blues', cbar_kws={'label': 'Frecuencia'})\n",
    "plt.title('Frecuencias Observadas: Área vs Satisfacción', fontsize=14, fontweight='bold')\n",
    "plt.xlabel('Nivel de Satisfacción', fontsize=12)\n",
    "plt.ylabel('Área', fontsize=12)\n",
    "plt.tight_layout()\n",
    "plt.show()"
   ]
  },
  {
   "cell_type": "code",
   "execution_count": null,
   "metadata": {},
   "outputs": [],
   "source": [
    "# Gráfico de barras apiladas\n",
    "tabla.plot(kind='bar', stacked=True, figsize=(10, 6), colormap='viridis', edgecolor='black')\n",
    "plt.title('Distribución de Satisfacción por Área', fontsize=14, fontweight='bold')\n",
    "plt.xlabel('Área', fontsize=12)\n",
    "plt.ylabel('Frecuencia', fontsize=12)\n",
    "plt.legend(title='Satisfacción', bbox_to_anchor=(1.05, 1), loc='upper left')\n",
    "plt.xticks(rotation=0)\n",
    "plt.grid(alpha=0.3, axis='y')\n",
    "plt.tight_layout()\n",
    "plt.show()"
   ]
  },
  {
   "cell_type": "code",
   "execution_count": null,
   "metadata": {},
   "outputs": [],
   "source": [
    "# Gráfico de barras agrupadas (alternativa)\n",
    "tabla.plot(kind='bar', figsize=(12, 6), colormap='Set2', edgecolor='black')\n",
    "plt.title('Comparación de Satisfacción entre Áreas', fontsize=14, fontweight='bold')\n",
    "plt.xlabel('Área', fontsize=12)\n",
    "plt.ylabel('Frecuencia', fontsize=12)\n",
    "plt.legend(title='Satisfacción')\n",
    "plt.xticks(rotation=0)\n",
    "plt.grid(alpha=0.3, axis='y')\n",
    "plt.tight_layout()\n",
    "plt.show()"
   ]
  },
  {
   "cell_type": "markdown",
   "metadata": {},
   "source": [
    "## 6. Proporciones (Análisis Descriptivo)"
   ]
  },
  {
   "cell_type": "code",
   "execution_count": null,
   "metadata": {},
   "outputs": [],
   "source": [
    "# Proporciones por fila (% dentro de cada área)\n",
    "proporciones_fila = tabla.div(tabla.sum(axis=1), axis=0) * 100\n",
    "\n",
    "print(\"Proporciones por Área (% de cada columna dentro de cada fila):\")\n",
    "print(proporciones_fila.round(2))\n",
    "\n",
    "# Interpretación\n",
    "print(\"\\n💡 Interpretación:\")\n",
    "for area in proporciones_fila.index:\n",
    "    categoria_max = proporciones_fila.loc[area].idxmax()\n",
    "    porcentaje_max = proporciones_fila.loc[area].max()\n",
    "    print(f\"   • {area}: {porcentaje_max:.1f}% tienen satisfacción {categoria_max}\")"
   ]
  },
  {
   "cell_type": "code",
   "execution_count": null,
   "metadata": {},
   "outputs": [],
   "source": [
    "# Visualizar proporciones\n",
    "proporciones_fila.plot(kind='bar', stacked=True, figsize=(10, 6), colormap='viridis', edgecolor='black')\n",
    "plt.title('Distribución Porcentual de Satisfacción por Área', fontsize=14, fontweight='bold')\n",
    "plt.xlabel('Área', fontsize=12)\n",
    "plt.ylabel('Porcentaje (%)', fontsize=12)\n",
    "plt.legend(title='Satisfacción', bbox_to_anchor=(1.05, 1), loc='upper left')\n",
    "plt.xticks(rotation=0)\n",
    "plt.ylim(0, 100)\n",
    "plt.grid(alpha=0.3, axis='y')\n",
    "plt.tight_layout()\n",
    "plt.show()"
   ]
  },
  {
   "cell_type": "markdown",
   "metadata": {},
   "source": [
    "## 7. Prueba Ji-Cuadrada de Independencia\n",
    "\n",
    "### Hipótesis:\n",
    "- **H₀:** Área y Satisfacción son **independientes** (no hay relación)\n",
    "- **H₁:** Área y Satisfacción **NO son independientes** (sí hay relación)"
   ]
  },
  {
   "cell_type": "code",
   "execution_count": null,
   "metadata": {},
   "outputs": [],
   "source": [
    "# Realizar prueba Ji-cuadrada\n",
    "chi2_stat, p_value, dof, expected = chi2_contingency(tabla)\n",
    "\n",
    "print(\"=\"*60)\n",
    "print(\"RESULTADOS DE LA PRUEBA JI-CUADRADA\")\n",
    "print(\"=\"*60)\n",
    "print(f\"Estadístico χ²: {chi2_stat:.4f}\")\n",
    "print(f\"p-value: {p_value:.4f}\")\n",
    "print(f\"Grados de libertad: {dof}\")\n",
    "print(f\"Nivel de significancia (α): 0.05\")\n",
    "print(\"=\"*60)"
   ]
  },
  {
   "cell_type": "code",
   "execution_count": null,
   "metadata": {},
   "outputs": [],
   "source": [
    "# Decisión\n",
    "alpha = 0.05\n",
    "\n",
    "print(\"\\n📊 DECISIÓN:\")\n",
    "if p_value < alpha:\n",
    "    print(f\"   p-value ({p_value:.4f}) < α ({alpha})\")\n",
    "    print(\"   ✗ RECHAZAMOS H₀\")\n",
    "    print(\"\\n💡 CONCLUSIÓN:\")\n",
    "    print(\"   Existe una RELACIÓN SIGNIFICATIVA entre el área de servicio y la satisfacción.\")\n",
    "    print(\"   El área donde se brinda el servicio SÍ influye en el nivel de satisfacción.\")\n",
    "else:\n",
    "    print(f\"   p-value ({p_value:.4f}) ≥ α ({alpha})\")\n",
    "    print(\"   ✓ NO RECHAZAMOS H₀\")\n",
    "    print(\"\\n💡 CONCLUSIÓN:\")\n",
    "    print(\"   No hay evidencia suficiente de relación entre área y satisfacción.\")\n",
    "    print(\"   Las variables parecen ser independientes.\")"
   ]
  },
  {
   "cell_type": "markdown",
   "metadata": {},
   "source": [
    "## 8. Frecuencias Esperadas\n",
    "\n",
    "Las **frecuencias esperadas** son las que esperaríamos si las variables fueran independientes."
   ]
  },
  {
   "cell_type": "code",
   "execution_count": null,
   "metadata": {},
   "outputs": [],
   "source": [
    "# Convertir a DataFrame para mejor visualización\n",
    "tabla_esperada = pd.DataFrame(expected,\n",
    "                               index=tabla.index,\n",
    "                               columns=tabla.columns)\n",
    "\n",
    "print(\"Frecuencias Esperadas (bajo H₀):\")\n",
    "print(tabla_esperada.round(2))"
   ]
  },
  {
   "cell_type": "code",
   "execution_count": null,
   "metadata": {},
   "outputs": [],
   "source": [
    "# Comparación visual: Observadas vs Esperadas\n",
    "fig, axes = plt.subplots(1, 2, figsize=(16, 6))\n",
    "\n",
    "# Frecuencias Observadas\n",
    "sns.heatmap(tabla, annot=True, fmt='d', cmap='Blues', ax=axes[0], cbar_kws={'label': 'Frecuencia'})\n",
    "axes[0].set_title('Frecuencias Observadas', fontsize=14, fontweight='bold')\n",
    "axes[0].set_xlabel('Satisfacción')\n",
    "axes[0].set_ylabel('Área')\n",
    "\n",
    "# Frecuencias Esperadas\n",
    "sns.heatmap(tabla_esperada, annot=True, fmt='.1f', cmap='Oranges', ax=axes[1], cbar_kws={'label': 'Frecuencia'})\n",
    "axes[1].set_title('Frecuencias Esperadas (H₀)', fontsize=14, fontweight='bold')\n",
    "axes[1].set_xlabel('Satisfacción')\n",
    "axes[1].set_ylabel('Área')\n",
    "\n",
    "plt.tight_layout()\n",
    "plt.show()"
   ]
  },
  {
   "cell_type": "markdown",
   "metadata": {},
   "source": [
    "## 9. Verificación de Supuestos"
   ]
  },
  {
   "cell_type": "code",
   "execution_count": null,
   "metadata": {},
   "outputs": [],
   "source": [
    "# Supuesto: Frecuencias esperadas ≥ 5 en al menos 80% de las celdas\n",
    "celdas_total = expected.size\n",
    "celdas_bajas = (expected < 5).sum()\n",
    "porcentaje_bajas = (celdas_bajas / celdas_total) * 100\n",
    "\n",
    "print(\"=\"*60)\n",
    "print(\"VERIFICACIÓN DE SUPUESTOS\")\n",
    "print(\"=\"*60)\n",
    "print(f\"Total de celdas: {celdas_total}\")\n",
    "print(f\"Celdas con frecuencia esperada < 5: {celdas_bajas}\")\n",
    "print(f\"Porcentaje: {porcentaje_bajas:.1f}%\")\n",
    "\n",
    "if porcentaje_bajas > 20:\n",
    "    print(\"\\n⚠️ ADVERTENCIA: Más del 20% de celdas tienen frecuencia esperada < 5\")\n",
    "    print(\"   Considerar:\")\n",
    "    print(\"   1. Combinar categorías\")\n",
    "    print(\"   2. Usar Test Exacto de Fisher (para tablas 2x2)\")\n",
    "    print(\"   3. Aumentar tamaño muestral\")\n",
    "else:\n",
    "    print(\"\\n✓ Supuesto CUMPLIDO: La prueba Ji-cuadrada es válida\")"
   ]
  },
  {
   "cell_type": "markdown",
   "metadata": {},
   "source": [
    "## 10. Residuos Estandarizados\n",
    "\n",
    "Los **residuos** indican qué celdas contribuyen más al estadístico χ²."
   ]
  },
  {
   "cell_type": "code",
   "execution_count": null,
   "metadata": {},
   "outputs": [],
   "source": [
    "# Calcular residuos estandarizados\n",
    "residuos = (tabla - tabla_esperada) / np.sqrt(tabla_esperada)\n",
    "\n",
    "print(\"Residuos Estandarizados:\")\n",
    "print(residuos.round(2))\n",
    "\n",
    "print(\"\\n📊 Interpretación:\")\n",
    "print(\"   |residuo| > 2: Contribución significativa al χ²\")\n",
    "print(\"   |residuo| > 3: Contribución muy significativa\")\n",
    "print(\"   Positivo: Más casos observados de lo esperado\")\n",
    "print(\"   Negativo: Menos casos observados de lo esperado\")"
   ]
  },
  {
   "cell_type": "code",
   "execution_count": null,
   "metadata": {},
   "outputs": [],
   "source": [
    "# Visualizar residuos\n",
    "plt.figure(figsize=(10, 6))\n",
    "sns.heatmap(residuos, annot=True, fmt='.2f', cmap='RdBu_r', center=0,\n",
    "            vmin=-3, vmax=3, cbar_kws={'label': 'Residuo Estandarizado'})\n",
    "plt.title('Residuos Estandarizados', fontsize=14, fontweight='bold')\n",
    "plt.xlabel('Nivel de Satisfacción', fontsize=12)\n",
    "plt.ylabel('Área', fontsize=12)\n",
    "plt.tight_layout()\n",
    "plt.show()"
   ]
  },
  {
   "cell_type": "code",
   "execution_count": null,
   "metadata": {},
   "outputs": [],
   "source": [
    "# Identificar celdas con mayor contribución\n",
    "print(\"\\nCeldas con |residuo| > 2 (contribución significativa):\")\n",
    "for area in residuos.index:\n",
    "    for nivel in residuos.columns:\n",
    "        res = residuos.loc[area, nivel]\n",
    "        if abs(res) > 2:\n",
    "            direccion = \"MÁS\" if res > 0 else \"MENOS\"\n",
    "            print(f\"   • {area} - {nivel}: residuo = {res:.2f}\")\n",
    "            print(f\"     → {direccion} casos de lo esperado\")"
   ]
  },
  {
   "cell_type": "markdown",
   "metadata": {},
   "source": [
    "## 11. Medida de Asociación: Cramér's V"
   ]
  },
  {
   "cell_type": "code",
   "execution_count": null,
   "metadata": {},
   "outputs": [],
   "source": [
    "# Calcular Cramér's V (medida de fuerza de asociación)\n",
    "n = tabla.sum().sum()\n",
    "min_dim = min(tabla.shape[0] - 1, tabla.shape[1] - 1)\n",
    "cramers_v = np.sqrt(chi2_stat / (n * min_dim))\n",
    "\n",
    "print(\"=\"*60)\n",
    "print(\"CRAMÉR'S V (Fuerza de Asociación)\")\n",
    "print(\"=\"*60)\n",
    "print(f\"V de Cramér: {cramers_v:.4f}\")\n",
    "\n",
    "# Interpretación\n",
    "if cramers_v < 0.1:\n",
    "    fuerza = \"Asociación DÉBIL o NULA\"\n",
    "elif cramers_v < 0.3:\n",
    "    fuerza = \"Asociación MODERADA\"\n",
    "else:\n",
    "    fuerza = \"Asociación FUERTE\"\n",
    "\n",
    "print(f\"Interpretación: {fuerza}\")\n",
    "print(\"\\nEscala:\")\n",
    "print(\"   V < 0.1: Débil\")\n",
    "print(\"   0.1 ≤ V < 0.3: Moderada\")\n",
    "print(\"   V ≥ 0.3: Fuerte\")"
   ]
  },
  {
   "cell_type": "markdown",
   "metadata": {},
   "source": [
    "## 12. Segundo Ejemplo: Género vs Recomendación"
   ]
  },
  {
   "cell_type": "code",
   "execution_count": null,
   "metadata": {},
   "outputs": [],
   "source": [
    "# Crear tabla de contingencia\n",
    "tabla2 = pd.crosstab(df['genero'], df['recomendaria'])\n",
    "\n",
    "print(\"=\"*60)\n",
    "print(\"EJEMPLO 2: GÉNERO vs RECOMENDACIÓN\")\n",
    "print(\"=\"*60)\n",
    "print(\"\\nTabla de Contingencia:\")\n",
    "print(tabla2)\n",
    "\n",
    "# Prueba Ji-cuadrada\n",
    "chi2_2, p_2, dof_2, expected_2 = chi2_contingency(tabla2)\n",
    "\n",
    "print(f\"\\nResultados:\")\n",
    "print(f\"   χ² = {chi2_2:.4f}\")\n",
    "print(f\"   p-value = {p_2:.4f}\")\n",
    "print(f\"   grados de libertad = {dof_2}\")\n",
    "\n",
    "# Decisión\n",
    "if p_2 < 0.05:\n",
    "    print(f\"\\n✗ Rechazamos H₀ (p={p_2:.4f} < 0.05)\")\n",
    "    print(\"   Conclusión: Hay relación entre género y recomendación\")\n",
    "else:\n",
    "    print(f\"\\n✓ No rechazamos H₀ (p={p_2:.4f} ≥ 0.05)\")\n",
    "    print(\"   Conclusión: No hay relación entre género y recomendación\")"
   ]
  },
  {
   "cell_type": "code",
   "execution_count": null,
   "metadata": {},
   "outputs": [],
   "source": [
    "# Visualización\n",
    "fig, axes = plt.subplots(1, 2, figsize=(14, 5))\n",
    "\n",
    "# Heatmap\n",
    "sns.heatmap(tabla2, annot=True, fmt='d', cmap='Greens', ax=axes[0])\n",
    "axes[0].set_title('Género vs Recomendación', fontweight='bold')\n",
    "axes[0].set_xlabel('Recomendaría')\n",
    "axes[0].set_ylabel('Género')\n",
    "\n",
    "# Gráfico de barras\n",
    "tabla2.plot(kind='bar', ax=axes[1], color=['salmon', 'lightgreen'], edgecolor='black')\n",
    "axes[1].set_title('Distribución de Recomendación por Género', fontweight='bold')\n",
    "axes[1].set_xlabel('Género')\n",
    "axes[1].set_ylabel('Frecuencia')\n",
    "axes[1].set_xticklabels(axes[1].get_xticklabels(), rotation=0)\n",
    "axes[1].legend(title='Recomendaría')\n",
    "axes[1].grid(alpha=0.3, axis='y')\n",
    "\n",
    "plt.tight_layout()\n",
    "plt.show()"
   ]
  },
  {
   "cell_type": "markdown",
   "metadata": {},
   "source": [
    "## 13. Reporte Ejecutivo"
   ]
  },
  {
   "cell_type": "code",
   "execution_count": null,
   "metadata": {},
   "outputs": [],
   "source": [
    "print(\"=\"*70)\n",
    "print(\"REPORTE EJECUTIVO - PRUEBA JI-CUADRADA\")\n",
    "print(\"=\"*70)\n",
    "\n",
    "print(\"\\n🔬 PRUEBA 1: Área vs Satisfacción\")\n",
    "print(f\"   χ² = {chi2_stat:.4f}, p-value = {p_value:.4f}\")\n",
    "print(f\"   V de Cramér = {cramers_v:.4f}\")\n",
    "\n",
    "if p_value < 0.05:\n",
    "    print(\"   ✗ Existe relación significativa\")\n",
    "    print(\"\\n   📊 Hallazgos Clave:\")\n",
    "    \n",
    "    # Identificar área con mayor satisfacción alta\n",
    "    prop_alta = proporciones_fila['Alta']\n",
    "    mejor_area = prop_alta.idxmax()\n",
    "    peor_area = prop_alta.idxmin()\n",
    "    \n",
    "    print(f\"   • Área {mejor_area}: {prop_alta.max():.1f}% con satisfacción alta\")\n",
    "    print(f\"   • Área {peor_area}: {prop_alta.min():.1f}% con satisfacción alta\")\n",
    "    print(f\"\\n   💡 Recomendación: Investigar mejores prácticas del Área {mejor_area}\")\n",
    "else:\n",
    "    print(\"   ✓ No hay relación significativa\")\n",
    "    print(\"   La satisfacción es similar entre áreas\")\n",
    "\n",
    "print(\"\\n🔬 PRUEBA 2: Género vs Recomendación\")\n",
    "print(f\"   χ² = {chi2_2:.4f}, p-value = {p_2:.4f}\")\n",
    "\n",
    "if p_2 < 0.05:\n",
    "    print(\"   ✗ Existe relación significativa\")\n",
    "else:\n",
    "    print(\"   ✓ No hay relación significativa\")\n",
    "    print(\"   La tasa de recomendación es similar entre géneros\")\n",
    "\n",
    "print(\"\\n\" + \"=\"*70)"
   ]
  },
  {
   "cell_type": "markdown",
   "metadata": {},
   "source": [
    "## 14. Ejercicios Propuestos\n",
    "\n",
    "### Ejercicio 1: Área vs Recomendación\n",
    "¿Existe relación entre el área de servicio y si los beneficiarios recomendarían el servicio?\n",
    "\n",
    "### Ejercicio 2: Grupos de Edad\n",
    "Crea grupos de edad (Joven: <35, Adulto: 35-55, Mayor: >55) y prueba si hay relación con satisfacción.\n",
    "\n",
    "### Ejercicio 3: Análisis de Residuos\n",
    "Para cualquier combinación que encuentres significativa, analiza los residuos estandarizados e identifica qué celdas contribuyen más.\n",
    "\n",
    "### Ejercicio 4: Combinaciones Múltiples\n",
    "Explora otras combinaciones de variables categóricas:\n",
    "- Tiempo de servicio (categorizado) vs Satisfacción\n",
    "- Género vs Área\n"
   ]
  },
  {
   "cell_type": "code",
   "execution_count": null,
   "metadata": {},
   "outputs": [],
   "source": [
    "# Tu código aquí\n"
   ]
  },
  {
   "cell_type": "markdown",
   "metadata": {},
   "source": [
    "---\n",
    "\n",
    "## Resumen\n",
    "\n",
    "En este notebook aprendiste a:\n",
    "- ✓ Crear y analizar tablas de contingencia\n",
    "- ✓ Realizar la prueba Ji-cuadrada de independencia\n",
    "- ✓ Interpretar el estadístico χ² y p-value\n",
    "- ✓ Calcular y visualizar frecuencias esperadas\n",
    "- ✓ Analizar residuos estandarizados para identificar celdas clave\n",
    "- ✓ Calcular Cramér's V como medida de asociación\n",
    "- ✓ Verificar supuestos de la prueba\n",
    "- ✓ Interpretar resultados en contexto de negocio\n",
    "\n",
    "**Siguiente notebook:** ANOVA (Análisis de Varianza)\n"
   ]
  }
 ],
 "metadata": {
  "kernelspec": {
   "display_name": "Python 3",
   "language": "python",
   "name": "python3"
  },
  "language_info": {
   "codemirror_mode": {
    "name": "ipython",
    "version": 3
   },
   "file_extension": ".py",
   "mimetype": "text/x-python",
   "name": "python",
   "nbconvert_exporter": "python",
   "pygments_lexer": "ipython3",
   "version": "3.10.0"
  }
 },
 "nbformat": 4,
 "nbformat_minor": 4
}
