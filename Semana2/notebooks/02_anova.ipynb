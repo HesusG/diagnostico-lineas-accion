{
 "cells": [
  {
   "cell_type": "markdown",
   "metadata": {},
   "source": [
    "# ANOVA (Análisis de Varianza)\n",
    "\n",
    "## Objetivos\n",
    "- Entender cuándo usar ANOVA vs múltiples pruebas t\n",
    "- Realizar ANOVA de un factor\n",
    "- Verificar supuestos (normalidad, homogeneidad de varianzas)\n",
    "- Aplicar pruebas post-hoc (Tukey, Bonferroni)\n",
    "- Calcular tamaño del efecto (η²)\n",
    "- Usar alternativas no paramétricas (Kruskal-Wallis)\n",
    "\n",
    "---"
   ]
  },
  {
   "cell_type": "markdown",
   "metadata": {},
   "source": [
    "## 1. Preparación"
   ]
  },
  {
   "cell_type": "code",
   "execution_count": null,
   "metadata": {},
   "outputs": [],
   "source": [
    "import pandas as pd\n",
    "import numpy as np\n",
    "from scipy import stats\n",
    "import matplotlib.pyplot as plt\n",
    "import seaborn as sns\n",
    "import statsmodels.api as sm\n",
    "from statsmodels.formula.api import ols\n",
    "from statsmodels.stats.multicomp import pairwise_tukeyhsd, MultiComparison\n",
    "\n",
    "# Configuración\n",
    "plt.style.use('seaborn-v0_8-whitegrid')\n",
    "sns.set_palette(\"Set2\")\n",
    "%matplotlib inline\n",
    "\n",
    "# Cargar datos\n",
    "df = pd.read_csv('../datos/ejemplo_satisfaccion_clientes.csv')\n",
    "print(f\"Dataset cargado: {df.shape[0]} registros\")\n",
    "print(f\"Áreas disponibles: {df['area'].unique()}\")"
   ]
  },
  {
   "cell_type": "markdown",
   "metadata": {},
   "source": [
    "## 2. Recordatorio: ¿Por qué ANOVA?\n",
    "\n",
    "### Problema con múltiples pruebas t:\n",
    "\n",
    "Si queremos comparar 4 áreas, necesitaríamos **6 pruebas t**:\n",
    "- Norte vs Sur\n",
    "- Norte vs Este  \n",
    "- Norte vs Oeste\n",
    "- Sur vs Este\n",
    "- Sur vs Oeste\n",
    "- Este vs Oeste\n",
    "\n",
    "❌ **Problema:** Con α=0.05, la probabilidad de Error Tipo I se infla.\n",
    "\n",
    "✅ **Solución:** ANOVA hace **UNA sola prueba** que controla el error global.\n",
    "\n",
    "### Pregunta de Investigación:\n",
    "> ¿La satisfacción promedio es diferente entre las 4 áreas de servicio?\n",
    "\n",
    "---"
   ]
  },
  {
   "cell_type": "markdown",
   "metadata": {},
   "source": [
    "## 3. Análisis Descriptivo por Grupos"
   ]
  },
  {
   "cell_type": "code",
   "execution_count": null,
   "metadata": {},
   "outputs": [],
   "source": [
    "# Estadísticos descriptivos por área\n",
    "resumen = df.groupby('area')['satisfaccion'].agg([\n",
    "    ('n', 'count'),\n",
    "    ('Media', 'mean'),\n",
    "    ('Mediana', 'median'),\n",
    "    ('Desv.Std', 'std'),\n",
    "    ('Mínimo', 'min'),\n",
    "    ('Q1', lambda x: x.quantile(0.25)),\n",
    "    ('Q3', lambda x: x.quantile(0.75)),\n",
    "    ('Máximo', 'max')\n",
    "]).round(2)\n",
    "\n",
    "print(\"=\"*80)\n",
    "print(\"ESTADÍSTICOS DESCRIPTIVOS POR ÁREA\")\n",
    "print(\"=\"*80)\n",
    "print(resumen)\n",
    "\n",
    "# Media general\n",
    "media_general = df['satisfaccion'].mean()\n",
    "print(f\"\\nMedia General: {media_general:.2f}\")"
   ]
  },
  {
   "cell_type": "markdown",
   "metadata": {},
   "source": [
    "## 4. Visualización Inicial"
   ]
  },
  {
   "cell_type": "code",
   "execution_count": null,
   "metadata": {},
   "outputs": [],
   "source": [
    "# Boxplot comparativo\n",
    "plt.figure(figsize=(12, 6))\n",
    "df.boxplot(column='satisfaccion', by='area', patch_artist=True, grid=False)\n",
    "plt.suptitle('')  # Eliminar título automático\n",
    "plt.title('Distribución de Satisfacción por Área', fontsize=14, fontweight='bold')\n",
    "plt.xlabel('Área', fontsize=12)\n",
    "plt.ylabel('Satisfacción (1-10)', fontsize=12)\n",
    "plt.axhline(y=media_general, color='red', linestyle='--', linewidth=2, label='Media General')\n",
    "plt.legend()\n",
    "plt.tight_layout()\n",
    "plt.show()"
   ]
  },
  {
   "cell_type": "code",
   "execution_count": null,
   "metadata": {},
   "outputs": [],
   "source": [
    "# Violin plot\n",
    "plt.figure(figsize=(12, 6))\n",
    "sns.violinplot(data=df, x='area', y='satisfaccion', palette='Set2')\n",
    "plt.title('Distribución de Satisfacción por Área (Violin Plot)', fontsize=14, fontweight='bold')\n",
    "plt.xlabel('Área', fontsize=12)\n",
    "plt.ylabel('Satisfacción (1-10)', fontsize=12)\n",
    "plt.axhline(y=media_general, color='red', linestyle='--', linewidth=1.5, label='Media General')\n",
    "plt.legend()\n",
    "plt.grid(alpha=0.3, axis='y')\n",
    "plt.tight_layout()\n",
    "plt.show()"
   ]
  },
  {
   "cell_type": "code",
   "execution_count": null,
   "metadata": {},
   "outputs": [],
   "source": [
    "# Gráfico de medias con intervalos de confianza\n",
    "medias = df.groupby('area')['satisfaccion'].mean()\n",
    "std_errors = df.groupby('area')['satisfaccion'].sem()\n",
    "\n",
    "plt.figure(figsize=(10, 6))\n",
    "medias.plot(kind='bar', yerr=std_errors*1.96, capsize=5, color='steelblue', edgecolor='black')\n",
    "plt.title('Media de Satisfacción por Área (IC 95%)', fontsize=14, fontweight='bold')\n",
    "plt.xlabel('Área', fontsize=12)\n",
    "plt.ylabel('Satisfacción Promedio', fontsize=12)\n",
    "plt.xticks(rotation=0)\n",
    "plt.axhline(y=media_general, color='red', linestyle='--', linewidth=2, label='Media General')\n",
    "plt.ylim(0, 10)\n",
    "plt.legend()\n",
    "plt.grid(alpha=0.3, axis='y')\n",
    "plt.tight_layout()\n",
    "plt.show()"
   ]
  },
  {
   "cell_type": "markdown",
   "metadata": {},
   "source": [
    "## 5. Verificación de Supuestos\n",
    "\n",
    "### Supuesto 1: Normalidad\n",
    "\n",
    "Cada grupo debe seguir una distribución normal."
   ]
  },
  {
   "cell_type": "code",
   "execution_count": null,
   "metadata": {},
   "outputs": [],
   "source": [
    "print(\"=\"*60)\n",
    "print(\"PRUEBA DE NORMALIDAD (SHAPIRO-WILK)\")\n",
    "print(\"=\"*60)\n",
    "\n",
    "normalidad_ok = True\n",
    "for area in df['area'].unique():\n",
    "    datos = df[df['area'] == area]['satisfaccion']\n",
    "    stat, p = stats.shapiro(datos)\n",
    "    resultado = \"✓ Normal\" if p > 0.05 else \"⚠️ No normal\"\n",
    "    print(f\"{area:10s}: W={stat:.4f}, p={p:.4f} {resultado}\")\n",
    "    \n",
    "    if p <= 0.05:\n",
    "        normalidad_ok = False\n",
    "\n",
    "if normalidad_ok:\n",
    "    print(\"\\n✓ Todos los grupos cumplen supuesto de normalidad\")\n",
    "else:\n",
    "    print(\"\\n⚠️ Algunos grupos NO cumplen normalidad\")\n",
    "    print(\"   Considerar:\")\n",
    "    print(\"   1. Transformación de datos (log, raíz cuadrada)\")\n",
    "    print(\"   2. Prueba no paramétrica (Kruskal-Wallis)\")"
   ]
  },
  {
   "cell_type": "code",
   "execution_count": null,
   "metadata": {},
   "outputs": [],
   "source": [
    "# Q-Q plots para cada grupo\n",
    "fig, axes = plt.subplots(2, 2, figsize=(12, 10))\n",
    "areas = df['area'].unique()\n",
    "axes = axes.flatten()\n",
    "\n",
    "for i, area in enumerate(areas):\n",
    "    datos = df[df['area'] == area]['satisfaccion']\n",
    "    stats.probplot(datos, dist=\"norm\", plot=axes[i])\n",
    "    axes[i].set_title(f'Q-Q Plot: {area}', fontweight='bold')\n",
    "    axes[i].grid(alpha=0.3)\n",
    "\n",
    "plt.tight_layout()\n",
    "plt.show()"
   ]
  },
  {
   "cell_type": "markdown",
   "metadata": {},
   "source": [
    "### Supuesto 2: Homogeneidad de Varianzas\n",
    "\n",
    "Las varianzas de los grupos deben ser similares."
   ]
  },
  {
   "cell_type": "code",
   "execution_count": null,
   "metadata": {},
   "outputs": [],
   "source": [
    "# Prueba de Levene\n",
    "grupos = [df[df['area'] == area]['satisfaccion'] for area in df['area'].unique()]\n",
    "stat_levene, p_levene = stats.levene(*grupos)\n",
    "\n",
    "print(\"=\"*60)\n",
    "print(\"PRUEBA DE HOMOGENEIDAD DE VARIANZAS (LEVENE)\")\n",
    "print(\"=\"*60)\n",
    "print(f\"Estadístico: W={stat_levene:.4f}\")\n",
    "print(f\"p-value: {p_levene:.4f}\")\n",
    "\n",
    "if p_levene > 0.05:\n",
    "    print(\"\\n✓ Varianzas HOMOGÉNEAS (usar ANOVA estándar)\")\n",
    "    varianzas_ok = True\n",
    "else:\n",
    "    print(\"\\n⚠️ Varianzas NO homogéneas\")\n",
    "    print(\"   Considerar Welch's ANOVA (no asume varianzas iguales)\")\n",
    "    varianzas_ok = False"
   ]
  },
  {
   "cell_type": "code",
   "execution_count": null,
   "metadata": {},
   "outputs": [],
   "source": [
    "# Visualizar varianzas\n",
    "varianzas = df.groupby('area')['satisfaccion'].var()\n",
    "\n",
    "plt.figure(figsize=(10, 6))\n",
    "varianzas.plot(kind='bar', color='coral', edgecolor='black')\n",
    "plt.title('Varianzas por Área', fontsize=14, fontweight='bold')\n",
    "plt.xlabel('Área', fontsize=12)\n",
    "plt.ylabel('Varianza', fontsize=12)\n",
    "plt.xticks(rotation=0)\n",
    "plt.grid(alpha=0.3, axis='y')\n",
    "plt.tight_layout()\n",
    "plt.show()"
   ]
  },
  {
   "cell_type": "markdown",
   "metadata": {},
   "source": [
    "## 6. ANOVA de Un Factor\n",
    "\n",
    "### Hipótesis:\n",
    "- **H₀:** μ₁ = μ₂ = μ₃ = μ₄ (Todas las medias son iguales)\n",
    "- **H₁:** Al menos una media es diferente"
   ]
  },
  {
   "cell_type": "code",
   "execution_count": null,
   "metadata": {},
   "outputs": [],
   "source": [
    "# Opción 1: ANOVA con scipy\n",
    "norte = df[df['area'] == 'Norte']['satisfaccion']\n",
    "sur = df[df['area'] == 'Sur']['satisfaccion']\n",
    "este = df[df['area'] == 'Este']['satisfaccion']\n",
    "oeste = df[df['area'] == 'Oeste']['satisfaccion']\n",
    "\n",
    "f_stat, p_value = stats.f_oneway(norte, sur, este, oeste)\n",
    "\n",
    "print(\"=\"*60)\n",
    "print(\"ANOVA DE UN FACTOR\")\n",
    "print(\"=\"*60)\n",
    "print(f\"Estadístico F: {f_stat:.4f}\")\n",
    "print(f\"p-value: {p_value:.4f}\")\n",
    "print(\"=\"*60)"
   ]
  },
  {
   "cell_type": "code",
   "execution_count": null,
   "metadata": {},
   "outputs": [],
   "source": [
    "# Opción 2: ANOVA con statsmodels (tabla completa)\n",
    "modelo = ols('satisfaccion ~ C(area)', data=df).fit()\n",
    "tabla_anova = sm.stats.anova_lm(modelo, typ=2)\n",
    "\n",
    "print(\"\\nTabla ANOVA Completa:\")\n",
    "print(tabla_anova)\n",
    "\n",
    "print(\"\\n📊 Explicación de la tabla:\")\n",
    "print(\"   sum_sq: Suma de cuadrados\")\n",
    "print(\"   df: Grados de libertad\")\n",
    "print(\"   F: Estadístico F\")\n",
    "print(\"   PR(>F): p-value\")"
   ]
  },
  {
   "cell_type": "code",
   "execution_count": null,
   "metadata": {},
   "outputs": [],
   "source": [
    "# Decisión\n",
    "alpha = 0.05\n",
    "\n",
    "print(\"\\n\" + \"=\"*60)\n",
    "print(\"DECISIÓN\")\n",
    "print(\"=\"*60)\n",
    "\n",
    "if p_value < alpha:\n",
    "    print(f\"p-value ({p_value:.4f}) < α ({alpha})\")\n",
    "    print(\"✗ RECHAZAMOS H₀\")\n",
    "    print(\"\\n💡 CONCLUSIÓN:\")\n",
    "    print(\"   Al menos una área tiene satisfacción promedio DIFERENTE\")\n",
    "    print(\"   Siguiente paso: Pruebas POST-HOC para identificar cuál(es)\")\n",
    "    realizar_posthoc = True\n",
    "else:\n",
    "    print(f\"p-value ({p_value:.4f}) ≥ α ({alpha})\")\n",
    "    print(\"✓ NO RECHAZAMOS H₀\")\n",
    "    print(\"\\n💡 CONCLUSIÓN:\")\n",
    "    print(\"   No hay evidencia suficiente de diferencias entre áreas\")\n",
    "    print(\"   Las medias son estadísticamente similares\")\n",
    "    realizar_posthoc = False"
   ]
  },
  {
   "cell_type": "markdown",
   "metadata": {},
   "source": [
    "## 7. Tamaño del Efecto (Eta Cuadrado - η²)"
   ]
  },
  {
   "cell_type": "code",
   "execution_count": null,
   "metadata": {},
   "outputs": [],
   "source": [
    "# Calcular Eta cuadrado\n",
    "ss_between = tabla_anova['sum_sq']['C(area)']\n",
    "ss_total = tabla_anova['sum_sq'].sum()\n",
    "eta_squared = ss_between / ss_total\n",
    "\n",
    "print(\"=\"*60)\n",
    "print(\"TAMAÑO DEL EFECTO\")\n",
    "print(\"=\"*60)\n",
    "print(f\"Eta² (η²): {eta_squared:.4f}\")\n",
    "print(f\"\\nInterpretación: {eta_squared*100:.1f}% de la varianza en satisfacción\")\n",
    "print(f\"                es explicada por el área\")\n",
    "\n",
    "# Interpretación del tamaño\n",
    "if eta_squared < 0.01:\n",
    "    print(\"\\nEfecto: PEQUEÑO\")\n",
    "elif eta_squared < 0.06:\n",
    "    print(\"\\nEfecto: MEDIANO\")\n",
    "else:\n",
    "    print(\"\\nEfecto: GRANDE\")\n",
    "\n",
    "print(\"\\nEscala:\")\n",
    "print(\"   η² < 0.01: Pequeño\")\n",
    "print(\"   0.01 ≤ η² < 0.06: Mediano\")\n",
    "print(\"   η² ≥ 0.06: Grande\")"
   ]
  },
  {
   "cell_type": "markdown",
   "metadata": {},
   "source": [
    "## 8. Pruebas Post-Hoc (Si rechazamos H₀)\n",
    "\n",
    "Si ANOVA es significativo, usamos **pruebas post-hoc** para determinar **qué pares** de grupos son diferentes.\n",
    "\n",
    "### Prueba de Tukey (HSD)"
   ]
  },
  {
   "cell_type": "code",
   "execution_count": null,
   "metadata": {},
   "outputs": [],
   "source": [
    "if realizar_posthoc:\n",
    "    print(\"=\"*80)\n",
    "    print(\"PRUEBA POST-HOC: TUKEY HSD\")\n",
    "    print(\"=\"*80)\n",
    "    \n",
    "    # Realizar prueba de Tukey\n",
    "    tukey = pairwise_tukeyhsd(endog=df['satisfaccion'], groups=df['area'], alpha=0.05)\n",
    "    \n",
    "    print(tukey)\n",
    "    \n",
    "    # Visualización\n",
    "    tukey.plot_simultaneous(figsize=(10, 6))\n",
    "    plt.title('Intervalos de Confianza 95% - Prueba de Tukey', fontsize=14, fontweight='bold')\n",
    "    plt.tight_layout()\n",
    "    plt.show()\n",
    "else:\n",
    "    print(\"No se requieren pruebas post-hoc (ANOVA no significativo)\")"
   ]
  },
  {
   "cell_type": "code",
   "execution_count": null,
   "metadata": {},
   "outputs": [],
   "source": [
    "if realizar_posthoc:\n",
    "    # Resumen de diferencias significativas\n",
    "    print(\"\\n📊 RESUMEN DE DIFERENCIAS SIGNIFICATIVAS:\")\n",
    "    print(\"=\"*80)\n",
    "    \n",
    "    tukey_table = tukey.summary()\n",
    "    for i, row in enumerate(tukey_table.data[1:]):\n",
    "        grupo1, grupo2, meandiff, p_adj, lower, upper, reject = row\n",
    "        \n",
    "        if reject:  # Si hay diferencia significativa\n",
    "            direccion = \"mayor\" if meandiff > 0 else \"menor\"\n",
    "            print(f\"\\n• {grupo1} vs {grupo2}:\")\n",
    "            print(f\"  Diferencia de medias: {abs(meandiff):.2f}\")\n",
    "            print(f\"  p-value ajustado: {p_adj:.4f}\")\n",
    "            print(f\"  {grupo1} tiene satisfacción {direccion} que {grupo2}\")"
   ]
  },
  {
   "cell_type": "markdown",
   "metadata": {},
   "source": [
    "### Prueba de Bonferroni (alternativa más conservadora)"
   ]
  },
  {
   "cell_type": "code",
   "execution_count": null,
   "metadata": {},
   "outputs": [],
   "source": [
    "if realizar_posthoc:\n",
    "    print(\"\\n\" + \"=\"*80)\n",
    "    print(\"PRUEBA POST-HOC: BONFERRONI\")\n",
    "    print(\"=\"*80)\n",
    "    \n",
    "    mc = MultiComparison(df['satisfaccion'], df['area'])\n",
    "    resultado_bonf = mc.allpairtest(stats.ttest_ind, method='bonf')\n",
    "    print(resultado_bonf[0])"
   ]
  },
  {
   "cell_type": "markdown",
   "metadata": {},
   "source": [
    "## 9. Alternativa No Paramétrica: Kruskal-Wallis\n",
    "\n",
    "Si **NO se cumplen** los supuestos de normalidad, usamos **Kruskal-Wallis** (ANOVA no paramétrico)."
   ]
  },
  {
   "cell_type": "code",
   "execution_count": null,
   "metadata": {},
   "outputs": [],
   "source": [
    "# Prueba de Kruskal-Wallis\n",
    "h_stat, p_kw = stats.kruskal(norte, sur, este, oeste)\n",
    "\n",
    "print(\"=\"*60)\n",
    "print(\"PRUEBA DE KRUSKAL-WALLIS (NO PARAMÉTRICA)\")\n",
    "print(\"=\"*60)\n",
    "print(f\"Estadístico H: {h_stat:.4f}\")\n",
    "print(f\"p-value: {p_kw:.4f}\")\n",
    "\n",
    "if p_kw < 0.05:\n",
    "    print(\"\\n✗ Rechazamos H₀\")\n",
    "    print(\"   Al menos una área tiene MEDIANA diferente\")\n",
    "    print(\"\\n   Post-hoc: Usar Mann-Whitney U con corrección Bonferroni\")\n",
    "else:\n",
    "    print(\"\\n✓ No rechazamos H₀\")\n",
    "    print(\"   No hay diferencia entre medianas\")"
   ]
  },
  {
   "cell_type": "code",
   "execution_count": null,
   "metadata": {},
   "outputs": [],
   "source": [
    "# Post-hoc para Kruskal-Wallis (Mann-Whitney U con Bonferroni)\n",
    "if p_kw < 0.05:\n",
    "    from itertools import combinations\n",
    "    \n",
    "    areas = df['area'].unique()\n",
    "    n_comparaciones = len(list(combinations(areas, 2)))\n",
    "    alpha_bonf = 0.05 / n_comparaciones  # Corrección de Bonferroni\n",
    "    \n",
    "    print(f\"\\n📊 POST-HOC: MANN-WHITNEY U (α ajustado = {alpha_bonf:.4f})\")\n",
    "    print(\"=\"*80)\n",
    "    \n",
    "    for area1, area2 in combinations(areas, 2):\n",
    "        grupo1 = df[df['area'] == area1]['satisfaccion']\n",
    "        grupo2 = df[df['area'] == area2]['satisfaccion']\n",
    "        \n",
    "        u_stat, p_mw = stats.mannwhitneyu(grupo1, grupo2, alternative='two-sided')\n",
    "        \n",
    "        significativo = \"✗\" if p_mw < alpha_bonf else \"✓\"\n",
    "        print(f\"{area1} vs {area2}: U={u_stat:.1f}, p={p_mw:.4f} {significativo}\")"
   ]
  },
  {
   "cell_type": "markdown",
   "metadata": {},
   "source": [
    "## 10. Comparación: ANOVA vs Kruskal-Wallis"
   ]
  },
  {
   "cell_type": "code",
   "execution_count": null,
   "metadata": {},
   "outputs": [],
   "source": [
    "print(\"=\"*60)\n",
    "print(\"COMPARACIÓN DE PRUEBAS\")\n",
    "print(\"=\"*60)\n",
    "print(f\"ANOVA (paramétrica):          F={f_stat:.4f}, p={p_value:.4f}\")\n",
    "print(f\"Kruskal-Wallis (no param.):   H={h_stat:.4f}, p={p_kw:.4f}\")\n",
    "\n",
    "print(\"\\n💡 ¿Cuál usar?\")\n",
    "if normalidad_ok and varianzas_ok:\n",
    "    print(\"   ✓ Usar ANOVA (supuestos cumplidos)\")\n",
    "else:\n",
    "    print(\"   ⚠️ Preferir Kruskal-Wallis (supuestos no cumplidos)\")"
   ]
  },
  {
   "cell_type": "markdown",
   "metadata": {},
   "source": [
    "## 11. Análisis Adicional: Otra Variable"
   ]
  },
  {
   "cell_type": "code",
   "execution_count": null,
   "metadata": {},
   "outputs": [],
   "source": [
    "# Comparar calidad_atencion entre áreas\n",
    "print(\"=\"*60)\n",
    "print(\"ANÁLISIS ADICIONAL: CALIDAD DE ATENCIÓN POR ÁREA\")\n",
    "print(\"=\"*60)\n",
    "\n",
    "# Descriptivos\n",
    "resumen_calidad = df.groupby('area')['calidad_atencion'].agg(['count', 'mean', 'std']).round(2)\n",
    "print(\"\\nEstadísticos Descriptivos:\")\n",
    "print(resumen_calidad)\n",
    "\n",
    "# ANOVA\n",
    "grupos_calidad = [df[df['area'] == area]['calidad_atencion'] for area in df['area'].unique()]\n",
    "f_cal, p_cal = stats.f_oneway(*grupos_calidad)\n",
    "\n",
    "print(f\"\\nANOVA: F={f_cal:.4f}, p={p_cal:.4f}\")\n",
    "\n",
    "if p_cal < 0.05:\n",
    "    print(\"✗ Hay diferencias significativas en calidad de atención entre áreas\")\n",
    "else:\n",
    "    print(\"✓ No hay diferencias significativas en calidad de atención entre áreas\")"
   ]
  },
  {
   "cell_type": "code",
   "execution_count": null,
   "metadata": {},
   "outputs": [],
   "source": [
    "# Visualización\n",
    "plt.figure(figsize=(12, 6))\n",
    "df.boxplot(column='calidad_atencion', by='area', patch_artist=True, grid=False)\n",
    "plt.suptitle('')\n",
    "plt.title('Calidad de Atención por Área', fontsize=14, fontweight='bold')\n",
    "plt.xlabel('Área', fontsize=12)\n",
    "plt.ylabel('Calidad de Atención (1-10)', fontsize=12)\n",
    "plt.tight_layout()\n",
    "plt.show()"
   ]
  },
  {
   "cell_type": "markdown",
   "metadata": {},
   "source": [
    "## 12. Reporte Ejecutivo"
   ]
  },
  {
   "cell_type": "code",
   "execution_count": null,
   "metadata": {},
   "outputs": [],
   "source": [
    "print(\"=\"*70)\n",
    "print(\"REPORTE EJECUTIVO - ANOVA\")\n",
    "print(\"=\"*70)\n",
    "\n",
    "print(\"\\n🎯 OBJETIVO:\")\n",
    "print(\"   Comparar la satisfacción promedio entre las 4 áreas de servicio\")\n",
    "\n",
    "print(\"\\n📊 DESCRIPTIVOS:\")\n",
    "for area in resumen.index:\n",
    "    print(f\"   • {area}: Media={resumen.loc[area, 'Media']:.2f}, \"\n",
    "          f\"SD={resumen.loc[area, 'Desv.Std']:.2f}, n={int(resumen.loc[area, 'n'])}\")\n",
    "\n",
    "print(\"\\n🔬 RESULTADOS ANOVA:\")\n",
    "print(f\"   F({int(tabla_anova.loc['C(area)', 'df'])}, {int(tabla_anova.loc['Residual', 'df'])}) = {f_stat:.4f}\")\n",
    "print(f\"   p-value = {p_value:.4f}\")\n",
    "print(f\"   η² = {eta_squared:.4f} ({eta_squared*100:.1f}% de varianza explicada)\")\n",
    "\n",
    "print(\"\\n💡 CONCLUSIÓN:\")\n",
    "if p_value < 0.05:\n",
    "    print(\"   Las áreas tienen satisfacción promedio DIFERENTE\")\n",
    "    \n",
    "    if realizar_posthoc:\n",
    "        # Identificar mejor y peor área\n",
    "        mejor_area = medias.idxmax()\n",
    "        peor_area = medias.idxmin()\n",
    "        \n",
    "        print(f\"\\n   🏆 Mejor desempeño: {mejor_area} (Media={medias.max():.2f})\")\n",
    "        print(f\"   ⚠️ Peor desempeño: {peor_area} (Media={medias.min():.2f})\")\n",
    "        print(f\"\\n   📌 Recomendación: Replicar buenas prácticas del {mejor_area} en otras áreas\")\n",
    "else:\n",
    "    print(\"   No hay diferencia significativa entre áreas\")\n",
    "    print(\"   La satisfacción es consistente en todas las ubicaciones\")\n",
    "\n",
    "print(\"\\n\" + \"=\"*70)"
   ]
  },
  {
   "cell_type": "markdown",
   "metadata": {},
   "source": [
    "## 13. Ejercicios Propuestos\n",
    "\n",
    "### Ejercicio 1: Tiempo de Espera\n",
    "Compara `tiempo_espera` entre las 4 áreas. ¿Hay diferencias significativas?\n",
    "\n",
    "### Ejercicio 2: Grupos de Edad\n",
    "Crea 3 grupos de edad:\n",
    "- Joven: < 35 años\n",
    "- Adulto: 35-55 años\n",
    "- Mayor: > 55 años\n",
    "\n",
    "Compara satisfacción entre estos grupos.\n",
    "\n",
    "### Ejercicio 3: Verificar Supuestos\n",
    "Para las comparaciones anteriores, verifica supuestos de normalidad y homogeneidad.\n",
    "\n",
    "### Ejercicio 4: Análisis Completo\n",
    "Realiza un análisis completo (ANOVA + post-hoc + visualizaciones) para `calidad_atencion` por `area`.\n"
   ]
  },
  {
   "cell_type": "code",
   "execution_count": null,
   "metadata": {},
   "outputs": [],
   "source": [
    "# Tu código aquí\n"
   ]
  },
  {
   "cell_type": "markdown",
   "metadata": {},
   "source": [
    "---\n",
    "\n",
    "## Resumen\n",
    "\n",
    "En este notebook aprendiste a:\n",
    "- ✓ Realizar ANOVA de un factor\n",
    "- ✓ Verificar supuestos (normalidad con Shapiro-Wilk, homogeneidad con Levene)\n",
    "- ✓ Interpretar el estadístico F y p-value\n",
    "- ✓ Calcular tamaño del efecto (η²)\n",
    "- ✓ Aplicar pruebas post-hoc (Tukey, Bonferroni)\n",
    "- ✓ Usar alternativa no paramétrica (Kruskal-Wallis)\n",
    "- ✓ Crear visualizaciones efectivas (boxplots, violin plots)\n",
    "- ✓ Interpretar resultados en contexto de negocio\n",
    "\n",
    "**Siguiente notebook:** Regresión Lineal y Correlación\n"
   ]
  }
 ],
 "metadata": {
  "kernelspec": {
   "display_name": "Python 3",
   "language": "python",
   "name": "python3"
  },
  "language_info": {
   "codemirror_mode": {
    "name": "ipython",
    "version": 3
   },
   "file_extension": ".py",
   "mimetype": "text/x-python",
   "name": "python",
   "nbconvert_exporter": "python",
   "pygments_lexer": "ipython3",
   "version": "3.10.0"
  }
 },
 "nbformat": 4,
 "nbformat_minor": 4
}
