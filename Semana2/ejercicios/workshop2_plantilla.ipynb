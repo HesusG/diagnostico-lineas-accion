{
 "cells": [
  {
   "cell_type": "markdown",
   "metadata": {},
   "source": [
    "# Workshop 2: Pruebas Estadísticas Avanzadas\n",
    "\n",
    "**Curso:** CD2001B - Diagnóstico para Líneas de Acción  \n",
    "**Módulo:** 1 - Análisis Estadístico  \n",
    "**Valor:** 10% de la calificación final  \n",
    "**Fecha límite:** [Definir según calendario]\n",
    "\n",
    "---\n",
    "\n",
    "## 📋 Instrucciones Generales\n",
    "\n",
    "Este workshop evalúa tu capacidad para:\n",
    "- Realizar pruebas de Ji-cuadrada para variables categóricas\n",
    "- Ejecutar ANOVA para comparar múltiples grupos\n",
    "- Crear y evaluar modelos de regresión lineal simple\n",
    "- Interpretar resultados estadísticos en contexto educativo\n",
    "\n",
    "**Dataset:** `student-alcohol-consumption.csv`\n",
    "\n",
    "**Formato de entrega:**\n",
    "- Este notebook completado (.ipynb)\n",
    "- Todas las celdas ejecutadas\n",
    "- Interpretaciones completas en español\n",
    "\n",
    "---\n",
    "\n",
    "## 🎯 Rúbrica de Evaluación\n",
    "\n",
    "| Criterio | Puntos | Descripción |\n",
    "|----------|--------|-------------|\n",
    "| Parte 1: Prueba Ji-Cuadrada | 25 | Tabla contingencia, ejecución, interpretación |\n",
    "| Parte 2: ANOVA | 35 | Grupos correctos, supuestos, post-hoc, interpretación |\n",
    "| Parte 3: Regresión Lineal | 40 | Modelo, evaluación, predicciones, interpretación |\n",
    "| **TOTAL** | **100** | |\n",
    "\n",
    "---"
   ]
  },
  {
   "cell_type": "markdown",
   "metadata": {},
   "source": [
    "## 0. Información del Estudiante\n",
    "\n",
    "**Nombre completo:** [Escribe tu nombre aquí]  \n",
    "**Matrícula:** [Tu matrícula]  \n",
    "**Fecha de entrega:** [Fecha]  \n",
    "\n",
    "---"
   ]
  },
  {
   "cell_type": "markdown",
   "metadata": {},
   "source": [
    "## 1. Preparación del Entorno"
   ]
  },
  {
   "cell_type": "code",
   "execution_count": null,
   "metadata": {},
   "outputs": [],
   "source": [
    "# Importar librerías\n",
    "import pandas as pd\n",
    "import numpy as np\n",
    "from scipy import stats\n",
    "from scipy.stats import chi2_contingency, f_oneway\n",
    "import statsmodels.api as sm\n",
    "from statsmodels.formula.api import ols\n",
    "import matplotlib.pyplot as plt\n",
    "import seaborn as sns\n",
    "\n",
    "# Configuración\n",
    "plt.style.use('seaborn-v0_8-whitegrid')\n",
    "sns.set_palette(\"Set2\")\n",
    "%matplotlib inline\n",
    "\n",
    "print(\"✓ Librerías importadas correctamente\")"
   ]
  },
  {
   "cell_type": "code",
   "execution_count": null,
   "metadata": {},
   "outputs": [],
   "source": [
    "# Cargar dataset\n",
    "df = pd.read_csv('../datos/student-alcohol-consumption.csv')\n",
    "\n",
    "print(f\"Dataset cargado: {df.shape[0]} estudiantes, {df.shape[1]} variables\")\n",
    "print(f\"\\nPrimeras filas:\")\n",
    "df.head()"
   ]
  },
  {
   "cell_type": "markdown",
   "metadata": {},
   "source": [
    "---\n",
    "\n",
    "## PARTE 1: Prueba Ji-Cuadrada (χ²) de Independencia (25 puntos)\n",
    "\n",
    "### Contexto\n",
    "\n",
    "Queremos investigar si existe una relación entre el **género** de los estudiantes (`sex`) y su **aspiración de continuar con educación superior** (`higher`).\n",
    "\n",
    "**Variables:**\n",
    "- `sex`: Género del estudiante (F = Femenino, M = Masculino)\n",
    "- `higher`: ¿Desea cursar educación superior? (yes, no)\n",
    "\n",
    "---"
   ]
  },
  {
   "cell_type": "markdown",
   "metadata": {},
   "source": [
    "### 1.1 Planteamiento de Hipótesis (5 puntos)\n",
    "\n",
    "**Pregunta 1.1:** Plantea las hipótesis nula y alternativa para esta prueba.\n",
    "\n",
    "**Tu respuesta:**\n",
    "\n",
    "- **H₀:** [Escribe la hipótesis nula aquí - ¿Las variables son independientes?]\n",
    "- **H₁:** [Escribe la hipótesis alternativa aquí]\n",
    "- **Nivel de significancia (α):** 0.05\n",
    "\n",
    "---"
   ]
  },
  {
   "cell_type": "markdown",
   "metadata": {},
   "source": [
    "### 1.2 Tabla de Contingencia (5 puntos)\n",
    "\n",
    "Crea una tabla de contingencia que muestre la relación entre `sex` y `higher`."
   ]
  },
  {
   "cell_type": "code",
   "execution_count": null,
   "metadata": {},
   "outputs": [],
   "source": [
    "# TU CÓDIGO AQUÍ\n",
    "# Crear tabla de contingencia\n",
    "\n",
    "tabla = # COMPLETA (usa pd.crosstab)\n",
    "\n",
    "print(\"Tabla de Contingencia: Género vs Aspiración Educación Superior\")\n",
    "print(\"=\"*60)\n",
    "print(tabla)\n",
    "print(f\"\\nTotal de estudiantes: {tabla.sum().sum()}\")"
   ]
  },
  {
   "cell_type": "code",
   "execution_count": null,
   "metadata": {},
   "outputs": [],
   "source": [
    "# Visualizar la tabla con heatmap\n",
    "plt.figure(figsize=(8, 6))\n",
    "sns.heatmap(tabla, annot=True, fmt='d', cmap='Blues', cbar_kws={'label': 'Frecuencia'})\n",
    "plt.title('Relación: Género vs Aspiración Educación Superior', fontsize=14, fontweight='bold')\n",
    "plt.xlabel('Educación Superior', fontsize=12)\n",
    "plt.ylabel('Género', fontsize=12)\n",
    "plt.tight_layout()\n",
    "plt.show()"
   ]
  },
  {
   "cell_type": "markdown",
   "metadata": {},
   "source": [
    "### 1.3 Ejecución de la Prueba (10 puntos)\n",
    "\n",
    "Realiza la prueba de Ji-cuadrada."
   ]
  },
  {
   "cell_type": "code",
   "execution_count": null,
   "metadata": {},
   "outputs": [],
   "source": [
    "# TU CÓDIGO AQUÍ\n",
    "# Ejecutar prueba de Ji-cuadrada\n",
    "\n",
    "chi2, p_value, dof, expected = # COMPLETA (usa chi2_contingency)\n",
    "\n",
    "print(\"=\"*60)\n",
    "print(\"RESULTADOS DE LA PRUEBA JI-CUADRADA\")\n",
    "print(\"=\"*60)\n",
    "print(f\"Estadístico χ²: {chi2:.4f}\")\n",
    "print(f\"p-value: {p_value:.4f}\")\n",
    "print(f\"Grados de libertad: {dof}\")\n",
    "print(f\"Nivel de significancia (α): 0.05\")\n",
    "print(\"=\"*60)\n",
    "\n",
    "# Mostrar frecuencias esperadas\n",
    "print(\"\\nFrecuencias Esperadas (bajo H₀):\")\n",
    "expected_df = pd.DataFrame(expected, index=tabla.index, columns=tabla.columns)\n",
    "print(expected_df.round(2))"
   ]
  },
  {
   "cell_type": "markdown",
   "metadata": {},
   "source": [
    "### 1.4 Interpretación (5 puntos)\n",
    "\n",
    "**Pregunta 1.4a:** ¿Cuál es tu decisión estadística? ¿Rechazas H₀?\n",
    "\n",
    "**Tu respuesta:**  \n",
    "[Escribe tu decisión aquí]\n",
    "\n",
    "**Pregunta 1.4b:** ¿Qué significa este resultado? ¿El género está relacionado con la aspiración de educación superior en esta muestra?\n",
    "\n",
    "**Tu respuesta:**  \n",
    "[Escribe tu interpretación aquí]\n",
    "\n",
    "---"
   ]
  },
  {
   "cell_type": "markdown",
   "metadata": {},
   "source": [
    "---\n",
    "\n",
    "## PARTE 2: ANOVA (Análisis de Varianza) (35 puntos)\n",
    "\n",
    "### Contexto\n",
    "\n",
    "Queremos investigar si el **tiempo de estudio semanal** (`studytime`) tiene relación con las **calificaciones finales** (`G3`).\n",
    "\n",
    "**Variable:**\n",
    "- `studytime`: Tiempo de estudio semanal\n",
    "  - 1: < 2 horas\n",
    "  - 2: 2-5 horas\n",
    "  - 3: 5-10 horas\n",
    "  - 4: > 10 horas\n",
    "- `G3`: Calificación final (0-20)\n",
    "\n",
    "---"
   ]
  },
  {
   "cell_type": "markdown",
   "metadata": {},
   "source": [
    "### 2.1 Planteamiento de Hipótesis (5 puntos)\n",
    "\n",
    "**Pregunta 2.1:** Plantea las hipótesis para el ANOVA.\n",
    "\n",
    "**Tu respuesta:**\n",
    "\n",
    "- **H₀:** [Las medias de calificación son iguales entre todos los grupos de tiempo de estudio]\n",
    "- **H₁:** [Al menos una media es diferente]\n",
    "- **Nivel de significancia (α):** 0.05\n",
    "\n",
    "---"
   ]
  },
  {
   "cell_type": "markdown",
   "metadata": {},
   "source": [
    "### 2.2 Exploración de Grupos (5 puntos)\n",
    "\n",
    "Calcula estadísticas descriptivas de `G3` para cada nivel de `studytime`."
   ]
  },
  {
   "cell_type": "code",
   "execution_count": null,
   "metadata": {},
   "outputs": [],
   "source": [
    "# TU CÓDIGO AQUÍ\n",
    "# Estadísticas por grupo\n",
    "\n",
    "estadisticas = df.groupby('studytime')['G3'].agg([\n",
    "    ('n', 'count'),\n",
    "    ('Media', 'mean'),\n",
    "    ('Mediana', 'median'),\n",
    "    ('Desv.Std', 'std')\n",
    "]).round(2)\n",
    "\n",
    "print(\"Estadísticas de G3 por Tiempo de Estudio:\")\n",
    "print(\"=\"*60)\n",
    "print(estadisticas)"
   ]
  },
  {
   "cell_type": "code",
   "execution_count": null,
   "metadata": {},
   "outputs": [],
   "source": [
    "# Visualización con boxplots\n",
    "plt.figure(figsize=(10, 6))\n",
    "df.boxplot(column='G3', by='studytime', patch_artist=True, grid=False)\n",
    "plt.suptitle('')  # Eliminar título automático\n",
    "plt.title('Comparación de Calificaciones por Tiempo de Estudio', fontsize=14, fontweight='bold')\n",
    "plt.xlabel('Tiempo de Estudio Semanal (1:<2h, 2:2-5h, 3:5-10h, 4:>10h)', fontsize=11)\n",
    "plt.ylabel('Calificación Final (G3)', fontsize=12)\n",
    "plt.tight_layout()\n",
    "plt.show()"
   ]
  },
  {
   "cell_type": "markdown",
   "metadata": {},
   "source": [
    "**Pregunta 2.2:** Observando el boxplot y las estadísticas, ¿qué tendencia preliminar notas?\n",
    "\n",
    "**Tu respuesta:**  \n",
    "[Escribe tu observación aquí]\n",
    "\n",
    "---"
   ]
  },
  {
   "cell_type": "markdown",
   "metadata": {},
   "source": [
    "### 2.3 Ejecución del ANOVA (10 puntos)\n",
    "\n",
    "Realiza el análisis de varianza."
   ]
  },
  {
   "cell_type": "code",
   "execution_count": null,
   "metadata": {},
   "outputs": [],
   "source": [
    "# TU CÓDIGO AQUÍ\n",
    "# Separar grupos\n",
    "\n",
    "grupo1 = df[df['studytime'] == 1]['G3']\n",
    "grupo2 = df[df['studytime'] == 2]['G3']\n",
    "grupo3 = df[df['studytime'] == 3]['G3']\n",
    "grupo4 = df[df['studytime'] == 4]['G3']\n",
    "\n",
    "# Ejecutar ANOVA\n",
    "f_stat, p_value_anova = # COMPLETA (usa stats.f_oneway)\n",
    "\n",
    "print(\"=\"*60)\n",
    "print(\"RESULTADOS DEL ANOVA\")\n",
    "print(\"=\"*60)\n",
    "print(f\"Estadístico F: {f_stat:.4f}\")\n",
    "print(f\"p-value: {p_value_anova:.4f}\")\n",
    "print(f\"Nivel de significancia (α): 0.05\")\n",
    "print(\"=\"*60)"
   ]
  },
  {
   "cell_type": "markdown",
   "metadata": {},
   "source": [
    "### 2.4 Prueba Post-Hoc (Tukey) (10 puntos)\n",
    "\n",
    "Si rechazaste H₀, realiza una prueba post-hoc para identificar qué grupos son diferentes."
   ]
  },
  {
   "cell_type": "code",
   "execution_count": null,
   "metadata": {},
   "outputs": [],
   "source": [
    "# TU CÓDIGO AQUÍ\n",
    "# Prueba post-hoc de Tukey\n",
    "\n",
    "from statsmodels.stats.multicomp import pairwise_tukeyhsd\n",
    "\n",
    "# Ejecutar Tukey HSD\n",
    "tukey = pairwise_tukeyhsd(endog=df['G3'], groups=df['studytime'], alpha=0.05)\n",
    "\n",
    "print(\"Resultados de Prueba Post-Hoc (Tukey HSD):\")\n",
    "print(\"=\"*70)\n",
    "print(tukey)\n",
    "print(\"=\"*70)"
   ]
  },
  {
   "cell_type": "markdown",
   "metadata": {},
   "source": [
    "### 2.5 Interpretación (5 puntos)\n",
    "\n",
    "**Pregunta 2.5a:** ¿Qué concluyes del ANOVA? ¿Hay diferencias significativas?\n",
    "\n",
    "**Tu respuesta:**  \n",
    "[Escribe tu conclusión aquí]\n",
    "\n",
    "**Pregunta 2.5b:** Según la prueba de Tukey, ¿qué grupos específicos son significativamente diferentes? ¿Qué implica esto en términos educativos?\n",
    "\n",
    "**Tu respuesta:**  \n",
    "[Escribe tu interpretación detallada aquí]\n",
    "\n",
    "---"
   ]
  },
  {
   "cell_type": "markdown",
   "metadata": {},
   "source": [
    "---\n",
    "\n",
    "## PARTE 3: Regresión Lineal Simple (40 puntos)\n",
    "\n",
    "### Contexto\n",
    "\n",
    "Queremos crear un modelo que **prediga la calificación final** (`G3`) basándose en el **número de ausencias** (`absences`).\n",
    "\n",
    "**Variables:**\n",
    "- Variable independiente (X): `absences` (número de ausencias)\n",
    "- Variable dependiente (Y): `G3` (calificación final)\n",
    "\n",
    "---"
   ]
  },
  {
   "cell_type": "markdown",
   "metadata": {},
   "source": [
    "### 3.1 Análisis Exploratorio (5 puntos)\n",
    "\n",
    "Crea un scatter plot de ausencias vs calificación."
   ]
  },
  {
   "cell_type": "code",
   "execution_count": null,
   "metadata": {},
   "outputs": [],
   "source": [
    "# TU CÓDIGO AQUÍ\n",
    "# Scatter plot\n",
    "\n",
    "plt.figure(figsize=(10, 6))\n",
    "plt.scatter(df['absences'], df['G3'], alpha=0.5, edgecolors='k')\n",
    "plt.title('Relación entre Ausencias y Calificación Final', fontsize=14, fontweight='bold')\n",
    "plt.xlabel('Número de Ausencias', fontsize=12)\n",
    "plt.ylabel('Calificación Final (G3)', fontsize=12)\n",
    "plt.grid(alpha=0.3)\n",
    "plt.tight_layout()\n",
    "plt.show()"
   ]
  },
  {
   "cell_type": "markdown",
   "metadata": {},
   "source": [
    "**Pregunta 3.1:** ¿Observas alguna relación visual entre ausencias y calificaciones? ¿Parece ser lineal?\n",
    "\n",
    "**Tu respuesta:**  \n",
    "[Escribe tu observación aquí]\n",
    "\n",
    "---"
   ]
  },
  {
   "cell_type": "markdown",
   "metadata": {},
   "source": [
    "### 3.2 Correlación de Pearson (5 puntos)\n",
    "\n",
    "Calcula el coeficiente de correlación entre `absences` y `G3`."
   ]
  },
  {
   "cell_type": "code",
   "execution_count": null,
   "metadata": {},
   "outputs": [],
   "source": [
    "# TU CÓDIGO AQUÍ\n",
    "# Calcular correlación\n",
    "\n",
    "correlacion, p_value_corr = # COMPLETA (usa stats.pearsonr)\n",
    "\n",
    "print(\"=\"*60)\n",
    "print(\"CORRELACIÓN DE PEARSON\")\n",
    "print(\"=\"*60)\n",
    "print(f\"Coeficiente de correlación (r): {correlacion:.4f}\")\n",
    "print(f\"p-value: {p_value_corr:.4f}\")\n",
    "print(\"=\"*60)"
   ]
  },
  {
   "cell_type": "markdown",
   "metadata": {},
   "source": [
    "**Pregunta 3.2:** Interpreta el valor de correlación. ¿Es fuerte, moderada o débil? ¿Es positiva o negativa?\n",
    "\n",
    "**Tu respuesta:**  \n",
    "[Escribe tu interpretación aquí]\n",
    "\n",
    "---"
   ]
  },
  {
   "cell_type": "markdown",
   "metadata": {},
   "source": [
    "### 3.3 Creación del Modelo de Regresión (10 puntos)\n",
    "\n",
    "Ajusta un modelo de regresión lineal simple."
   ]
  },
  {
   "cell_type": "code",
   "execution_count": null,
   "metadata": {},
   "outputs": [],
   "source": [
    "# TU CÓDIGO AQUÍ\n",
    "# Preparar datos\n",
    "\n",
    "X = df['absences']\n",
    "y = df['G3']\n",
    "\n",
    "# Añadir constante (intercepto)\n",
    "X_const = sm.add_constant(X)\n",
    "\n",
    "# Ajustar modelo\n",
    "modelo = # COMPLETA (usa sm.OLS y .fit())\n",
    "\n",
    "# Mostrar resumen\n",
    "print(modelo.summary())"
   ]
  },
  {
   "cell_type": "markdown",
   "metadata": {},
   "source": [
    "### 3.4 Extracción de Parámetros (5 puntos)\n",
    "\n",
    "Extrae e interpreta los coeficientes del modelo."
   ]
  },
  {
   "cell_type": "code",
   "execution_count": null,
   "metadata": {},
   "outputs": [],
   "source": [
    "# TU CÓDIGO AQUÍ\n",
    "# Extraer coeficientes\n",
    "\n",
    "intercepto = modelo.params['const']\n",
    "pendiente = modelo.params['absences']\n",
    "r_cuadrado = modelo.rsquared\n",
    "\n",
    "print(\"=\"*60)\n",
    "print(\"PARÁMETROS DEL MODELO\")\n",
    "print(\"=\"*60)\n",
    "print(f\"Intercepto (β₀): {intercepto:.4f}\")\n",
    "print(f\"Pendiente (β₁): {pendiente:.4f}\")\n",
    "print(f\"R² (R-cuadrado): {r_cuadrado:.4f}\")\n",
    "print(\"=\"*60)\n",
    "print(f\"\\nEcuación del modelo:\")\n",
    "print(f\"G3 = {intercepto:.2f} + ({pendiente:.4f}) × absences\")\n",
    "print(\"=\"*60)"
   ]
  },
  {
   "cell_type": "markdown",
   "metadata": {},
   "source": [
    "**Pregunta 3.4:** Interpreta los coeficientes:\n",
    "\n",
    "- **Intercepto:** ¿Qué representa en este contexto?\n",
    "- **Pendiente:** ¿Qué significa que sea positiva o negativa? ¿En cuánto cambia la calificación por cada ausencia adicional?\n",
    "- **R²:** ¿Qué porcentaje de la variabilidad en calificaciones explica el modelo?\n",
    "\n",
    "**Tu respuesta:**  \n",
    "[Escribe tus interpretaciones aquí]\n",
    "\n",
    "---"
   ]
  },
  {
   "cell_type": "markdown",
   "metadata": {},
   "source": [
    "### 3.5 Visualización del Modelo (5 puntos)\n",
    "\n",
    "Grafica los datos con la línea de regresión ajustada."
   ]
  },
  {
   "cell_type": "code",
   "execution_count": null,
   "metadata": {},
   "outputs": [],
   "source": [
    "# TU CÓDIGO AQUÍ\n",
    "# Gráfico con línea de regresión\n",
    "\n",
    "plt.figure(figsize=(10, 6))\n",
    "plt.scatter(df['absences'], df['G3'], alpha=0.5, edgecolors='k', label='Datos observados')\n",
    "\n",
    "# Línea de regresión\n",
    "x_line = np.linspace(df['absences'].min(), df['absences'].max(), 100)\n",
    "y_line = intercepto + pendiente * x_line\n",
    "plt.plot(x_line, y_line, 'r-', linewidth=2, label=f'Regresión: G3 = {intercepto:.2f} + {pendiente:.4f}×absences')\n",
    "\n",
    "plt.title('Modelo de Regresión Lineal: Ausencias vs Calificación', fontsize=14, fontweight='bold')\n",
    "plt.xlabel('Número de Ausencias', fontsize=12)\n",
    "plt.ylabel('Calificación Final (G3)', fontsize=12)\n",
    "plt.legend()\n",
    "plt.grid(alpha=0.3)\n",
    "plt.tight_layout()\n",
    "plt.show()"
   ]
  },
  {
   "cell_type": "markdown",
   "metadata": {},
   "source": [
    "### 3.6 Predicciones (10 puntos)\n",
    "\n",
    "Usa el modelo para hacer predicciones."
   ]
  },
  {
   "cell_type": "code",
   "execution_count": null,
   "metadata": {},
   "outputs": [],
   "source": [
    "# TU CÓDIGO AQUÍ\n",
    "# Hacer predicciones para diferentes números de ausencias\n",
    "\n",
    "ausencias_prediccion = [0, 5, 10, 20]\n",
    "\n",
    "print(\"=\"*60)\n",
    "print(\"PREDICCIONES DEL MODELO\")\n",
    "print(\"=\"*60)\n",
    "\n",
    "for ausencias in ausencias_prediccion:\n",
    "    # Predecir calificación\n",
    "    calificacion_pred = # COMPLETA (usa la ecuación del modelo)\n",
    "    print(f\"Con {ausencias} ausencias → Calificación predicha: {calificacion_pred:.2f}\")\n",
    "\n",
    "print(\"=\"*60)"
   ]
  },
  {
   "cell_type": "markdown",
   "metadata": {},
   "source": [
    "**Pregunta 3.6:** ¿Son razonables estas predicciones? ¿Hay algún valor que parezca poco realista? ¿Por qué?\n",
    "\n",
    "**Tu respuesta:**  \n",
    "[Escribe tu análisis aquí]\n",
    "\n",
    "---"
   ]
  },
  {
   "cell_type": "markdown",
   "metadata": {},
   "source": [
    "---\n",
    "\n",
    "## PARTE 4: Reflexión Integradora (BONUS - 10 puntos)\n",
    "\n",
    "**Pregunta BONUS:** \n",
    "\n",
    "Basándote en los tres análisis realizados (Ji-cuadrada, ANOVA, Regresión):\n",
    "\n",
    "1. ¿Qué factores parecen estar más relacionados con el rendimiento académico?\n",
    "2. Si fueras director de una escuela, ¿qué políticas implementarías basándote en estos resultados?\n",
    "3. ¿Qué limitaciones tienen estos análisis? ¿Qué otros datos necesitarías?\n",
    "\n",
    "**Tu respuesta (mínimo 150 palabras):**  \n",
    "[Escribe tu reflexión integradora aquí]\n",
    "\n",
    "---"
   ]
  },
  {
   "cell_type": "markdown",
   "metadata": {},
   "source": [
    "---\n",
    "\n",
    "## ✅ Checklist Antes de Entregar\n",
    "\n",
    "Antes de enviar tu workshop, verifica:\n",
    "\n",
    "- [ ] Todas las celdas están ejecutadas con resultados visibles\n",
    "- [ ] Completaste TODOS los espacios \"TU CÓDIGO AQUÍ\"\n",
    "- [ ] Respondiste TODAS las preguntas de interpretación\n",
    "- [ ] Tus gráficos son claros y tienen títulos/etiquetas\n",
    "- [ ] Verificaste que las pruebas estadísticas dan resultados coherentes\n",
    "- [ ] Interpretaste los p-values correctamente\n",
    "- [ ] Revisaste ortografía y redacción\n",
    "- [ ] El notebook se ejecuta sin errores de principio a fin\n",
    "- [ ] Incluiste tu nombre y matrícula al inicio\n",
    "\n",
    "**Formato de nombre de archivo:**  \n",
    "`Workshop2_NombreApellido_Matricula.ipynb`\n",
    "\n",
    "---\n",
    "\n",
    "**¡Excelente trabajo completando el Módulo 1!** 🎓📊🎉\n",
    "\n",
    "---"
   ]
  }
 ],
 "metadata": {
  "kernelspec": {
   "display_name": "Python 3",
   "language": "python",
   "name": "python3"
  },
  "language_info": {
   "codemirror_mode": {
    "name": "ipython",
    "version": 3
   },
   "file_extension": ".py",
   "mimetype": "text/x-python",
   "name": "python",
   "nbconvert_exporter": "python",
   "pygments_lexer": "ipython3",
   "version": "3.11.0"
  }
 },
 "nbformat": 4,
 "nbformat_minor": 4
}
