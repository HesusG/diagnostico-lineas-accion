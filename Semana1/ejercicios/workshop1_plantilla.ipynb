{
 "cells": [
  {
   "cell_type": "markdown",
   "metadata": {},
   "source": [
    "# Workshop 1: Análisis Estadístico Básico\n",
    "\n",
    "**Curso:** CD2001B - Diagnóstico para Líneas de Acción  \n",
    "**Módulo:** 1 - Análisis Estadístico  \n",
    "**Valor:** 10% de la calificación final  \n",
    "**Fecha límite:** [Definir según calendario]\n",
    "\n",
    "---\n",
    "\n",
    "## 📋 Instrucciones Generales\n",
    "\n",
    "Este workshop evalúa tu capacidad para:\n",
    "- Realizar análisis descriptivo de datos\n",
    "- Calcular e interpretar medidas de tendencia central y dispersión\n",
    "- Ejecutar pruebas de hipótesis para una y dos muestras\n",
    "- Interpretar resultados en contexto\n",
    "\n",
    "**Dataset:** `student-alcohol-consumption.csv` (Consumo de alcohol en estudiantes portugueses)\n",
    "\n",
    "**Formato de entrega:**\n",
    "- Este notebook completado (.ipynb)\n",
    "- Todas las celdas ejecutadas con resultados visibles\n",
    "- Interpretaciones en español completas\n",
    "\n",
    "---\n",
    "\n",
    "## 🎯 Rúbrica de Evaluación\n",
    "\n",
    "| Criterio | Puntos | Descripción |\n",
    "|----------|--------|-------------|\n",
    "| Parte 1: Análisis Descriptivo | 40 | Cálculos correctos, visualizaciones apropiadas, interpretaciones |\n",
    "| Parte 2: Prueba t (1 muestra) | 30 | Hipótesis, ejecución correcta, interpretación de p-value |\n",
    "| Parte 3: Prueba t (2 muestras) | 30 | Grupos correctos, prueba apropiada, conclusión en contexto |\n",
    "| **TOTAL** | **100** | |\n",
    "\n",
    "---"
   ]
  },
  {
   "cell_type": "markdown",
   "metadata": {},
   "source": [
    "## 0. Información del Estudiante\n",
    "\n",
    "**Nombre completo:** [Escribe tu nombre aquí]  \n",
    "**Matrícula:** [Tu matrícula]  \n",
    "**Fecha de entrega:** [Fecha]  \n",
    "\n",
    "---"
   ]
  },
  {
   "cell_type": "markdown",
   "metadata": {},
   "source": [
    "## 1. Preparación del Entorno\n",
    "\n",
    "Importa las librerías necesarias y carga el dataset."
   ]
  },
  {
   "cell_type": "code",
   "execution_count": null,
   "metadata": {},
   "outputs": [],
   "source": [
    "# Importar librerías\n",
    "import pandas as pd\n",
    "import numpy as np\n",
    "from scipy import stats\n",
    "import matplotlib.pyplot as plt\n",
    "import seaborn as sns\n",
    "\n",
    "# Configuración de visualización\n",
    "plt.style.use('seaborn-v0_8-whitegrid')\n",
    "sns.set_palette(\"Set2\")\n",
    "%matplotlib inline\n",
    "\n",
    "print(\"✓ Librerías importadas correctamente\")"
   ]
  },
  {
   "cell_type": "code",
   "execution_count": null,
   "metadata": {},
   "outputs": [],
   "source": [
    "# Cargar dataset\n",
    "# NOTA: Ajusta la ruta si tu archivo está en otra ubicación\n",
    "df = pd.read_csv('../datos/student-alcohol-consumption.csv')\n",
    "\n",
    "print(f\"Dataset cargado: {df.shape[0]} estudiantes, {df.shape[1]} variables\")\n",
    "df.head()"
   ]
  },
  {
   "cell_type": "markdown",
   "metadata": {},
   "source": [
    "---\n",
    "\n",
    "## PARTE 1: Análisis Descriptivo (40 puntos)\n",
    "\n",
    "### Contexto\n",
    "\n",
    "El dataset contiene información sobre estudiantes portugueses de educación secundaria. Entre otras variables, incluye:\n",
    "- `age`: Edad del estudiante (años)\n",
    "- `G3`: Calificación final (escala 0-20)\n",
    "- `studytime`: Tiempo de estudio semanal (1: <2h, 2: 2-5h, 3: 5-10h, 4: >10h)\n",
    "- `absences`: Número de ausencias\n",
    "- `Dalc`: Consumo de alcohol diario (1: muy bajo, 5: muy alto)\n",
    "- `Walc`: Consumo de alcohol fin de semana (1: muy bajo, 5: muy alto)\n",
    "\n",
    "---"
   ]
  },
  {
   "cell_type": "markdown",
   "metadata": {},
   "source": [
    "### 1.1 Exploración Inicial (5 puntos)\n",
    "\n",
    "Muestra la información básica del dataset y verifica si hay valores faltantes."
   ]
  },
  {
   "cell_type": "code",
   "execution_count": null,
   "metadata": {},
   "outputs": [],
   "source": [
    "# Información del dataset\n",
    "df.info()"
   ]
  },
  {
   "cell_type": "code",
   "execution_count": null,
   "metadata": {},
   "outputs": [],
   "source": [
    "# Verificar valores faltantes\n",
    "print(\"Valores faltantes por columna:\")\n",
    "print(df.isnull().sum())"
   ]
  },
  {
   "cell_type": "markdown",
   "metadata": {},
   "source": [
    "**Pregunta 1.1:** ¿Hay valores faltantes en el dataset? Si los hay, ¿qué harías con ellos?\n",
    "\n",
    "**Tu respuesta:**  \n",
    "[Escribe tu respuesta aquí]\n",
    "\n",
    "---"
   ]
  },
  {
   "cell_type": "markdown",
   "metadata": {},
   "source": [
    "### 1.2 Medidas de Tendencia Central - Variable `age` (10 puntos)\n",
    "\n",
    "Calcula la media, mediana y moda de la edad de los estudiantes."
   ]
  },
  {
   "cell_type": "code",
   "execution_count": null,
   "metadata": {},
   "outputs": [],
   "source": [
    "# TU CÓDIGO AQUÍ\n",
    "# Calcula media, mediana y moda de 'age'\n",
    "\n",
    "media_edad = # COMPLETA\n",
    "mediana_edad = # COMPLETA\n",
    "moda_edad = # COMPLETA\n",
    "\n",
    "print(f\"Media de edad: {media_edad:.2f} años\")\n",
    "print(f\"Mediana de edad: {mediana_edad} años\")\n",
    "print(f\"Moda de edad: {moda_edad} años\")"
   ]
  },
  {
   "cell_type": "markdown",
   "metadata": {},
   "source": [
    "**Pregunta 1.2:** ¿Qué te dicen estas tres medidas sobre la distribución de edades? ¿Son similares o diferentes? ¿Qué implica eso?\n",
    "\n",
    "**Tu respuesta:**  \n",
    "[Escribe tu interpretación aquí]\n",
    "\n",
    "---"
   ]
  },
  {
   "cell_type": "markdown",
   "metadata": {},
   "source": [
    "### 1.3 Medidas de Dispersión - Variable `G3` (15 puntos)\n",
    "\n",
    "Para la calificación final (`G3`), calcula:\n",
    "- Desviación estándar\n",
    "- Varianza\n",
    "- Rango (máximo - mínimo)\n",
    "- Rango intercuartílico (IQR)"
   ]
  },
  {
   "cell_type": "code",
   "execution_count": null,
   "metadata": {},
   "outputs": [],
   "source": [
    "# TU CÓDIGO AQUÍ\n",
    "# Calcula desviación estándar, varianza, rango e IQR de 'G3'\n",
    "\n",
    "desv_std_g3 = # COMPLETA\n",
    "varianza_g3 = # COMPLETA\n",
    "\n",
    "minimo_g3 = # COMPLETA\n",
    "maximo_g3 = # COMPLETA\n",
    "rango_g3 = # COMPLETA\n",
    "\n",
    "Q1_g3 = # COMPLETA (cuartil 25%)\n",
    "Q3_g3 = # COMPLETA (cuartil 75%)\n",
    "IQR_g3 = # COMPLETA\n",
    "\n",
    "print(f\"Desviación estándar: {desv_std_g3:.2f}\")\n",
    "print(f\"Varianza: {varianza_g3:.2f}\")\n",
    "print(f\"Rango: {rango_g3}\")\n",
    "print(f\"IQR: {IQR_g3}\")"
   ]
  },
  {
   "cell_type": "markdown",
   "metadata": {},
   "source": [
    "**Pregunta 1.3:** ¿Las calificaciones tienen mucha o poca variabilidad? Justifica tu respuesta usando las medidas calculadas.\n",
    "\n",
    "**Tu respuesta:**  \n",
    "[Escribe tu interpretación aquí]\n",
    "\n",
    "---"
   ]
  },
  {
   "cell_type": "markdown",
   "metadata": {},
   "source": [
    "### 1.4 Visualizaciones (10 puntos)\n",
    "\n",
    "Crea:\n",
    "1. Un histograma de la variable `age`\n",
    "2. Un boxplot de la variable `G3`"
   ]
  },
  {
   "cell_type": "code",
   "execution_count": null,
   "metadata": {},
   "outputs": [],
   "source": [
    "# TU CÓDIGO AQUÍ\n",
    "# Histograma de edad\n",
    "\n",
    "plt.figure(figsize=(10, 5))\n",
    "# COMPLETA EL CÓDIGO DEL HISTOGRAMA\n",
    "\n",
    "plt.title('Distribución de Edad de Estudiantes', fontsize=14, fontweight='bold')\n",
    "plt.xlabel('Edad (años)', fontsize=12)\n",
    "plt.ylabel('Frecuencia', fontsize=12)\n",
    "plt.grid(alpha=0.3)\n",
    "plt.tight_layout()\n",
    "plt.show()"
   ]
  },
  {
   "cell_type": "code",
   "execution_count": null,
   "metadata": {},
   "outputs": [],
   "source": [
    "# TU CÓDIGO AQUÍ\n",
    "# Boxplot de calificación final\n",
    "\n",
    "plt.figure(figsize=(8, 6))\n",
    "# COMPLETA EL CÓDIGO DEL BOXPLOT\n",
    "\n",
    "plt.title('Distribución de Calificaciones Finales', fontsize=14, fontweight='bold')\n",
    "plt.ylabel('Calificación (0-20)', fontsize=12)\n",
    "plt.grid(alpha=0.3, axis='y')\n",
    "plt.tight_layout()\n",
    "plt.show()"
   ]
  },
  {
   "cell_type": "markdown",
   "metadata": {},
   "source": [
    "**Pregunta 1.4:** Basándote en el boxplot de `G3`, ¿detectas outliers? ¿Qué podrían representar esos valores atípicos en el contexto educativo?\n",
    "\n",
    "**Tu respuesta:**  \n",
    "[Escribe tu interpretación aquí]\n",
    "\n",
    "---"
   ]
  },
  {
   "cell_type": "markdown",
   "metadata": {},
   "source": [
    "---\n",
    "\n",
    "## PARTE 2: Prueba t para Una Muestra (30 puntos)\n",
    "\n",
    "### Contexto\n",
    "\n",
    "El sistema educativo portugués usa una escala de 0-20, donde 10 es la calificación mínima aprobatoria. Queremos saber si el promedio de calificaciones de estos estudiantes es significativamente diferente de 12 (un nivel considerado \"satisfactorio\").\n",
    "\n",
    "---"
   ]
  },
  {
   "cell_type": "markdown",
   "metadata": {},
   "source": [
    "### 2.1 Planteamiento de Hipótesis (10 puntos)\n",
    "\n",
    "**Pregunta 2.1:** Plantea las hipótesis nula (H₀) y alternativa (H₁) para esta prueba.\n",
    "\n",
    "**Tu respuesta:**\n",
    "\n",
    "- **H₀:** [Escribe la hipótesis nula aquí]\n",
    "- **H₁:** [Escribe la hipótesis alternativa aquí]\n",
    "- **Nivel de significancia (α):** [Usualmente 0.05]\n",
    "\n",
    "---"
   ]
  },
  {
   "cell_type": "markdown",
   "metadata": {},
   "source": [
    "### 2.2 Ejecución de la Prueba (10 puntos)\n",
    "\n",
    "Realiza una prueba t para una muestra comparando la media de `G3` contra el valor 12."
   ]
  },
  {
   "cell_type": "code",
   "execution_count": null,
   "metadata": {},
   "outputs": [],
   "source": [
    "# TU CÓDIGO AQUÍ\n",
    "# Prueba t para una muestra\n",
    "# Compara la media de G3 contra 12\n",
    "\n",
    "# Valor de comparación\n",
    "valor_comparacion = 12\n",
    "\n",
    "# Ejecutar prueba t\n",
    "t_stat, p_value = # COMPLETA (usa stats.ttest_1samp)\n",
    "\n",
    "print(\"=\"*50)\n",
    "print(\"RESULTADOS DE LA PRUEBA T (1 MUESTRA)\")\n",
    "print(\"=\"*50)\n",
    "print(f\"Estadístico t: {t_stat:.4f}\")\n",
    "print(f\"p-value: {p_value:.4f}\")\n",
    "print(f\"Nivel de significancia (α): 0.05\")\n",
    "print(\"=\"*50)"
   ]
  },
  {
   "cell_type": "markdown",
   "metadata": {},
   "source": [
    "### 2.3 Interpretación (10 puntos)\n",
    "\n",
    "**Pregunta 2.3a:** ¿Cuál es tu decisión? ¿Rechazas o no rechazas H₀? Justifica usando el p-value.\n",
    "\n",
    "**Tu respuesta:**  \n",
    "[Escribe tu decisión y justificación aquí]\n",
    "\n",
    "**Pregunta 2.3b:** ¿Qué significa este resultado en el contexto educativo? (Interpreta en lenguaje no técnico)\n",
    "\n",
    "**Tu respuesta:**  \n",
    "[Escribe tu interpretación en contexto aquí]\n",
    "\n",
    "---"
   ]
  },
  {
   "cell_type": "markdown",
   "metadata": {},
   "source": [
    "---\n",
    "\n",
    "## PARTE 3: Prueba t para Dos Muestras Independientes (30 puntos)\n",
    "\n",
    "### Contexto\n",
    "\n",
    "Queremos investigar si existe una diferencia significativa en las calificaciones finales (`G3`) entre estudiantes que consumen alcohol de forma regular vs. estudiantes que no consumen o consumen muy poco.\n",
    "\n",
    "**Criterio de clasificación:**\n",
    "- **Bajo consumo:** `Walc` <= 2 (consumo de fin de semana bajo/muy bajo)\n",
    "- **Alto consumo:** `Walc` >= 4 (consumo de fin de semana alto/muy alto)\n",
    "\n",
    "---"
   ]
  },
  {
   "cell_type": "markdown",
   "metadata": {},
   "source": [
    "### 3.1 Preparación de Datos (5 puntos)\n",
    "\n",
    "Crea dos grupos: estudiantes con bajo consumo y estudiantes con alto consumo de alcohol."
   ]
  },
  {
   "cell_type": "code",
   "execution_count": null,
   "metadata": {},
   "outputs": [],
   "source": [
    "# TU CÓDIGO AQUÍ\n",
    "# Crear los dos grupos\n",
    "\n",
    "grupo_bajo_consumo = # COMPLETA (filtra estudiantes con Walc <= 2)\n",
    "grupo_alto_consumo = # COMPLETA (filtra estudiantes con Walc >= 4)\n",
    "\n",
    "print(f\"Estudiantes con BAJO consumo de alcohol: {len(grupo_bajo_consumo)}\")\n",
    "print(f\"Estudiantes con ALTO consumo de alcohol: {len(grupo_alto_consumo)}\")\n",
    "\n",
    "# Extraer calificaciones de cada grupo\n",
    "g3_bajo = # COMPLETA\n",
    "g3_alto = # COMPLETA\n",
    "\n",
    "print(f\"\\nMedia G3 (bajo consumo): {g3_bajo.mean():.2f}\")\n",
    "print(f\"Media G3 (alto consumo): {g3_alto.mean():.2f}\")"
   ]
  },
  {
   "cell_type": "markdown",
   "metadata": {},
   "source": [
    "### 3.2 Planteamiento de Hipótesis (5 puntos)\n",
    "\n",
    "**Pregunta 3.2:** Plantea las hipótesis para esta prueba de dos muestras.\n",
    "\n",
    "**Tu respuesta:**\n",
    "\n",
    "- **H₀:** [Escribe la hipótesis nula aquí]\n",
    "- **H₁:** [Escribe la hipótesis alternativa aquí]\n",
    "- **Nivel de significancia (α):** 0.05\n",
    "\n",
    "---"
   ]
  },
  {
   "cell_type": "markdown",
   "metadata": {},
   "source": [
    "### 3.3 Ejecución de la Prueba (10 puntos)\n",
    "\n",
    "Realiza una prueba t para dos muestras independientes."
   ]
  },
  {
   "cell_type": "code",
   "execution_count": null,
   "metadata": {},
   "outputs": [],
   "source": [
    "# TU CÓDIGO AQUÍ\n",
    "# Prueba t para dos muestras independientes\n",
    "\n",
    "t_stat_2, p_value_2 = # COMPLETA (usa stats.ttest_ind)\n",
    "\n",
    "print(\"=\"*60)\n",
    "print(\"RESULTADOS DE LA PRUEBA T (2 MUESTRAS INDEPENDIENTES)\")\n",
    "print(\"=\"*60)\n",
    "print(f\"Estadístico t: {t_stat_2:.4f}\")\n",
    "print(f\"p-value: {p_value_2:.4f}\")\n",
    "print(f\"Nivel de significancia (α): 0.05\")\n",
    "print(\"=\"*60)"
   ]
  },
  {
   "cell_type": "markdown",
   "metadata": {},
   "source": [
    "### 3.4 Visualización Comparativa (5 puntos)\n",
    "\n",
    "Crea un boxplot comparativo de las calificaciones de ambos grupos."
   ]
  },
  {
   "cell_type": "code",
   "execution_count": null,
   "metadata": {},
   "outputs": [],
   "source": [
    "# TU CÓDIGO AQUÍ\n",
    "# Boxplot comparativo\n",
    "\n",
    "plt.figure(figsize=(10, 6))\n",
    "\n",
    "# Crear DataFrame para facilitar el boxplot\n",
    "# COMPLETA EL CÓDIGO\n",
    "\n",
    "plt.title('Comparación de Calificaciones: Bajo vs Alto Consumo de Alcohol', \n",
    "          fontsize=14, fontweight='bold')\n",
    "plt.ylabel('Calificación Final (G3)', fontsize=12)\n",
    "plt.xlabel('Nivel de Consumo', fontsize=12)\n",
    "plt.grid(alpha=0.3, axis='y')\n",
    "plt.tight_layout()\n",
    "plt.show()"
   ]
  },
  {
   "cell_type": "markdown",
   "metadata": {},
   "source": [
    "### 3.5 Interpretación Final (5 puntos)\n",
    "\n",
    "**Pregunta 3.5a:** ¿Cuál es tu decisión estadística? ¿Rechazas o no rechazas H₀?\n",
    "\n",
    "**Tu respuesta:**  \n",
    "[Escribe tu decisión aquí]\n",
    "\n",
    "**Pregunta 3.5b:** ¿Qué implica este resultado? ¿El consumo de alcohol está asociado con diferencias en el rendimiento académico? Discute las limitaciones de esta conclusión.\n",
    "\n",
    "**Tu respuesta:**  \n",
    "[Escribe tu interpretación completa aquí, considerando:\n",
    "- ¿Qué encontraste?\n",
    "- ¿Qué podría explicarlo?\n",
    "- ¿Correlación implica causación?\n",
    "- ¿Qué otras variables podrían estar influyendo?]\n",
    "\n",
    "---"
   ]
  },
  {
   "cell_type": "markdown",
   "metadata": {},
   "source": [
    "---\n",
    "\n",
    "## PARTE 4: Reflexión Final (BONUS - 10 puntos)\n",
    "\n",
    "**Pregunta BONUS:** Imagina que eres un director de escuela y recibes este análisis. ¿Qué acciones tomarías basándote en estos resultados? ¿Qué análisis adicionales solicitarías antes de implementar políticas?\n",
    "\n",
    "**Tu respuesta:**  \n",
    "[Escribe tu reflexión aquí - mínimo 100 palabras]\n",
    "\n",
    "---"
   ]
  },
  {
   "cell_type": "markdown",
   "metadata": {},
   "source": [
    "---\n",
    "\n",
    "## ✅ Checklist Antes de Entregar\n",
    "\n",
    "Antes de enviar tu workshop, verifica:\n",
    "\n",
    "- [ ] Todas las celdas de código están ejecutadas y muestran resultados\n",
    "- [ ] Completaste TODAS las secciones marcadas con \"TU CÓDIGO AQUÍ\"\n",
    "- [ ] Respondiste TODAS las preguntas de interpretación\n",
    "- [ ] Tus gráficos tienen títulos y etiquetas claras\n",
    "- [ ] Tus interpretaciones están en español y en lenguaje claro\n",
    "- [ ] Revisaste ortografía y redacción\n",
    "- [ ] El notebook se ejecuta de principio a fin sin errores\n",
    "\n",
    "**Formato de nombre de archivo:**  \n",
    "`Workshop1_NombreApellido_Matricula.ipynb`\n",
    "\n",
    "---\n",
    "\n",
    "**¡Éxito en tu workshop!** 🎓📊\n",
    "\n",
    "---"
   ]
  }
 ],
 "metadata": {
  "kernelspec": {
   "display_name": "Python 3",
   "language": "python",
   "name": "python3"
  },
  "language_info": {
   "codemirror_mode": {
    "name": "ipython",
    "version": 3
   },
   "file_extension": ".py",
   "mimetype": "text/x-python",
   "name": "python",
   "nbconvert_exporter": "python",
   "pygments_lexer": "ipython3",
   "version": "3.11.0"
  }
 },
 "nbformat": 4,
 "nbformat_minor": 4
}
