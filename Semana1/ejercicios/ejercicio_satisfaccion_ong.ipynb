{
 "cells": [
  {
   "cell_type": "markdown",
   "metadata": {},
   "source": [
    "# Ejercicio Completo: Análisis de Satisfacción de ONG\n",
    "\n",
    "**Curso:** CD2001B - Diagnóstico para Líneas de Acción  \n",
    "**Módulo:** 1 - Estadística para Negocios  \n",
    "**Tipo:** Ejercicio opcional avanzado  \n",
    "**Dataset:** ejemplo_satisfaccion_clientes.csv  \n",
    "**Tiempo estimado:** 90-120 minutos\n",
    "\n",
    "---\n",
    "\n",
    "## 🎯 Objetivo\n",
    "\n",
    "Realizar un **análisis estadístico completo** de la satisfacción de beneficiarios de una ONG, aplicando:\n",
    "- Análisis descriptivo\n",
    "- Pruebas de hipótesis\n",
    "- Visualizaciones\n",
    "- Interpretación en contexto de negocios\n",
    "\n",
    "Este ejercicio simula el reto final usando un dataset diferente.\n",
    "\n",
    "---\n",
    "\n",
    "## 📊 Contexto\n",
    "\n",
    "**Organización:** ONG \"Apoyo Comunitario\"\n",
    "\n",
    "**Situación:** La ONG ha recopilado datos de satisfacción de 200 beneficiarios durante 6 meses. Como analista de datos, debes:\n",
    "1. Evaluar el desempeño actual\n",
    "2. Identificar áreas de mejora\n",
    "3. Proponer acciones basadas en datos\n",
    "\n",
    "**Variables disponibles:**\n",
    "- `id_beneficiario`: Identificador único\n",
    "- `edad`: Edad del beneficiario\n",
    "- `genero`: Masculino / Femenino\n",
    "- `departamento`: Área de servicio (Salud, Educación, Alimentación, etc.)\n",
    "- `satisfaccion`: Calificación 1-10\n",
    "- `tiempo_espera`: Minutos de espera\n",
    "- `visitas_previas`: Número de veces que ha usado el servicio\n",
    "\n",
    "---"
   ]
  },
  {
   "cell_type": "markdown",
   "metadata": {},
   "source": [
    "## Parte 1: Carga y Exploración Inicial (10 puntos)"
   ]
  },
  {
   "cell_type": "code",
   "execution_count": null,
   "metadata": {},
   "outputs": [],
   "source": [
    "# Importar librerías\n",
    "import pandas as pd\n",
    "import numpy as np\n",
    "from scipy import stats\n",
    "import matplotlib.pyplot as plt\n",
    "import seaborn as sns\n",
    "\n",
    "sns.set_style('whitegrid')\n",
    "%matplotlib inline\n",
    "\n",
    "print(\"✓ Librerías cargadas\")"
   ]
  },
  {
   "cell_type": "code",
   "execution_count": null,
   "metadata": {},
   "outputs": [],
   "source": [
    "# Cargar dataset\n",
    "df = pd.read_csv('../datos/ejemplo_satisfaccion_clientes.csv')\n",
    "\n",
    "# Exploración básica\n",
    "print(f\"📊 Dimensiones: {df.shape}\")\n",
    "print(f\"\\n📋 Primeras filas:\")\n",
    "df.head(10)"
   ]
  },
  {
   "cell_type": "code",
   "execution_count": null,
   "metadata": {},
   "outputs": [],
   "source": [
    "# Información del dataset\n",
    "print(\"ℹ️ Información:\")\n",
    "df.info()\n",
    "\n",
    "print(\"\\n❓ Valores faltantes:\")\n",
    "print(df.isnull().sum())\n",
    "\n",
    "print(\"\\n🔢 Estadísticas descriptivas:\")\n",
    "df.describe()"
   ]
  },
  {
   "cell_type": "markdown",
   "metadata": {},
   "source": [
    "**Pregunta 1.1 (5 puntos):** ¿Cuántos beneficiarios hay de cada departamento? Crea una tabla de frecuencias."
   ]
  },
  {
   "cell_type": "code",
   "execution_count": null,
   "metadata": {},
   "outputs": [],
   "source": [
    "# TU CÓDIGO AQUÍ\n",
    "# Usa: df['departamento'].value_counts()\n"
   ]
  },
  {
   "cell_type": "markdown",
   "metadata": {},
   "source": [
    "**Pregunta 1.2 (5 puntos):** ¿Cuál es la distribución de género? Crea un gráfico de barras."
   ]
  },
  {
   "cell_type": "code",
   "execution_count": null,
   "metadata": {},
   "outputs": [],
   "source": [
    "# TU CÓDIGO AQUÍ\n",
    "# Crea un gráfico de barras de la distribución de género\n"
   ]
  },
  {
   "cell_type": "markdown",
   "metadata": {},
   "source": [
    "---\n",
    "\n",
    "## Parte 2: Análisis Descriptivo de Satisfacción (20 puntos)"
   ]
  },
  {
   "cell_type": "markdown",
   "metadata": {},
   "source": [
    "**Pregunta 2.1 (10 puntos):** Calcula las medidas de tendencia central y dispersión de la satisfacción."
   ]
  },
  {
   "cell_type": "code",
   "execution_count": null,
   "metadata": {},
   "outputs": [],
   "source": [
    "# TU CÓDIGO AQUÍ\n",
    "# Calcula: media, mediana, moda, desviación estándar, Q1, Q3, IQR\n",
    "\n",
    "media = \n",
    "mediana = \n",
    "moda = \n",
    "desv_est = \n",
    "Q1 = \n",
    "Q3 = \n",
    "IQR = \n",
    "\n",
    "print(f\"Media: {media:.2f}\")\n",
    "# Continúa imprimiendo las demás medidas"
   ]
  },
  {
   "cell_type": "markdown",
   "metadata": {},
   "source": [
    "**Interpretación:** *Escribe aquí qué te dicen estos números sobre la satisfacción general.*"
   ]
  },
  {
   "cell_type": "markdown",
   "metadata": {},
   "source": [
    "**Pregunta 2.2 (10 puntos):** Crea un dashboard de 4 gráficos:\n",
    "1. Histograma de satisfacción\n",
    "2. Boxplot de satisfacción\n",
    "3. Boxplot de satisfacción por departamento\n",
    "4. Scatter plot: tiempo de espera vs satisfacción"
   ]
  },
  {
   "cell_type": "code",
   "execution_count": null,
   "metadata": {},
   "outputs": [],
   "source": [
    "# TU CÓDIGO AQUÍ\n",
    "# Crea una figura con 4 subplots (2x2)\n",
    "\n",
    "fig, axes = plt.subplots(2, 2, figsize=(16, 12))\n",
    "\n",
    "# 1. Histograma\n",
    "# TU CÓDIGO\n",
    "\n",
    "# 2. Boxplot\n",
    "# TU CÓDIGO\n",
    "\n",
    "# 3. Boxplot por departamento\n",
    "# TU CÓDIGO\n",
    "\n",
    "# 4. Scatter plot\n",
    "# TU CÓDIGO\n",
    "\n",
    "plt.tight_layout()\n",
    "plt.show()"
   ]
  },
  {
   "cell_type": "markdown",
   "metadata": {},
   "source": [
    "**Observaciones:** *¿Qué patrones observas en las visualizaciones?*"
   ]
  },
  {
   "cell_type": "markdown",
   "metadata": {},
   "source": [
    "---\n",
    "\n",
    "## Parte 3: Pruebas de Hipótesis (40 puntos)\n",
    "\n",
    "### 3.1 Prueba t para Una Muestra (15 puntos)\n",
    "\n",
    "**Escenario:** La ONG tiene como meta una satisfacción promedio de **8.0 puntos**.\n",
    "\n",
    "**Pregunta:** ¿La satisfacción real es diferente de 8.0?"
   ]
  },
  {
   "cell_type": "code",
   "execution_count": null,
   "metadata": {},
   "outputs": [],
   "source": [
    "# Paso 1: Plantear hipótesis\n",
    "print(\"📋 HIPÓTESIS\")\n",
    "# TU CÓDIGO: Escribe H₀ y H₁\n"
   ]
  },
  {
   "cell_type": "code",
   "execution_count": null,
   "metadata": {},
   "outputs": [],
   "source": [
    "# Paso 2: Realizar prueba t\n",
    "# TU CÓDIGO AQUÍ\n",
    "# Usa: stats.ttest_1samp()\n",
    "\n",
    "t_stat, p_value = \n",
    "\n",
    "print(f\"t-statistic: {t_stat:.4f}\")\n",
    "print(f\"p-value: {p_value:.4f}\")"
   ]
  },
  {
   "cell_type": "code",
   "execution_count": null,
   "metadata": {},
   "outputs": [],
   "source": [
    "# Paso 3: Decisión e interpretación\n",
    "alpha = 0.05\n",
    "\n",
    "# TU CÓDIGO: Escribe la decisión basada en p-value\n"
   ]
  },
  {
   "cell_type": "markdown",
   "metadata": {},
   "source": [
    "**Interpretación en contexto:** *¿Qué significa este resultado para la ONG? ¿Están cumpliendo su meta?*"
   ]
  },
  {
   "cell_type": "markdown",
   "metadata": {},
   "source": [
    "### 3.2 Prueba t para Dos Muestras (15 puntos)\n",
    "\n",
    "**Pregunta:** ¿Existe diferencia en satisfacción entre hombres y mujeres?"
   ]
  },
  {
   "cell_type": "code",
   "execution_count": null,
   "metadata": {},
   "outputs": [],
   "source": [
    "# Paso 1: Estadísticas descriptivas por grupo\n",
    "# TU CÓDIGO\n",
    "# Usa: df.groupby('genero')['satisfaccion'].agg(['mean', 'std', 'count'])\n"
   ]
  },
  {
   "cell_type": "code",
   "execution_count": null,
   "metadata": {},
   "outputs": [],
   "source": [
    "# Paso 2: Separar grupos\n",
    "# TU CÓDIGO\n",
    "grupo_m = \n",
    "grupo_f = "
   ]
  },
  {
   "cell_type": "code",
   "execution_count": null,
   "metadata": {},
   "outputs": [],
   "source": [
    "# Paso 3: Prueba t de dos muestras\n",
    "# TU CÓDIGO\n",
    "# Usa: stats.ttest_ind()\n",
    "\n",
    "t_stat, p_value = \n",
    "\n",
    "print(f\"t-statistic: {t_stat:.4f}\")\n",
    "print(f\"p-value: {p_value:.4f}\")"
   ]
  },
  {
   "cell_type": "markdown",
   "metadata": {},
   "source": [
    "**Decisión:** *Rechazar o no rechazar H₀ y por qué.*"
   ]
  },
  {
   "cell_type": "markdown",
   "metadata": {},
   "source": [
    "### 3.3 Comparación entre Dos Departamentos (10 puntos)\n",
    "\n",
    "**Pregunta:** ¿Existe diferencia en tiempo de espera entre los departamentos de **Salud** y **Educación**?"
   ]
  },
  {
   "cell_type": "code",
   "execution_count": null,
   "metadata": {},
   "outputs": [],
   "source": [
    "# TU CÓDIGO COMPLETO AQUÍ\n",
    "# 1. Filtrar departamentos\n",
    "# 2. Realizar prueba t\n",
    "# 3. Interpretar resultado\n"
   ]
  },
  {
   "cell_type": "markdown",
   "metadata": {},
   "source": [
    "---\n",
    "\n",
    "## Parte 4: Análisis de Correlación (15 puntos)\n",
    "\n",
    "**Pregunta:** ¿Existe relación entre tiempo de espera y satisfacción?"
   ]
  },
  {
   "cell_type": "code",
   "execution_count": null,
   "metadata": {},
   "outputs": [],
   "source": [
    "# Calcular correlación de Pearson\n",
    "# TU CÓDIGO\n",
    "# Usa: stats.pearsonr()\n",
    "\n",
    "r, p_value = \n",
    "\n",
    "print(f\"Correlación (r): {r:.4f}\")\n",
    "print(f\"p-value: {p_value:.4f}\")"
   ]
  },
  {
   "cell_type": "code",
   "execution_count": null,
   "metadata": {},
   "outputs": [],
   "source": [
    "# Crear scatter plot con línea de tendencia\n",
    "# TU CÓDIGO\n",
    "# Usa np.polyfit() para la línea de tendencia\n"
   ]
  },
  {
   "cell_type": "markdown",
   "metadata": {},
   "source": [
    "**Interpretación:** *¿Qué tipo de relación existe? ¿Es fuerte, moderada o débil?*"
   ]
  },
  {
   "cell_type": "markdown",
   "metadata": {},
   "source": [
    "---\n",
    "\n",
    "## Parte 5: Análisis por Departamento (15 puntos)"
   ]
  },
  {
   "cell_type": "markdown",
   "metadata": {},
   "source": [
    "**Pregunta 5.1:** Crea una tabla resumen con la media y desviación estándar de satisfacción por departamento."
   ]
  },
  {
   "cell_type": "code",
   "execution_count": null,
   "metadata": {},
   "outputs": [],
   "source": [
    "# TU CÓDIGO\n",
    "resumen_dept = \n",
    "print(resumen_dept)"
   ]
  },
  {
   "cell_type": "markdown",
   "metadata": {},
   "source": [
    "**Pregunta 5.2:** ¿Qué departamento tiene:\n",
    "- Mayor satisfacción promedio?\n",
    "- Menor satisfacción promedio?\n",
    "- Mayor variabilidad?"
   ]
  },
  {
   "cell_type": "code",
   "execution_count": null,
   "metadata": {},
   "outputs": [],
   "source": [
    "# TU CÓDIGO: Identifica estos departamentos\n",
    "\n",
    "mejor_dept = \n",
    "peor_dept = \n",
    "mas_variable = \n",
    "\n",
    "print(f\"Mayor satisfacción: {mejor_dept}\")\n",
    "print(f\"Menor satisfacción: {peor_dept}\")\n",
    "print(f\"Mayor variabilidad: {mas_variable}\")"
   ]
  },
  {
   "cell_type": "markdown",
   "metadata": {},
   "source": [
    "---\n",
    "\n",
    "## Parte 6: Reporte Ejecutivo (Bonus +10 puntos)\n",
    "\n",
    "Redacta un breve reporte (200-300 palabras) que incluya:\n",
    "\n",
    "1. **Situación Actual:** Resumen de los hallazgos clave\n",
    "2. **Áreas de Oportunidad:** Problemas identificados\n",
    "3. **Recomendaciones:** 3-5 acciones concretas basadas en datos"
   ]
  },
  {
   "cell_type": "markdown",
   "metadata": {},
   "source": [
    "### REPORTE EJECUTIVO\n",
    "\n",
    "**Para:** Dirección General de ONG \"Apoyo Comunitario\"  \n",
    "**De:** [Tu nombre], Analista de Datos  \n",
    "**Fecha:** [Fecha]  \n",
    "**Re:** Análisis de Satisfacción de Beneficiarios\n",
    "\n",
    "---\n",
    "\n",
    "**1. SITUACIÓN ACTUAL**\n",
    "\n",
    "*[Escribe aquí tu resumen de hallazgos]*\n",
    "\n",
    "**2. ÁREAS DE OPORTUNIDAD**\n",
    "\n",
    "*[Identifica problemas basados en datos]*\n",
    "\n",
    "**3. RECOMENDACIONES**\n",
    "\n",
    "1. *[Recomendación 1]*\n",
    "2. *[Recomendación 2]*\n",
    "3. *[Recomendación 3]*\n",
    "\n",
    "**CONCLUSIÓN**\n",
    "\n",
    "*[Mensaje final]*"
   ]
  },
  {
   "cell_type": "markdown",
   "metadata": {},
   "source": [
    "---\n",
    "\n",
    "## 🎯 Resumen de Tareas Completadas\n",
    "\n",
    "**Marca las tareas que completaste:**\n",
    "\n",
    "- [ ] Parte 1: Carga y exploración (10 pts)\n",
    "- [ ] Parte 2: Análisis descriptivo (20 pts)\n",
    "- [ ] Parte 3: Pruebas de hipótesis (40 pts)\n",
    "- [ ] Parte 4: Correlación (15 pts)\n",
    "- [ ] Parte 5: Análisis por departamento (15 pts)\n",
    "- [ ] Parte 6: Reporte ejecutivo (Bonus +10 pts)\n",
    "\n",
    "**Total:** ___ / 100 puntos (+ bonus)\n",
    "\n",
    "---\n",
    "\n",
    "## 💡 Reflexión Final\n",
    "\n",
    "**Preguntas para reflexionar:**\n",
    "\n",
    "1. ¿Qué técnica estadística te pareció más útil para este análisis?\n",
    "2. ¿Qué desafíos enfrentaste al interpretar los resultados?\n",
    "3. ¿Cómo aplicarías este flujo de trabajo al dataset de tu reto final?\n",
    "\n",
    "*[Escribe tus reflexiones aquí]*\n",
    "\n",
    "---\n",
    "\n",
    "## 📚 Comparación con Workshop 1\n",
    "\n",
    "**Similitudes:**\n",
    "- Ambos usan análisis descriptivo y pruebas t\n",
    "- Estructura de análisis similar\n",
    "\n",
    "**Diferencias:**\n",
    "- Dataset diferente (ONG vs estudiantes)\n",
    "- Contexto de negocio diferente\n",
    "- Este ejercicio incluye correlación y análisis por departamento\n",
    "\n",
    "**Aprendizajes transferibles:**\n",
    "- El proceso estadístico es el mismo independientemente del dataset\n",
    "- La interpretación debe adaptarse al contexto específico\n",
    "- Las visualizaciones ayudan a comunicar hallazgos\n",
    "\n",
    "---\n",
    "\n",
    "**¡Excelente trabajo!** 🎉\n",
    "\n",
    "Este ejercicio te prepara para:\n",
    "- Workshop 2 (Ji-cuadrada, ANOVA, Regresión)\n",
    "- Reto final con dataset real de ONG\n",
    "- Aplicación profesional de estadística en negocios"
   ]
  }
 ],
 "metadata": {
  "kernelspec": {
   "display_name": "Python 3",
   "language": "python",
   "name": "python3"
  },
  "language_info": {
   "codemirror_mode": {
    "name": "ipython",
    "version": 3
   },
   "file_extension": ".py",
   "mimetype": "text/x-python",
   "name": "python",
   "nbconvert_exporter": "python",
   "pygments_lexer": "ipython3",
   "version": "3.8.0"
  }
 },
 "nbformat": 4,
 "nbformat_minor": 4
}
