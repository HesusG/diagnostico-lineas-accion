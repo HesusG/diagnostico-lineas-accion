{
 "cells": [
  {
   "cell_type": "markdown",
   "metadata": {},
   "source": [
    "# Ejercicio Práctico: Pruebas de Hipótesis\n",
    "\n",
    "**Curso:** CD2001B - Diagnóstico para Líneas de Acción  \n",
    "**Módulo:** 1 - Estadística para Negocios  \n",
    "**Tipo:** Ejercicio opcional de práctica  \n",
    "**Dataset:** ejemplo_satisfaccion_clientes.csv  \n",
    "**Tiempo estimado:** 60-75 minutos\n",
    "\n",
    "---\n",
    "\n",
    "## 🎯 Objetivo\n",
    "\n",
    "Practicar la aplicación de pruebas de hipótesis (t-test para 1 y 2 muestras) antes del Workshop 1.\n",
    "\n",
    "## 📊 Dataset\n",
    "\n",
    "Continuarás trabajando con el dataset de satisfacción de beneficiarios de la ONG.\n",
    "\n",
    "---\n",
    "\n",
    "## 💡 Recordatorio: Pasos de una Prueba de Hipótesis\n",
    "\n",
    "1. **Plantear hipótesis** (H₀ y H₁)\n",
    "2. **Establecer nivel de significancia** (α = 0.05)\n",
    "3. **Calcular estadístico de prueba** (t-value)\n",
    "4. **Calcular p-value**\n",
    "5. **Tomar decisión** (rechazar o no rechazar H₀)\n",
    "6. **Interpretar en contexto**\n",
    "\n",
    "---"
   ]
  },
  {
   "cell_type": "markdown",
   "metadata": {},
   "source": [
    "## Parte 1: Preparación"
   ]
  },
  {
   "cell_type": "code",
   "execution_count": null,
   "metadata": {},
   "outputs": [],
   "source": [
    "import pandas as pd\n",
    "import numpy as np\n",
    "from scipy import stats\n",
    "import matplotlib.pyplot as plt\n",
    "import seaborn as sns\n",
    "\n",
    "sns.set_style('whitegrid')\n",
    "%matplotlib inline\n",
    "\n",
    "print(\"✓ Librerías importadas\")"
   ]
  },
  {
   "cell_type": "code",
   "execution_count": null,
   "metadata": {},
   "outputs": [],
   "source": [
    "# Cargar datos\n",
    "df = pd.read_csv('../datos/ejemplo_satisfaccion_clientes.csv')\n",
    "\n",
    "print(f\"Dataset cargado: {df.shape[0]} filas, {df.shape[1]} columnas\")\n",
    "df.head()"
   ]
  },
  {
   "cell_type": "markdown",
   "metadata": {},
   "source": [
    "---\n",
    "\n",
    "## Parte 2: Prueba t para Una Muestra (35 puntos)\n",
    "\n",
    "### Escenario 1: Satisfacción vs Objetivo (15 puntos)\n",
    "\n",
    "**Contexto:** La ONG tiene como meta que la satisfacción promedio sea de **8.0 puntos**. Queremos saber si la satisfacción real es significativamente diferente de este objetivo.\n",
    "\n",
    "**Pregunta:** ¿La satisfacción promedio de los beneficiarios es diferente de 8.0?"
   ]
  },
  {
   "cell_type": "code",
   "execution_count": null,
   "metadata": {},
   "outputs": [],
   "source": [
    "# Paso 1: Plantear hipótesis\n",
    "print(\"📋 HIPÓTESIS\")\n",
    "print(\"H₀: μ = 8.0 (La satisfacción promedio es 8.0)\")\n",
    "print(\"H₁: μ ≠ 8.0 (La satisfacción promedio es diferente de 8.0)\")\n",
    "print(\"\\nNivel de significancia: α = 0.05\")\n",
    "print(\"Tipo de prueba: Bilateral (two-tailed)\")"
   ]
  },
  {
   "cell_type": "code",
   "execution_count": null,
   "metadata": {},
   "outputs": [],
   "source": [
    "# Paso 2: Calcular estadístico descriptivo\n",
    "satisfaccion = df['satisfaccion']\n",
    "\n",
    "media_muestra = # TU CÓDIGO AQUÍ\n",
    "n = # TU CÓDIGO AQUÍ (tamaño de muestra)\n",
    "\n",
    "print(f\"Media muestral: {media_muestra:.2f}\")\n",
    "print(f\"Tamaño de muestra: {n}\")"
   ]
  },
  {
   "cell_type": "code",
   "execution_count": null,
   "metadata": {},
   "outputs": [],
   "source": [
    "# Paso 3: Realizar prueba t\n",
    "# TU CÓDIGO AQUÍ\n",
    "# Usa: stats.ttest_1samp(datos, valor_poblacional)\n",
    "\n",
    "t_stat, p_value = # TU CÓDIGO AQUÍ\n",
    "\n",
    "print(f\"\\n📊 RESULTADOS\")\n",
    "print(f\"t-statistic: {t_stat:.4f}\")\n",
    "print(f\"p-value: {p_value:.4f}\")"
   ]
  },
  {
   "cell_type": "code",
   "execution_count": null,
   "metadata": {},
   "outputs": [],
   "source": [
    "# Paso 4: Decisión\n",
    "alpha = 0.05\n",
    "\n",
    "if p_value < alpha:\n",
    "    print(f\"\\n✓ DECISIÓN: Rechazamos H₀ (p-value = {p_value:.4f} < {alpha})\")\n",
    "else:\n",
    "    print(f\"\\n✓ DECISIÓN: No rechazamos H₀ (p-value = {p_value:.4f} >= {alpha})\")"
   ]
  },
  {
   "cell_type": "markdown",
   "metadata": {},
   "source": [
    "**Interpretación en contexto:**\n",
    "\n",
    "*Escribe aquí tu interpretación:*\n",
    "- ¿Qué significa este resultado para la ONG?\n",
    "- ¿Están cumpliendo su meta de satisfacción de 8.0?\n",
    "- ¿Qué acciones deberían tomar?"
   ]
  },
  {
   "cell_type": "markdown",
   "metadata": {},
   "source": [
    "### Escenario 2: Tiempo de Espera vs Estándar (20 puntos)\n",
    "\n",
    "**Contexto:** El estándar de la industria es que los beneficiarios no esperen más de **30 minutos**. La ONG quiere verificar si su tiempo de espera promedio es superior a este estándar.\n",
    "\n",
    "**Pregunta:** ¿El tiempo de espera promedio es mayor a 30 minutos?"
   ]
  },
  {
   "cell_type": "code",
   "execution_count": null,
   "metadata": {},
   "outputs": [],
   "source": [
    "# Paso 1: Plantear hipótesis\n",
    "# NOTA: Esta es una prueba unilateral (one-tailed) porque preguntamos si es MAYOR\n",
    "\n",
    "print(\"📋 HIPÓTESIS\")\n",
    "print(\"H₀: μ ≤ 30 (El tiempo promedio es menor o igual a 30 min)\")\n",
    "print(\"H₁: μ > 30 (El tiempo promedio es mayor a 30 min)\")\n",
    "print(\"\\nNivel de significancia: α = 0.05\")\n",
    "print(\"Tipo de prueba: Unilateral derecha (right-tailed)\")"
   ]
  },
  {
   "cell_type": "code",
   "execution_count": null,
   "metadata": {},
   "outputs": [],
   "source": [
    "# Paso 2: Realizar prueba t\n",
    "tiempo = df['tiempo_espera']\n",
    "\n",
    "# TU CÓDIGO AQUÍ\n",
    "t_stat, p_value_bilateral = # stats.ttest_1samp(...)\n",
    "\n",
    "# Para prueba unilateral, dividimos p-value entre 2\n",
    "p_value = p_value_bilateral / 2\n",
    "\n",
    "print(f\"Media muestral: {tiempo.mean():.2f} minutos\")\n",
    "print(f\"t-statistic: {t_stat:.4f}\")\n",
    "print(f\"p-value (unilateral): {p_value:.4f}\")"
   ]
  },
  {
   "cell_type": "code",
   "execution_count": null,
   "metadata": {},
   "outputs": [],
   "source": [
    "# Paso 3: Decisión\n",
    "if p_value < alpha and t_stat > 0:  # t > 0 confirma que media > 30\n",
    "    print(f\"\\n✓ DECISIÓN: Rechazamos H₀\")\n",
    "    print(\"Evidencia de que el tiempo de espera promedio es MAYOR a 30 minutos\")\n",
    "else:\n",
    "    print(f\"\\n✓ DECISIÓN: No rechazamos H₀\")\n",
    "    print(\"No hay evidencia suficiente de que el tiempo supere los 30 minutos\")"
   ]
  },
  {
   "cell_type": "markdown",
   "metadata": {},
   "source": [
    "**Interpretación:**\n",
    "\n",
    "*¿Qué implica este resultado? ¿La ONG necesita mejorar sus procesos de atención?*"
   ]
  },
  {
   "cell_type": "markdown",
   "metadata": {},
   "source": [
    "---\n",
    "\n",
    "## Parte 3: Prueba t para Dos Muestras Independientes (40 puntos)\n",
    "\n",
    "### Escenario 3: Satisfacción por Género (20 puntos)\n",
    "\n",
    "**Contexto:** Queremos saber si hay diferencias en la satisfacción entre hombres y mujeres.\n",
    "\n",
    "**Pregunta:** ¿La satisfacción promedio difiere entre géneros?"
   ]
  },
  {
   "cell_type": "code",
   "execution_count": null,
   "metadata": {},
   "outputs": [],
   "source": [
    "# Paso 1: Exploración inicial\n",
    "print(\"📊 Satisfacción por Género\")\n",
    "resumen = df.groupby('genero')['satisfaccion'].agg(['mean', 'std', 'count'])\n",
    "print(resumen)"
   ]
  },
  {
   "cell_type": "code",
   "execution_count": null,
   "metadata": {},
   "outputs": [],
   "source": [
    "# Visualización\n",
    "plt.figure(figsize=(10, 6))\n",
    "sns.boxplot(data=df, x='genero', y='satisfaccion', palette='Set2')\n",
    "plt.title('Satisfacción por Género')\n",
    "plt.ylabel('Satisfacción')\n",
    "plt.show()"
   ]
  },
  {
   "cell_type": "code",
   "execution_count": null,
   "metadata": {},
   "outputs": [],
   "source": [
    "# Paso 2: Plantear hipótesis\n",
    "print(\"📋 HIPÓTESIS\")\n",
    "print(\"H₀: μ_hombres = μ_mujeres (No hay diferencia en satisfacción)\")\n",
    "print(\"H₁: μ_hombres ≠ μ_mujeres (Hay diferencia en satisfacción)\")\n",
    "print(\"\\nα = 0.05\")"
   ]
  },
  {
   "cell_type": "code",
   "execution_count": null,
   "metadata": {},
   "outputs": [],
   "source": [
    "# Paso 3: Separar grupos\n",
    "grupo_masculino = # TU CÓDIGO AQUÍ (filtra df donde genero == 'Masculino')\n",
    "grupo_femenino = # TU CÓDIGO AQUÍ (filtra df donde genero == 'Femenino')\n",
    "\n",
    "satisf_m = grupo_masculino['satisfaccion']\n",
    "satisf_f = grupo_femenino['satisfaccion']\n",
    "\n",
    "print(f\"Tamaño grupo masculino: {len(satisf_m)}\")\n",
    "print(f\"Tamaño grupo femenino: {len(satisf_f)}\")"
   ]
  },
  {
   "cell_type": "code",
   "execution_count": null,
   "metadata": {},
   "outputs": [],
   "source": [
    "# Paso 4: Realizar prueba t de dos muestras\n",
    "# TU CÓDIGO AQUÍ\n",
    "# Usa: stats.ttest_ind(grupo1, grupo2)\n",
    "\n",
    "t_stat, p_value = # TU CÓDIGO AQUÍ\n",
    "\n",
    "print(f\"\\n📊 RESULTADOS\")\n",
    "print(f\"t-statistic: {t_stat:.4f}\")\n",
    "print(f\"p-value: {p_value:.4f}\")"
   ]
  },
  {
   "cell_type": "code",
   "execution_count": null,
   "metadata": {},
   "outputs": [],
   "source": [
    "# Paso 5: Decisión\n",
    "if p_value < alpha:\n",
    "    print(f\"\\n✓ DECISIÓN: Rechazamos H₀ (p = {p_value:.4f})\")\n",
    "    print(\"Existe diferencia significativa en satisfacción entre géneros\")\n",
    "else:\n",
    "    print(f\"\\n✓ DECISIÓN: No rechazamos H₀ (p = {p_value:.4f})\")\n",
    "    print(\"No hay evidencia de diferencia en satisfacción entre géneros\")"
   ]
  },
  {
   "cell_type": "markdown",
   "metadata": {},
   "source": [
    "**Interpretación:**\n",
    "\n",
    "*¿Qué significa este resultado? ¿La ONG debe ajustar sus servicios según el género?*"
   ]
  },
  {
   "cell_type": "markdown",
   "metadata": {},
   "source": [
    "### Escenario 4: Tiempo de Espera por Departamento (20 puntos)\n",
    "\n",
    "**Contexto:** Comparemos dos departamentos específicos: **Salud** vs **Educación**\n",
    "\n",
    "**Pregunta:** ¿El tiempo de espera difiere entre Salud y Educación?"
   ]
  },
  {
   "cell_type": "code",
   "execution_count": null,
   "metadata": {},
   "outputs": [],
   "source": [
    "# Paso 1: Filtrar departamentos\n",
    "salud = # TU CÓDIGO AQUÍ\n",
    "educacion = # TU CÓDIGO AQUÍ\n",
    "\n",
    "tiempo_salud = salud['tiempo_espera']\n",
    "tiempo_educacion = educacion['tiempo_espera']\n",
    "\n",
    "print(\"📊 Estadísticas Descriptivas\")\n",
    "print(f\"\\nSalud:\")\n",
    "print(f\"  Media: {tiempo_salud.mean():.2f} min\")\n",
    "print(f\"  Desv. Est: {tiempo_salud.std():.2f} min\")\n",
    "print(f\"  n = {len(tiempo_salud)}\")\n",
    "\n",
    "print(f\"\\nEducación:\")\n",
    "print(f\"  Media: {tiempo_educacion.mean():.2f} min\")\n",
    "print(f\"  Desv. Est: {tiempo_educacion.std():.2f} min\")\n",
    "print(f\"  n = {len(tiempo_educacion)}\")"
   ]
  },
  {
   "cell_type": "code",
   "execution_count": null,
   "metadata": {},
   "outputs": [],
   "source": [
    "# Visualización comparativa\n",
    "plt.figure(figsize=(10, 6))\n",
    "\n",
    "data_comparacion = df[df['departamento'].isin(['Salud', 'Educación'])]\n",
    "sns.boxplot(data=data_comparacion, x='departamento', y='tiempo_espera', palette='pastel')\n",
    "plt.title('Tiempo de Espera: Salud vs Educación')\n",
    "plt.ylabel('Tiempo de Espera (minutos)')\n",
    "plt.show()"
   ]
  },
  {
   "cell_type": "code",
   "execution_count": null,
   "metadata": {},
   "outputs": [],
   "source": [
    "# Hipótesis\n",
    "print(\"📋 HIPÓTESIS\")\n",
    "print(\"H₀: μ_salud = μ_educacion\")\n",
    "print(\"H₁: μ_salud ≠ μ_educacion\")"
   ]
  },
  {
   "cell_type": "code",
   "execution_count": null,
   "metadata": {},
   "outputs": [],
   "source": [
    "# Prueba t\n",
    "# TU CÓDIGO AQUÍ\n",
    "\n",
    "t_stat, p_value = # stats.ttest_ind(...)\n",
    "\n",
    "print(f\"\\nt-statistic: {t_stat:.4f}\")\n",
    "print(f\"p-value: {p_value:.4f}\")\n",
    "\n",
    "if p_value < alpha:\n",
    "    print(f\"\\n✓ Rechazamos H₀ - Hay diferencia significativa\")\n",
    "else:\n",
    "    print(f\"\\n✓ No rechazamos H₀ - No hay diferencia significativa\")"
   ]
  },
  {
   "cell_type": "markdown",
   "metadata": {},
   "source": [
    "**Interpretación:**\n",
    "\n",
    "*¿Qué departamento tiene mayor tiempo de espera? ¿Qué acciones recomendarías?*"
   ]
  },
  {
   "cell_type": "markdown",
   "metadata": {},
   "source": [
    "---\n",
    "\n",
    "## Parte 4: Verificación de Supuestos (25 puntos)\n",
    "\n",
    "### Supuesto 1: Normalidad\n",
    "\n",
    "Las pruebas t asumen que los datos provienen de una distribución normal (especialmente para muestras pequeñas)."
   ]
  },
  {
   "cell_type": "code",
   "execution_count": null,
   "metadata": {},
   "outputs": [],
   "source": [
    "# Test de Shapiro-Wilk para normalidad\n",
    "# H₀: Los datos provienen de una distribución normal\n",
    "\n",
    "stat, p_shapiro = stats.shapiro(df['satisfaccion'])\n",
    "\n",
    "print(\"📊 Prueba de Normalidad - Shapiro-Wilk\")\n",
    "print(f\"Estadístico: {stat:.4f}\")\n",
    "print(f\"p-value: {p_shapiro:.4f}\")\n",
    "\n",
    "if p_shapiro > 0.05:\n",
    "    print(\"\\n✓ Los datos parecen provenir de una distribución normal\")\n",
    "else:\n",
    "    print(\"\\n⚠️ Los datos NO parecen normales (pero con n>30, la prueba t es robusta)\")"
   ]
  },
  {
   "cell_type": "code",
   "execution_count": null,
   "metadata": {},
   "outputs": [],
   "source": [
    "# Q-Q Plot (visualización de normalidad)\n",
    "from scipy.stats import probplot\n",
    "\n",
    "fig, axes = plt.subplots(1, 2, figsize=(14, 5))\n",
    "\n",
    "# Histograma con curva normal\n",
    "axes[0].hist(df['satisfaccion'], bins=20, density=True, alpha=0.7, edgecolor='black')\n",
    "mu, sigma = df['satisfaccion'].mean(), df['satisfaccion'].std()\n",
    "x = np.linspace(df['satisfaccion'].min(), df['satisfaccion'].max(), 100)\n",
    "axes[0].plot(x, stats.norm.pdf(x, mu, sigma), 'r-', linewidth=2, label='Normal teórica')\n",
    "axes[0].set_title('Distribución de Satisfacción')\n",
    "axes[0].legend()\n",
    "\n",
    "# Q-Q plot\n",
    "probplot(df['satisfaccion'], dist=\"norm\", plot=axes[1])\n",
    "axes[1].set_title('Q-Q Plot')\n",
    "\n",
    "plt.tight_layout()\n",
    "plt.show()"
   ]
  },
  {
   "cell_type": "markdown",
   "metadata": {},
   "source": [
    "**Interpretación del Q-Q Plot:**\n",
    "- Si los puntos siguen la línea diagonal → los datos son normales\n",
    "- Desviaciones en las colas → datos con outliers o asimetría"
   ]
  },
  {
   "cell_type": "markdown",
   "metadata": {},
   "source": [
    "### Supuesto 2: Homogeneidad de Varianzas\n",
    "\n",
    "Para pruebas t de dos muestras, verificamos si las varianzas son iguales."
   ]
  },
  {
   "cell_type": "code",
   "execution_count": null,
   "metadata": {},
   "outputs": [],
   "source": [
    "# Test de Levene para igualdad de varianzas\n",
    "# H₀: Las varianzas son iguales\n",
    "\n",
    "stat, p_levene = stats.levene(satisf_m, satisf_f)\n",
    "\n",
    "print(\"📊 Prueba de Levene (Homogeneidad de Varianzas)\")\n",
    "print(f\"Estadístico: {stat:.4f}\")\n",
    "print(f\"p-value: {p_levene:.4f}\")\n",
    "\n",
    "if p_levene > 0.05:\n",
    "    print(\"\\n✓ Las varianzas son homogéneas (supuesto cumplido)\")\n",
    "else:\n",
    "    print(\"\\n⚠️ Las varianzas son diferentes (usar equal_var=False en ttest_ind)\")"
   ]
  },
  {
   "cell_type": "markdown",
   "metadata": {},
   "source": [
    "---\n",
    "\n",
    "## 🎯 Resumen de Resultados\n",
    "\n",
    "**Completa esta tabla:**\n",
    "\n",
    "| Prueba | t-statistic | p-value | Decisión | Conclusión |\n",
    "|--------|-------------|---------|----------|------------|\n",
    "| Satisfacción vs 8.0 | ___ | ___ | ___ | ___ |\n",
    "| Tiempo vs 30 min | ___ | ___ | ___ | ___ |\n",
    "| Satisfacción M vs F | ___ | ___ | ___ | ___ |\n",
    "| Tiempo Salud vs Educ | ___ | ___ | ___ | ___ |\n",
    "\n",
    "---\n",
    "\n",
    "## ✅ Autoevaluación\n",
    "\n",
    "- [ ] Planteé correctamente H₀ y H₁ para cada escenario\n",
    "- [ ] Identifiqué cuándo usar prueba unilateral vs bilateral\n",
    "- [ ] Interpreté correctamente los p-values\n",
    "- [ ] Verifiqué supuestos de normalidad y homogeneidad\n",
    "- [ ] Conecté resultados estadísticos con el contexto del negocio\n",
    "\n",
    "---\n",
    "\n",
    "## 📚 Próximos Pasos\n",
    "\n",
    "1. Revisa **`ejercicio_pruebas_hipotesis_SOLUCION.ipynb`**\n",
    "2. Practica identificar errores Tipo I y Tipo II\n",
    "3. Prepárate para **Workshop 1** con dataset de alcohol\n",
    "\n",
    "---\n",
    "\n",
    "**¡Excelente trabajo!** 🎉"
   ]
  }
 ],
 "metadata": {
  "kernelspec": {
   "display_name": "Python 3",
   "language": "python",
   "name": "python3"
  },
  "language_info": {
   "codemirror_mode": {
    "name": "ipython",
    "version": 3
   },
   "file_extension": ".py",
   "mimetype": "text/x-python",
   "name": "python",
   "nbconvert_exporter": "python",
   "pygments_lexer": "ipython3",
   "version": "3.8.0"
  }
 },
 "nbformat": 4,
 "nbformat_minor": 4
}
