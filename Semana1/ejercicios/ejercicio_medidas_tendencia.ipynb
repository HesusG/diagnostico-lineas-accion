{
 "cells": [
  {
   "cell_type": "markdown",
   "metadata": {},
   "source": [
    "# Ejercicio Práctico: Medidas de Tendencia Central y Dispersión\n",
    "\n",
    "**Curso:** CD2001B - Diagnóstico para Líneas de Acción  \n",
    "**Módulo:** 1 - Estadística para Negocios  \n",
    "**Tipo:** Ejercicio opcional de práctica  \n",
    "**Dataset:** ejemplo_satisfaccion_clientes.csv  \n",
    "**Tiempo estimado:** 45-60 minutos\n",
    "\n",
    "---\n",
    "\n",
    "## 🎯 Objetivo\n",
    "\n",
    "Practicar el cálculo e interpretación de medidas descriptivas usando Python antes de realizar el Workshop 1.\n",
    "\n",
    "## 📊 Dataset\n",
    "\n",
    "Usarás el dataset de **satisfacción de beneficiarios** de una ONG ficticia que incluye:\n",
    "- Calificaciones de satisfacción (1-10)\n",
    "- Tiempo de espera (minutos)\n",
    "- Edad de beneficiarios\n",
    "- Departamento de servicio\n",
    "- Género\n",
    "\n",
    "---\n",
    "\n",
    "## 💡 Instrucciones\n",
    "\n",
    "1. Completa cada celda de código\n",
    "2. Interpreta los resultados en texto\n",
    "3. Compara tus respuestas con el archivo de solución\n",
    "4. Si tienes dudas, revisa los notebooks de clase"
   ]
  },
  {
   "cell_type": "markdown",
   "metadata": {},
   "source": [
    "---\n",
    "\n",
    "## Parte 1: Preparación del Entorno (5 puntos)\n",
    "\n",
    "### 1.1 Importar Librerías"
   ]
  },
  {
   "cell_type": "code",
   "execution_count": null,
   "metadata": {},
   "outputs": [],
   "source": [
    "# Importa las librerías necesarias\n",
    "import pandas as pd\n",
    "import numpy as np\n",
    "import matplotlib.pyplot as plt\n",
    "import seaborn as sns\n",
    "\n",
    "# Configuración de visualización\n",
    "sns.set_style('whitegrid')\n",
    "%matplotlib inline\n",
    "\n",
    "print(\"✓ Librerías importadas correctamente\")"
   ]
  },
  {
   "cell_type": "markdown",
   "metadata": {},
   "source": [
    "### 1.2 Cargar Dataset"
   ]
  },
  {
   "cell_type": "code",
   "execution_count": null,
   "metadata": {},
   "outputs": [],
   "source": [
    "# Carga el dataset de satisfacción\n",
    "df = pd.read_csv('../datos/ejemplo_satisfaccion_clientes.csv')\n",
    "\n",
    "# Muestra las primeras 5 filas\n",
    "print(\"📊 Primeras filas del dataset:\")\n",
    "df.head()"
   ]
  },
  {
   "cell_type": "code",
   "execution_count": null,
   "metadata": {},
   "outputs": [],
   "source": [
    "# Explora la estructura del dataset\n",
    "print(f\"Dimensiones: {df.shape[0]} filas, {df.shape[1]} columnas\\n\")\n",
    "print(\"Información del dataset:\")\n",
    "df.info()"
   ]
  },
  {
   "cell_type": "markdown",
   "metadata": {},
   "source": [
    "---\n",
    "\n",
    "## Parte 2: Medidas de Tendencia Central (30 puntos)\n",
    "\n",
    "### Pregunta 1: Satisfacción General (10 puntos)"
   ]
  },
  {
   "cell_type": "code",
   "execution_count": null,
   "metadata": {},
   "outputs": [],
   "source": [
    "# Calcula media, mediana y moda de la columna 'satisfaccion'\n",
    "\n",
    "# Media\n",
    "media_satisfaccion = # TU CÓDIGO AQUÍ\n",
    "\n",
    "# Mediana\n",
    "mediana_satisfaccion = # TU CÓDIGO AQUÍ\n",
    "\n",
    "# Moda\n",
    "moda_satisfaccion = # TU CÓDIGO AQUÍ (usa .mode()[0])\n",
    "\n",
    "print(f\"📊 Medidas de Tendencia Central - Satisfacción\")\n",
    "print(f\"Media:   {media_satisfaccion:.2f}\")\n",
    "print(f\"Mediana: {mediana_satisfaccion:.2f}\")\n",
    "print(f\"Moda:    {moda_satisfaccion}\")"
   ]
  },
  {
   "cell_type": "markdown",
   "metadata": {},
   "source": [
    "**Interpretación:**\n",
    "\n",
    "*Escribe aquí tu interpretación:*\n",
    "- ¿Qué te dice la media sobre la satisfacción promedio?\n",
    "- ¿Por qué la mediana y la media son diferentes (o similares)?\n",
    "- ¿Qué significa que la moda sea ese valor?"
   ]
  },
  {
   "cell_type": "markdown",
   "metadata": {},
   "source": [
    "### Pregunta 2: Tiempo de Espera (10 puntos)"
   ]
  },
  {
   "cell_type": "code",
   "execution_count": null,
   "metadata": {},
   "outputs": [],
   "source": [
    "# Calcula media, mediana y moda del tiempo de espera\n",
    "\n",
    "media_tiempo = # TU CÓDIGO AQUÍ\n",
    "mediana_tiempo = # TU CÓDIGO AQUÍ\n",
    "moda_tiempo = # TU CÓDIGO AQUÍ\n",
    "\n",
    "print(f\"📊 Medidas de Tendencia Central - Tiempo de Espera (minutos)\")\n",
    "print(f\"Media:   {media_tiempo:.2f}\")\n",
    "print(f\"Mediana: {mediana_tiempo:.2f}\")\n",
    "print(f\"Moda:    {moda_tiempo}\")"
   ]
  },
  {
   "cell_type": "markdown",
   "metadata": {},
   "source": [
    "**Interpretación:**\n",
    "\n",
    "*Responde:*\n",
    "- ¿Cuál medida (media o mediana) es más representativa y por qué?\n",
    "- ¿Hay evidencia de outliers? ¿Cómo lo sabes?"
   ]
  },
  {
   "cell_type": "markdown",
   "metadata": {},
   "source": [
    "### Pregunta 3: Edad de Beneficiarios (10 puntos)"
   ]
  },
  {
   "cell_type": "code",
   "execution_count": null,
   "metadata": {},
   "outputs": [],
   "source": [
    "# Calcula las medidas de tendencia central para 'edad'\n",
    "\n",
    "# TU CÓDIGO AQUÍ\n",
    "\n",
    "print(f\"📊 Medidas de Tendencia Central - Edad\")\n",
    "# TU CÓDIGO PARA IMPRIMIR RESULTADOS"
   ]
  },
  {
   "cell_type": "markdown",
   "metadata": {},
   "source": [
    "**Interpretación:**\n",
    "\n",
    "*¿Cuál es el perfil etario típico de los beneficiarios?*"
   ]
  },
  {
   "cell_type": "markdown",
   "metadata": {},
   "source": [
    "---\n",
    "\n",
    "## Parte 3: Medidas de Dispersión (30 puntos)\n",
    "\n",
    "### Pregunta 4: Variabilidad de Satisfacción (15 puntos)"
   ]
  },
  {
   "cell_type": "code",
   "execution_count": null,
   "metadata": {},
   "outputs": [],
   "source": [
    "# Calcula varianza, desviación estándar y rango de 'satisfaccion'\n",
    "\n",
    "varianza = # TU CÓDIGO AQUÍ (usa .var())\n",
    "desviacion = # TU CÓDIGO AQUÍ (usa .std())\n",
    "rango = # TU CÓDIGO AQUÍ (max - min)\n",
    "\n",
    "print(f\"📊 Medidas de Dispersión - Satisfacción\")\n",
    "print(f\"Varianza:           {varianza:.2f}\")\n",
    "print(f\"Desviación estándar: {desviacion:.2f}\")\n",
    "print(f\"Rango:              {rango}\")"
   ]
  },
  {
   "cell_type": "markdown",
   "metadata": {},
   "source": [
    "**Interpretación:**\n",
    "\n",
    "*¿Qué tan dispersos están los datos de satisfacción? ¿Es alta o baja la variabilidad?*"
   ]
  },
  {
   "cell_type": "markdown",
   "metadata": {},
   "source": [
    "### Pregunta 5: Cuartiles y Rango Intercuartílico (15 puntos)"
   ]
  },
  {
   "cell_type": "code",
   "execution_count": null,
   "metadata": {},
   "outputs": [],
   "source": [
    "# Calcula Q1, Q2 (mediana), Q3 y el IQR del tiempo de espera\n",
    "\n",
    "Q1 = # TU CÓDIGO AQUÍ (usa .quantile(0.25))\n",
    "Q2 = # TU CÓDIGO AQUÍ (usa .quantile(0.50))\n",
    "Q3 = # TU CÓDIGO AQUÍ (usa .quantile(0.75))\n",
    "IQR = # TU CÓDIGO AQUÍ (Q3 - Q1)\n",
    "\n",
    "print(f\"📊 Cuartiles - Tiempo de Espera\")\n",
    "print(f\"Q1 (25%): {Q1:.2f} minutos\")\n",
    "print(f\"Q2 (50%): {Q2:.2f} minutos\")\n",
    "print(f\"Q3 (75%): {Q3:.2f} minutos\")\n",
    "print(f\"IQR:      {IQR:.2f} minutos\")"
   ]
  },
  {
   "cell_type": "markdown",
   "metadata": {},
   "source": [
    "**Interpretación:**\n",
    "\n",
    "*¿Qué porcentaje de beneficiarios espera más de Q3 minutos? ¿Qué significa el IQR en este contexto?*"
   ]
  },
  {
   "cell_type": "markdown",
   "metadata": {},
   "source": [
    "---\n",
    "\n",
    "## Parte 4: Visualización (20 puntos)\n",
    "\n",
    "### Pregunta 6: Histograma de Satisfacción (10 puntos)"
   ]
  },
  {
   "cell_type": "code",
   "execution_count": null,
   "metadata": {},
   "outputs": [],
   "source": [
    "# Crea un histograma de la variable 'satisfaccion'\n",
    "\n",
    "plt.figure(figsize=(10, 6))\n",
    "\n",
    "# TU CÓDIGO AQUÍ (usa plt.hist() o df['satisfaccion'].hist())\n",
    "\n",
    "plt.xlabel('Satisfacción')\n",
    "plt.ylabel('Frecuencia')\n",
    "plt.title('Distribución de Satisfacción de Beneficiarios')\n",
    "plt.axvline(media_satisfaccion, color='red', linestyle='--', label=f'Media: {media_satisfaccion:.2f}')\n",
    "plt.axvline(mediana_satisfaccion, color='green', linestyle='--', label=f'Mediana: {mediana_satisfaccion:.2f}')\n",
    "plt.legend()\n",
    "plt.show()"
   ]
  },
  {
   "cell_type": "markdown",
   "metadata": {},
   "source": [
    "**Observación:**\n",
    "\n",
    "*¿La distribución es simétrica, sesgada a la izquierda o sesgada a la derecha?*"
   ]
  },
  {
   "cell_type": "markdown",
   "metadata": {},
   "source": [
    "### Pregunta 7: Boxplot de Tiempo de Espera (10 puntos)"
   ]
  },
  {
   "cell_type": "code",
   "execution_count": null,
   "metadata": {},
   "outputs": [],
   "source": [
    "# Crea un boxplot del tiempo de espera\n",
    "\n",
    "plt.figure(figsize=(10, 6))\n",
    "\n",
    "# TU CÓDIGO AQUÍ (usa sns.boxplot() o plt.boxplot())\n",
    "\n",
    "plt.ylabel('Tiempo de Espera (minutos)')\n",
    "plt.title('Boxplot: Tiempo de Espera')\n",
    "plt.show()"
   ]
  },
  {
   "cell_type": "markdown",
   "metadata": {},
   "source": [
    "**Observación:**\n",
    "\n",
    "*¿Observas outliers en el boxplot? ¿Qué te dice esto sobre la distribución del tiempo de espera?*"
   ]
  },
  {
   "cell_type": "markdown",
   "metadata": {},
   "source": [
    "---\n",
    "\n",
    "## Parte 5: Análisis por Grupos (15 puntos)\n",
    "\n",
    "### Pregunta 8: Satisfacción por Departamento"
   ]
  },
  {
   "cell_type": "code",
   "execution_count": null,
   "metadata": {},
   "outputs": [],
   "source": [
    "# Calcula la media y desviación estándar de satisfacción agrupada por departamento\n",
    "\n",
    "resumen_dept = # TU CÓDIGO AQUÍ (usa .groupby('departamento')['satisfaccion'].agg(['mean', 'std']))\n",
    "\n",
    "print(\"📊 Satisfacción por Departamento\")\n",
    "print(resumen_dept)"
   ]
  },
  {
   "cell_type": "code",
   "execution_count": null,
   "metadata": {},
   "outputs": [],
   "source": [
    "# Crea un boxplot comparativo por departamento\n",
    "\n",
    "plt.figure(figsize=(12, 6))\n",
    "\n",
    "# TU CÓDIGO AQUÍ (usa sns.boxplot con x='departamento', y='satisfaccion')\n",
    "\n",
    "plt.xlabel('Departamento')\n",
    "plt.ylabel('Satisfacción')\n",
    "plt.title('Satisfacción por Departamento')\n",
    "plt.xticks(rotation=45)\n",
    "plt.show()"
   ]
  },
  {
   "cell_type": "markdown",
   "metadata": {},
   "source": [
    "**Interpretación:**\n",
    "\n",
    "*¿Qué departamento tiene mayor satisfacción promedio? ¿Cuál tiene mayor variabilidad?*"
   ]
  },
  {
   "cell_type": "markdown",
   "metadata": {},
   "source": [
    "---\n",
    "\n",
    "## 🎯 Resumen Final\n",
    "\n",
    "**Completa esta tabla con tus resultados:**\n",
    "\n",
    "| Variable | Media | Mediana | Desv. Est. |\n",
    "|----------|-------|---------|------------|\n",
    "| Satisfacción | ___ | ___ | ___ |\n",
    "| Tiempo de Espera | ___ | ___ | ___ |\n",
    "| Edad | ___ | ___ | ___ |\n",
    "\n",
    "---\n",
    "\n",
    "## ✅ Autoevaluación\n",
    "\n",
    "- [ ] Calculé todas las medidas de tendencia central\n",
    "- [ ] Calculé todas las medidas de dispersión\n",
    "- [ ] Creé las visualizaciones solicitadas\n",
    "- [ ] Interpreté los resultados en contexto\n",
    "- [ ] Comparé mis respuestas con el archivo de solución\n",
    "\n",
    "---\n",
    "\n",
    "## 📚 Próximos Pasos\n",
    "\n",
    "1. Revisa el archivo **`ejercicio_medidas_tendencia_SOLUCION.ipynb`**\n",
    "2. Practica con el **`ejercicio_pruebas_hipotesis.ipynb`**\n",
    "3. Prepárate para **Workshop 1** con el dataset de alcohol\n",
    "\n",
    "---\n",
    "\n",
    "**¡Buen trabajo!** 🎉"
   ]
  }
 ],
 "metadata": {
  "kernelspec": {
   "display_name": "Python 3",
   "language": "python",
   "name": "python3"
  },
  "language_info": {
   "codemirror_mode": {
    "name": "ipython",
    "version": 3
   },
   "file_extension": ".py",
   "mimetype": "text/x-python",
   "name": "python",
   "nbconvert_exporter": "python",
   "pygments_lexer": "ipython3",
   "version": "3.8.0"
  }
 },
 "nbformat": 4,
 "nbformat_minor": 4
}
