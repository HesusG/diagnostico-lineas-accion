{
 "cells": [
  {
   "cell_type": "markdown",
   "metadata": {},
   "source": [
    "# Pruebas de Hipótesis para 1 y 2 Muestras\n",
    "\n",
    "## Objetivos\n",
    "- Entender el proceso de pruebas de hipótesis\n",
    "- Realizar prueba t para una muestra\n",
    "- Realizar prueba t para dos muestras independientes\n",
    "- Realizar prueba t pareada\n",
    "- Interpretar p-values y tomar decisiones estadísticas\n",
    "\n",
    "---"
   ]
  },
  {
   "cell_type": "markdown",
   "metadata": {},
   "source": [
    "## 1. Preparación"
   ]
  },
  {
   "cell_type": "code",
   "execution_count": null,
   "metadata": {},
   "outputs": [],
   "source": [
    "import pandas as pd\n",
    "import numpy as np\n",
    "from scipy import stats\n",
    "import matplotlib.pyplot as plt\n",
    "import seaborn as sns\n",
    "\n",
    "# Configuración\n",
    "plt.style.use('seaborn-v0_8-whitegrid')\n",
    "sns.set_palette(\"Set2\")\n",
    "%matplotlib inline\n",
    "\n",
    "# Semilla para reproducibilidad\n",
    "np.random.seed(42)\n",
    "\n",
    "# Cargar datos\n",
    "df = pd.read_csv('../datos/ejemplo_satisfaccion_clientes.csv')\n",
    "print(f\"Dataset cargado: {df.shape[0]} registros\")"
   ]
  },
  {
   "cell_type": "markdown",
   "metadata": {},
   "source": [
    "## 2. Recordatorio: Pasos de una Prueba de Hipótesis\n",
    "\n",
    "1. **Plantear hipótesis** (H₀ y H₁)\n",
    "2. **Seleccionar nivel de significancia** (α, típicamente 0.05)\n",
    "3. **Calcular estadístico de prueba** (t, Z, etc.)\n",
    "4. **Calcular p-value**\n",
    "5. **Tomar decisión:** Si p-value < α → Rechazar H₀\n",
    "\n",
    "---"
   ]
  },
  {
   "cell_type": "markdown",
   "metadata": {},
   "source": [
    "## 3. Prueba t para UNA Muestra\n",
    "\n",
    "### Contexto de Negocio:\n",
    "La ONG afirma que su satisfacción promedio es de **8.0/10**. ¿Los datos respaldan esta afirmación?\n",
    "\n",
    "### Hipótesis:\n",
    "- **H₀:** μ = 8.0 (La media poblacional es 8)\n",
    "- **H₁:** μ ≠ 8.0 (La media poblacional es diferente de 8) [Bilateral]"
   ]
  },
  {
   "cell_type": "code",
   "execution_count": null,
   "metadata": {},
   "outputs": [],
   "source": [
    "# Paso 1: Plantear hipótesis\n",
    "mu_0 = 8.0  # Valor hipotético\n",
    "alpha = 0.05  # Nivel de significancia\n",
    "\n",
    "print(\"=\"*60)\n",
    "print(\"PRUEBA T PARA UNA MUESTRA\")\n",
    "print(\"=\"*60)\n",
    "print(f\"H₀: μ = {mu_0}\")\n",
    "print(f\"H₁: μ ≠ {mu_0} (prueba bilateral)\")\n",
    "print(f\"α = {alpha}\")\n",
    "print(\"=\"*60)"
   ]
  },
  {
   "cell_type": "code",
   "execution_count": null,
   "metadata": {},
   "outputs": [],
   "source": [
    "# Paso 2: Calcular estadísticos de la muestra\n",
    "satisfaccion = df['satisfaccion']\n",
    "n = len(satisfaccion)\n",
    "media_muestral = satisfaccion.mean()\n",
    "desv_std_muestral = satisfaccion.std()\n",
    "\n",
    "print(\"\\nEstadísticos de la muestra:\")\n",
    "print(f\"n = {n}\")\n",
    "print(f\"Media muestral (x̄) = {media_muestral:.4f}\")\n",
    "print(f\"Desviación estándar (s) = {desv_std_muestral:.4f}\")"
   ]
  },
  {
   "cell_type": "code",
   "execution_count": null,
   "metadata": {},
   "outputs": [],
   "source": [
    "# Paso 3: Realizar prueba t\n",
    "t_statistic, p_value = stats.ttest_1samp(satisfaccion, mu_0)\n",
    "\n",
    "print(\"\\n\" + \"=\"*60)\n",
    "print(\"RESULTADOS DE LA PRUEBA\")\n",
    "print(\"=\"*60)\n",
    "print(f\"Estadístico t: {t_statistic:.4f}\")\n",
    "print(f\"p-value: {p_value:.4f}\")\n",
    "print(\"=\"*60)"
   ]
  },
  {
   "cell_type": "code",
   "execution_count": null,
   "metadata": {},
   "outputs": [],
   "source": [
    "# Paso 4: Decisión\n",
    "print(\"\\n📊 DECISIÓN:\")\n",
    "if p_value < alpha:\n",
    "    print(f\"   p-value ({p_value:.4f}) < α ({alpha})\")\n",
    "    print(\"   ✗ RECHAZAMOS H₀\")\n",
    "    print(f\"\\n💡 CONCLUSIÓN: Hay evidencia estadística suficiente para afirmar que\")\n",
    "    print(f\"   la satisfacción promedio ES DIFERENTE de {mu_0}\")\n",
    "    print(f\"   (La satisfacción promedio real es aproximadamente {media_muestral:.2f})\")\n",
    "else:\n",
    "    print(f\"   p-value ({p_value:.4f}) ≥ α ({alpha})\")\n",
    "    print(\"   ✓ NO RECHAZAMOS H₀\")\n",
    "    print(f\"\\n💡 CONCLUSIÓN: No hay evidencia suficiente para rechazar que\")\n",
    "    print(f\"   la satisfacción promedio sea {mu_0}\")"
   ]
  },
  {
   "cell_type": "code",
   "execution_count": null,
   "metadata": {},
   "outputs": [],
   "source": [
    "# Visualización\n",
    "plt.figure(figsize=(12, 6))\n",
    "plt.hist(satisfaccion, bins=15, color='skyblue', edgecolor='black', alpha=0.7, density=True)\n",
    "plt.axvline(media_muestral, color='blue', linestyle='--', linewidth=2, label=f'Media muestral = {media_muestral:.2f}')\n",
    "plt.axvline(mu_0, color='red', linestyle='--', linewidth=2, label=f'μ₀ = {mu_0}')\n",
    "\n",
    "plt.title('Distribución de Satisfacción vs Hipótesis Nula', fontsize=14, fontweight='bold')\n",
    "plt.xlabel('Satisfacción', fontsize=12)\n",
    "plt.ylabel('Densidad', fontsize=12)\n",
    "plt.legend(fontsize=11)\n",
    "plt.grid(alpha=0.3)\n",
    "plt.tight_layout()\n",
    "plt.show()"
   ]
  },
  {
   "cell_type": "markdown",
   "metadata": {},
   "source": [
    "## 4. Prueba t para DOS Muestras Independientes\n",
    "\n",
    "### Contexto de Negocio:\n",
    "¿Existe diferencia significativa en la satisfacción entre el **Área Norte** y el **Área Sur**?\n",
    "\n",
    "### Hipótesis:\n",
    "- **H₀:** μ₁ = μ₂ (Las medias son iguales)\n",
    "- **H₁:** μ₁ ≠ μ₂ (Las medias son diferentes) [Bilateral]"
   ]
  },
  {
   "cell_type": "code",
   "execution_count": null,
   "metadata": {},
   "outputs": [],
   "source": [
    "# Filtrar datos por área\n",
    "area_norte = df[df['area'] == 'Norte']['satisfaccion']\n",
    "area_sur = df[df['area'] == 'Sur']['satisfaccion']\n",
    "\n",
    "print(\"=\"*60)\n",
    "print(\"PRUEBA T PARA DOS MUESTRAS INDEPENDIENTES\")\n",
    "print(\"=\"*60)\n",
    "print(f\"H₀: μ_Norte = μ_Sur\")\n",
    "print(f\"H₁: μ_Norte ≠ μ_Sur (prueba bilateral)\")\n",
    "print(f\"α = {alpha}\")\n",
    "print(\"=\"*60)\n",
    "\n",
    "print(f\"\\nEstadísticos descriptivos:\")\n",
    "print(f\"\\nNORTE:\")\n",
    "print(f\"  n = {len(area_norte)}\")\n",
    "print(f\"  Media = {area_norte.mean():.4f}\")\n",
    "print(f\"  Desv. Std = {area_norte.std():.4f}\")\n",
    "\n",
    "print(f\"\\nSUR:\")\n",
    "print(f\"  n = {len(area_sur)}\")\n",
    "print(f\"  Media = {area_sur.mean():.4f}\")\n",
    "print(f\"  Desv. Std = {area_sur.std():.4f}\")"
   ]
  },
  {
   "cell_type": "code",
   "execution_count": null,
   "metadata": {},
   "outputs": [],
   "source": [
    "# Verificar supuesto: Homogeneidad de varianzas (Test de Levene)\n",
    "stat_levene, p_levene = stats.levene(area_norte, area_sur)\n",
    "\n",
    "print(\"\\n\" + \"=\"*60)\n",
    "print(\"VERIFICACIÓN DE SUPUESTOS\")\n",
    "print(\"=\"*60)\n",
    "print(\"Test de Levene (homogeneidad de varianzas):\")\n",
    "print(f\"  Estadístico: {stat_levene:.4f}\")\n",
    "print(f\"  p-value: {p_levene:.4f}\")\n",
    "\n",
    "if p_levene > 0.05:\n",
    "    print(\"  ✓ Las varianzas son homogéneas (usar prueba t estándar)\")\n",
    "    equal_var = True\n",
    "else:\n",
    "    print(\"  ✗ Las varianzas NO son homogéneas (usar Welch's t-test)\")\n",
    "    equal_var = False"
   ]
  },
  {
   "cell_type": "code",
   "execution_count": null,
   "metadata": {},
   "outputs": [],
   "source": [
    "# Realizar prueba t para dos muestras\n",
    "t_stat, p_val = stats.ttest_ind(area_norte, area_sur, equal_var=equal_var)\n",
    "\n",
    "print(\"\\n\" + \"=\"*60)\n",
    "print(\"RESULTADOS DE LA PRUEBA\")\n",
    "print(\"=\"*60)\n",
    "print(f\"Estadístico t: {t_stat:.4f}\")\n",
    "print(f\"p-value: {p_val:.4f}\")\n",
    "print(\"=\"*60)"
   ]
  },
  {
   "cell_type": "code",
   "execution_count": null,
   "metadata": {},
   "outputs": [],
   "source": [
    "# Decisión\n",
    "print(\"\\n📊 DECISIÓN:\")\n",
    "if p_val < alpha:\n",
    "    print(f\"   p-value ({p_val:.4f}) < α ({alpha})\")\n",
    "    print(\"   ✗ RECHAZAMOS H₀\")\n",
    "    print(f\"\\n💡 CONCLUSIÓN: HAY diferencia significativa en satisfacción entre áreas\")\n",
    "    print(f\"   Norte: {area_norte.mean():.2f} vs Sur: {area_sur.mean():.2f}\")\n",
    "    \n",
    "    if area_norte.mean() > area_sur.mean():\n",
    "        print(f\"   → El Área Norte tiene MAYOR satisfacción\")\n",
    "    else:\n",
    "        print(f\"   → El Área Sur tiene MAYOR satisfacción\")\n",
    "else:\n",
    "    print(f\"   p-value ({p_val:.4f}) ≥ α ({alpha})\")\n",
    "    print(\"   ✓ NO RECHAZAMOS H₀\")\n",
    "    print(f\"\\n💡 CONCLUSIÓN: NO hay evidencia de diferencia significativa\")\n",
    "    print(f\"   Las áreas Norte y Sur tienen satisfacción similar\")"
   ]
  },
  {
   "cell_type": "code",
   "execution_count": null,
   "metadata": {},
   "outputs": [],
   "source": [
    "# Calcular tamaño del efecto (Cohen's d)\n",
    "def cohen_d(group1, group2):\n",
    "    \"\"\"Calcula el tamaño del efecto de Cohen\"\"\"\n",
    "    n1, n2 = len(group1), len(group2)\n",
    "    var1, var2 = np.var(group1, ddof=1), np.var(group2, ddof=1)\n",
    "    pooled_std = np.sqrt(((n1-1)*var1 + (n2-1)*var2) / (n1+n2-2))\n",
    "    return (np.mean(group1) - np.mean(group2)) / pooled_std\n",
    "\n",
    "d = cohen_d(area_norte, area_sur)\n",
    "\n",
    "print(f\"\\n📏 TAMAÑO DEL EFECTO (Cohen's d): {d:.4f}\")\n",
    "if abs(d) < 0.2:\n",
    "    print(\"   → Efecto PEQUEÑO\")\n",
    "elif abs(d) < 0.5:\n",
    "    print(\"   → Efecto PEQUEÑO a MEDIANO\")\n",
    "elif abs(d) < 0.8:\n",
    "    print(\"   → Efecto MEDIANO\")\n",
    "else:\n",
    "    print(\"   → Efecto GRANDE\")"
   ]
  },
  {
   "cell_type": "code",
   "execution_count": null,
   "metadata": {},
   "outputs": [],
   "source": [
    "# Visualización comparativa\n",
    "fig, axes = plt.subplots(1, 2, figsize=(14, 5))\n",
    "\n",
    "# Boxplots\n",
    "axes[0].boxplot([area_norte, area_sur], labels=['Norte', 'Sur'], patch_artist=True,\n",
    "                boxprops=dict(facecolor='lightblue'),\n",
    "                medianprops=dict(color='red', linewidth=2))\n",
    "axes[0].set_ylabel('Satisfacción', fontsize=12)\n",
    "axes[0].set_title('Comparación de Satisfacción (Boxplot)', fontsize=13, fontweight='bold')\n",
    "axes[0].grid(alpha=0.3, axis='y')\n",
    "\n",
    "# Histogramas superpuestos\n",
    "axes[1].hist(area_norte, bins=10, alpha=0.5, label=f'Norte (μ={area_norte.mean():.2f})', color='blue', edgecolor='black')\n",
    "axes[1].hist(area_sur, bins=10, alpha=0.5, label=f'Sur (μ={area_sur.mean():.2f})', color='orange', edgecolor='black')\n",
    "axes[1].set_xlabel('Satisfacción', fontsize=12)\n",
    "axes[1].set_ylabel('Frecuencia', fontsize=12)\n",
    "axes[1].set_title('Distribuciones Superpuestas', fontsize=13, fontweight='bold')\n",
    "axes[1].legend()\n",
    "axes[1].grid(alpha=0.3, axis='y')\n",
    "\n",
    "plt.tight_layout()\n",
    "plt.show()"
   ]
  },
  {
   "cell_type": "markdown",
   "metadata": {},
   "source": [
    "## 5. Prueba t para Muestras Pareadas\n",
    "\n",
    "### Contexto de Negocio:\n",
    "La ONG implementó una mejora en el servicio. Tenemos satisfacción **antes** y **después** de la intervención para los mismos beneficiarios.\n",
    "\n",
    "### Hipótesis:\n",
    "- **H₀:** μ_diferencia = 0 (No hay cambio)\n",
    "- **H₁:** μ_diferencia > 0 (Hubo mejora) [Unilateral derecha]"
   ]
  },
  {
   "cell_type": "code",
   "execution_count": null,
   "metadata": {},
   "outputs": [],
   "source": [
    "# Simular datos pareados (antes y después de intervención)\n",
    "# Para este ejemplo, creamos datos sintéticos\n",
    "np.random.seed(42)\n",
    "n_pareado = 30\n",
    "\n",
    "# Satisfacción antes\n",
    "antes = np.random.normal(loc=7.0, scale=1.2, size=n_pareado)\n",
    "antes = np.clip(antes, 1, 10)  # Limitar entre 1-10\n",
    "\n",
    "# Satisfacción después (con mejora promedio de 0.8 puntos)\n",
    "despues = antes + np.random.normal(loc=0.8, scale=0.5, size=n_pareado)\n",
    "despues = np.clip(despues, 1, 10)\n",
    "\n",
    "# Crear DataFrame\n",
    "df_pareado = pd.DataFrame({\n",
    "    'id': range(1, n_pareado+1),\n",
    "    'antes': antes,\n",
    "    'despues': despues,\n",
    "    'diferencia': despues - antes\n",
    "})\n",
    "\n",
    "print(\"Primeros 10 registros:\")\n",
    "print(df_pareado.head(10))"
   ]
  },
  {
   "cell_type": "code",
   "execution_count": null,
   "metadata": {},
   "outputs": [],
   "source": [
    "print(\"=\"*60)\n",
    "print(\"PRUEBA T PAREADA\")\n",
    "print(\"=\"*60)\n",
    "print(f\"H₀: μ_diferencia = 0 (No hay cambio)\")\n",
    "print(f\"H₁: μ_diferencia > 0 (Hubo mejora) [unilateral]\")\n",
    "print(f\"α = {alpha}\")\n",
    "print(\"=\"*60)\n",
    "\n",
    "print(f\"\\nEstadísticos:\")\n",
    "print(f\"Media ANTES:      {df_pareado['antes'].mean():.4f}\")\n",
    "print(f\"Media DESPUÉS:    {df_pareado['despues'].mean():.4f}\")\n",
    "print(f\"Media DIFERENCIA: {df_pareado['diferencia'].mean():.4f}\")\n",
    "print(f\"Desv. Std DIFERENCIA: {df_pareado['diferencia'].std():.4f}\")"
   ]
  },
  {
   "cell_type": "code",
   "execution_count": null,
   "metadata": {},
   "outputs": [],
   "source": [
    "# Realizar prueba t pareada\n",
    "t_pareado, p_pareado_bilateral = stats.ttest_rel(df_pareado['despues'], df_pareado['antes'])\n",
    "\n",
    "# Para prueba unilateral (cola derecha), dividir p-value entre 2\n",
    "p_pareado_unilateral = p_pareado_bilateral / 2\n",
    "\n",
    "print(\"\\n\" + \"=\"*60)\n",
    "print(\"RESULTADOS DE LA PRUEBA\")\n",
    "print(\"=\"*60)\n",
    "print(f\"Estadístico t: {t_pareado:.4f}\")\n",
    "print(f\"p-value (bilateral): {p_pareado_bilateral:.4f}\")\n",
    "print(f\"p-value (unilateral derecha): {p_pareado_unilateral:.4f}\")\n",
    "print(\"=\"*60)"
   ]
  },
  {
   "cell_type": "code",
   "execution_count": null,
   "metadata": {},
   "outputs": [],
   "source": [
    "# Decisión (usando p-value unilateral)\n",
    "print(\"\\n📊 DECISIÓN:\")\n",
    "if p_pareado_unilateral < alpha:\n",
    "    print(f\"   p-value ({p_pareado_unilateral:.4f}) < α ({alpha})\")\n",
    "    print(\"   ✗ RECHAZAMOS H₀\")\n",
    "    print(f\"\\n💡 CONCLUSIÓN: La intervención SÍ tuvo efecto positivo\")\n",
    "    print(f\"   Mejora promedio: {df_pareado['diferencia'].mean():.2f} puntos\")\n",
    "    print(f\"   ({df_pareado['antes'].mean():.2f} → {df_pareado['despues'].mean():.2f})\")\n",
    "else:\n",
    "    print(f\"   p-value ({p_pareado_unilateral:.4f}) ≥ α ({alpha})\")\n",
    "    print(\"   ✓ NO RECHAZAMOS H₀\")\n",
    "    print(f\"\\n💡 CONCLUSIÓN: No hay evidencia suficiente de mejora\")"
   ]
  },
  {
   "cell_type": "code",
   "execution_count": null,
   "metadata": {},
   "outputs": [],
   "source": [
    "# Visualización de datos pareados\n",
    "fig, axes = plt.subplots(1, 2, figsize=(14, 5))\n",
    "\n",
    "# Gráfico de líneas pareadas\n",
    "for i in range(len(df_pareado)):\n",
    "    axes[0].plot([1, 2], [df_pareado.iloc[i]['antes'], df_pareado.iloc[i]['despues']], \n",
    "                 'o-', color='gray', alpha=0.3)\n",
    "axes[0].plot([1, 2], [df_pareado['antes'].mean(), df_pareado['despues'].mean()], \n",
    "             'ro-', linewidth=3, markersize=10, label='Promedio')\n",
    "axes[0].set_xticks([1, 2])\n",
    "axes[0].set_xticklabels(['Antes', 'Después'])\n",
    "axes[0].set_ylabel('Satisfacción', fontsize=12)\n",
    "axes[0].set_title('Cambio Individual Antes-Después', fontsize=13, fontweight='bold')\n",
    "axes[0].legend()\n",
    "axes[0].grid(alpha=0.3)\n",
    "\n",
    "# Histograma de diferencias\n",
    "axes[1].hist(df_pareado['diferencia'], bins=10, color='green', edgecolor='black', alpha=0.7)\n",
    "axes[1].axvline(0, color='red', linestyle='--', linewidth=2, label='Sin cambio')\n",
    "axes[1].axvline(df_pareado['diferencia'].mean(), color='blue', linestyle='--', linewidth=2, \n",
    "               label=f'Media = {df_pareado[\"diferencia\"].mean():.2f}')\n",
    "axes[1].set_xlabel('Diferencia (Después - Antes)', fontsize=12)\n",
    "axes[1].set_ylabel('Frecuencia', fontsize=12)\n",
    "axes[1].set_title('Distribución de Diferencias', fontsize=13, fontweight='bold')\n",
    "axes[1].legend()\n",
    "axes[1].grid(alpha=0.3, axis='y')\n",
    "\n",
    "plt.tight_layout()\n",
    "plt.show()"
   ]
  },
  {
   "cell_type": "markdown",
   "metadata": {},
   "source": [
    "## 6. Comparación de Múltiples Áreas (Todas vs Todas)\n",
    "\n",
    "Si queremos comparar las **4 áreas** simultáneamente, necesitaremos ANOVA (Semana 2). \n",
    "Por ahora, veamos un resumen de todas las comparaciones dos a dos:"
   ]
  },
  {
   "cell_type": "code",
   "execution_count": null,
   "metadata": {},
   "outputs": [],
   "source": [
    "# Obtener todas las áreas únicas\n",
    "areas = df['area'].unique()\n",
    "print(f\"Áreas disponibles: {areas}\")\n",
    "\n",
    "# Crear tabla de comparaciones\n",
    "from itertools import combinations\n",
    "\n",
    "comparaciones = []\n",
    "for area1, area2 in combinations(areas, 2):\n",
    "    grupo1 = df[df['area'] == area1]['satisfaccion']\n",
    "    grupo2 = df[df['area'] == area2]['satisfaccion']\n",
    "    \n",
    "    t_stat, p_val = stats.ttest_ind(grupo1, grupo2)\n",
    "    \n",
    "    comparaciones.append({\n",
    "        'Área 1': area1,\n",
    "        'Media 1': grupo1.mean(),\n",
    "        'Área 2': area2,\n",
    "        'Media 2': grupo2.mean(),\n",
    "        'Diferencia': grupo1.mean() - grupo2.mean(),\n",
    "        't-stat': t_stat,\n",
    "        'p-value': p_val,\n",
    "        'Significativo (α=0.05)': '✓' if p_val < 0.05 else '✗'\n",
    "    })\n",
    "\n",
    "df_comparaciones = pd.DataFrame(comparaciones)\n",
    "print(\"\\nCOMPARACIONES ENTRE TODAS LAS ÁREAS\")\n",
    "print(\"=\"*100)\n",
    "print(df_comparaciones.to_string(index=False))"
   ]
  },
  {
   "cell_type": "markdown",
   "metadata": {},
   "source": [
    "## 7. Reporte Ejecutivo de Pruebas de Hipótesis"
   ]
  },
  {
   "cell_type": "code",
   "execution_count": null,
   "metadata": {},
   "outputs": [],
   "source": [
    "print(\"=\"*70)\n",
    "print(\"REPORTE EJECUTIVO - PRUEBAS DE HIPÓTESIS\")\n",
    "print(\"=\"*70)\n",
    "\n",
    "print(\"\\n🔬 PRUEBA 1: Satisfacción vs Estándar (8.0)\")\n",
    "print(f\"   Resultado: {'Diferente de 8.0' if p_value < 0.05 else 'No diferente de 8.0'}\")\n",
    "print(f\"   Media observada: {media_muestral:.2f}\")\n",
    "print(f\"   p-value: {p_value:.4f}\")\n",
    "\n",
    "print(\"\\n🔬 PRUEBA 2: Norte vs Sur\")\n",
    "print(f\"   Resultado: {'Diferencia significativa' if p_val < 0.05 else 'Sin diferencia significativa'}\")\n",
    "print(f\"   Norte: {area_norte.mean():.2f} | Sur: {area_sur.mean():.2f}\")\n",
    "print(f\"   p-value: {p_val:.4f}\")\n",
    "print(f\"   Tamaño del efecto (d): {d:.2f}\")\n",
    "\n",
    "print(\"\\n🔬 PRUEBA 3: Antes vs Después (Intervención)\")\n",
    "print(f\"   Resultado: {'Mejora significativa' if p_pareado_unilateral < 0.05 else 'Sin mejora significativa'}\")\n",
    "print(f\"   Antes: {df_pareado['antes'].mean():.2f} | Después: {df_pareado['despues'].mean():.2f}\")\n",
    "print(f\"   Mejora: +{df_pareado['diferencia'].mean():.2f} puntos\")\n",
    "print(f\"   p-value: {p_pareado_unilateral:.4f}\")\n",
    "\n",
    "print(\"\\n\" + \"=\"*70)\n",
    "print(\"💡 RECOMENDACIONES:\")\n",
    "print(\"   1. Investigar causas de diferencias entre áreas\")\n",
    "print(\"   2. Replicar buenas prácticas del área con mejor desempeño\")\n",
    "print(\"   3. Continuar monitoreando el impacto de intervenciones\")\n",
    "print(\"=\"*70)"
   ]
  },
  {
   "cell_type": "markdown",
   "metadata": {},
   "source": [
    "## 8. Ejercicios Propuestos\n",
    "\n",
    "### Ejercicio 1: Calidad de Atención\n",
    "La ONG afirma que su calidad de atención promedio es de 8.5/10. Realiza una prueba de hipótesis para verificarlo.\n",
    "\n",
    "### Ejercicio 2: Comparación por Género\n",
    "¿Existe diferencia significativa en satisfacción entre hombres y mujeres?\n",
    "\n",
    "### Ejercicio 3: Tiempo de Servicio\n",
    "Divide a los beneficiarios en \"nuevos\" (<6 meses) y \"antiguos\" (≥6 meses). ¿Hay diferencia en satisfacción?\n",
    "\n",
    "### Ejercicio 4: Múltiples Comparaciones\n",
    "Compara satisfacción entre las áreas Este y Oeste.\n"
   ]
  },
  {
   "cell_type": "code",
   "execution_count": null,
   "metadata": {},
   "outputs": [],
   "source": [
    "# Tu código aquí\n"
   ]
  },
  {
   "cell_type": "markdown",
   "metadata": {},
   "source": [
    "---\n",
    "\n",
    "## Resumen\n",
    "\n",
    "En este notebook aprendiste a:\n",
    "- ✓ Realizar pruebas t para una muestra\n",
    "- ✓ Realizar pruebas t para dos muestras independientes\n",
    "- ✓ Realizar pruebas t pareadas\n",
    "- ✓ Interpretar p-values y tomar decisiones estadísticas\n",
    "- ✓ Calcular tamaño del efecto (Cohen's d)\n",
    "- ✓ Verificar supuestos (test de Levene)\n",
    "- ✓ Aplicar pruebas en contexto de negocio\n",
    "\n",
    "**Próximo tema:** Prueba Ji-cuadrada, ANOVA y Regresión (Semana 2)\n"
   ]
  }
 ],
 "metadata": {
  "kernelspec": {
   "display_name": "Python 3",
   "language": "python",
   "name": "python3"
  },
  "language_info": {
   "codemirror_mode": {
    "name": "ipython",
    "version": 3
   },
   "file_extension": ".py",
   "mimetype": "text/x-python",
   "name": "python",
   "nbconvert_exporter": "python",
   "pygments_lexer": "ipython3",
   "version": "3.10.0"
  }
 },
 "nbformat": 4,
 "nbformat_minor": 4
}
