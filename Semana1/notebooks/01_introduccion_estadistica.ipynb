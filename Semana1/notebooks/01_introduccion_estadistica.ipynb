{
 "cells": [
  {
   "cell_type": "markdown",
   "metadata": {},
   "source": [
    "# Introducción a Estadística con Python\n",
    "\n",
    "## Objetivos\n",
    "- Familiarizarse con pandas, numpy y scipy\n",
    "- Cargar y explorar datasets\n",
    "- Realizar análisis descriptivo básico\n",
    "- Crear visualizaciones iniciales\n",
    "\n",
    "---"
   ]
  },
  {
   "cell_type": "markdown",
   "metadata": {},
   "source": [
    "## 1. Importar Librerías Necesarias"
   ]
  },
  {
   "cell_type": "code",
   "execution_count": null,
   "metadata": {},
   "outputs": [],
   "source": [
    "# Librerías básicas\n",
    "import pandas as pd\n",
    "import numpy as np\n",
    "\n",
    "# Estadística\n",
    "from scipy import stats\n",
    "\n",
    "# Visualización\n",
    "import matplotlib.pyplot as plt\n",
    "import seaborn as sns\n",
    "\n",
    "# Configuración de visualización\n",
    "plt.style.use('seaborn-v0_8-darkgrid')\n",
    "sns.set_palette(\"husl\")\n",
    "%matplotlib inline\n",
    "\n",
    "# Configuración de pandas para mostrar más filas/columnas\n",
    "pd.set_option('display.max_columns', None)\n",
    "pd.set_option('display.max_rows', 100)\n",
    "\n",
    "print(\"✓ Librerías importadas correctamente\")"
   ]
  },
  {
   "cell_type": "markdown",
   "metadata": {},
   "source": [
    "## 2. Cargar Dataset de Ejemplo\n",
    "\n",
    "Trabajaremos con datos de satisfacción de clientes de una organización sin fines de lucro."
   ]
  },
  {
   "cell_type": "code",
   "execution_count": null,
   "metadata": {},
   "outputs": [],
   "source": [
    "# Cargar datos\n",
    "# Ajusta la ruta según la ubicación de tu archivo\n",
    "df = pd.read_csv('../datos/ejemplo_satisfaccion_clientes.csv')\n",
    "\n",
    "print(f\"Dataset cargado: {df.shape[0]} filas, {df.shape[1]} columnas\")\n",
    "df.head()"
   ]
  },
  {
   "cell_type": "markdown",
   "metadata": {},
   "source": [
    "## 3. Exploración Inicial del Dataset"
   ]
  },
  {
   "cell_type": "code",
   "execution_count": null,
   "metadata": {},
   "outputs": [],
   "source": [
    "# Información general del dataset\n",
    "df.info()"
   ]
  },
  {
   "cell_type": "code",
   "execution_count": null,
   "metadata": {},
   "outputs": [],
   "source": [
    "# Resumen estadístico de variables numéricas\n",
    "df.describe()"
   ]
  },
  {
   "cell_type": "code",
   "execution_count": null,
   "metadata": {},
   "outputs": [],
   "source": [
    "# Verificar valores faltantes\n",
    "print(\"Valores faltantes por columna:\")\n",
    "print(df.isnull().sum())\n",
    "\n",
    "# Porcentaje de valores faltantes\n",
    "porcentaje_faltantes = (df.isnull().sum() / len(df)) * 100\n",
    "print(\"\\nPorcentaje de valores faltantes:\")\n",
    "print(porcentaje_faltantes[porcentaje_faltantes > 0])"
   ]
  },
  {
   "cell_type": "markdown",
   "metadata": {},
   "source": [
    "## 4. Análisis de Variables Categóricas"
   ]
  },
  {
   "cell_type": "code",
   "execution_count": null,
   "metadata": {},
   "outputs": [],
   "source": [
    "# Distribución por área\n",
    "print(\"Distribución por Área:\")\n",
    "print(df['area'].value_counts())\n",
    "print(\"\\nPorcentaje:\")\n",
    "print(df['area'].value_counts(normalize=True) * 100)"
   ]
  },
  {
   "cell_type": "code",
   "execution_count": null,
   "metadata": {},
   "outputs": [],
   "source": [
    "# Gráfico de barras de distribución por área\n",
    "plt.figure(figsize=(10, 6))\n",
    "df['area'].value_counts().plot(kind='bar', color='steelblue', edgecolor='black')\n",
    "plt.title('Distribución de Beneficiarios por Área', fontsize=16, fontweight='bold')\n",
    "plt.xlabel('Área', fontsize=12)\n",
    "plt.ylabel('Cantidad de Beneficiarios', fontsize=12)\n",
    "plt.xticks(rotation=0)\n",
    "plt.grid(axis='y', alpha=0.3)\n",
    "plt.tight_layout()\n",
    "plt.show()"
   ]
  },
  {
   "cell_type": "code",
   "execution_count": null,
   "metadata": {},
   "outputs": [],
   "source": [
    "# Distribución por género\n",
    "print(\"Distribución por Género:\")\n",
    "print(df['genero'].value_counts())\n",
    "\n",
    "# Gráfico de pie\n",
    "plt.figure(figsize=(8, 8))\n",
    "df['genero'].value_counts().plot(kind='pie', autopct='%1.1f%%', startangle=90, colors=['#66b3ff','#ff9999','#99ff99'])\n",
    "plt.title('Distribución por Género', fontsize=16, fontweight='bold')\n",
    "plt.ylabel('')\n",
    "plt.tight_layout()\n",
    "plt.show()"
   ]
  },
  {
   "cell_type": "markdown",
   "metadata": {},
   "source": [
    "## 5. Análisis de Variables Numéricas"
   ]
  },
  {
   "cell_type": "code",
   "execution_count": null,
   "metadata": {},
   "outputs": [],
   "source": [
    "# Histogramas de variables clave\n",
    "fig, axes = plt.subplots(2, 2, figsize=(14, 10))\n",
    "\n",
    "# Satisfacción\n",
    "axes[0, 0].hist(df['satisfaccion'], bins=10, color='skyblue', edgecolor='black')\n",
    "axes[0, 0].set_title('Distribución de Satisfacción', fontweight='bold')\n",
    "axes[0, 0].set_xlabel('Satisfacción (1-10)')\n",
    "axes[0, 0].set_ylabel('Frecuencia')\n",
    "axes[0, 0].grid(alpha=0.3)\n",
    "\n",
    "# Edad\n",
    "axes[0, 1].hist(df['edad'], bins=15, color='lightcoral', edgecolor='black')\n",
    "axes[0, 1].set_title('Distribución de Edad', fontweight='bold')\n",
    "axes[0, 1].set_xlabel('Edad (años)')\n",
    "axes[0, 1].set_ylabel('Frecuencia')\n",
    "axes[0, 1].grid(alpha=0.3)\n",
    "\n",
    "# Calidad de atención\n",
    "axes[1, 0].hist(df['calidad_atencion'], bins=10, color='lightgreen', edgecolor='black')\n",
    "axes[1, 0].set_title('Distribución de Calidad de Atención', fontweight='bold')\n",
    "axes[1, 0].set_xlabel('Calidad (1-10)')\n",
    "axes[1, 0].set_ylabel('Frecuencia')\n",
    "axes[1, 0].grid(alpha=0.3)\n",
    "\n",
    "# Tiempo de espera\n",
    "axes[1, 1].hist(df['tiempo_espera'], bins=15, color='gold', edgecolor='black')\n",
    "axes[1, 1].set_title('Distribución de Tiempo de Espera', fontweight='bold')\n",
    "axes[1, 1].set_xlabel('Tiempo (minutos)')\n",
    "axes[1, 1].set_ylabel('Frecuencia')\n",
    "axes[1, 1].grid(alpha=0.3)\n",
    "\n",
    "plt.tight_layout()\n",
    "plt.show()"
   ]
  },
  {
   "cell_type": "markdown",
   "metadata": {},
   "source": [
    "## 6. Boxplots para Detectar Outliers"
   ]
  },
  {
   "cell_type": "code",
   "execution_count": null,
   "metadata": {},
   "outputs": [],
   "source": [
    "# Boxplots de variables clave\n",
    "fig, axes = plt.subplots(1, 3, figsize=(15, 5))\n",
    "\n",
    "axes[0].boxplot(df['satisfaccion'], vert=True)\n",
    "axes[0].set_title('Satisfacción', fontweight='bold')\n",
    "axes[0].set_ylabel('Escala 1-10')\n",
    "axes[0].grid(alpha=0.3)\n",
    "\n",
    "axes[1].boxplot(df['calidad_atencion'], vert=True)\n",
    "axes[1].set_title('Calidad de Atención', fontweight='bold')\n",
    "axes[1].set_ylabel('Escala 1-10')\n",
    "axes[1].grid(alpha=0.3)\n",
    "\n",
    "axes[2].boxplot(df['tiempo_espera'], vert=True)\n",
    "axes[2].set_title('Tiempo de Espera', fontweight='bold')\n",
    "axes[2].set_ylabel('Minutos')\n",
    "axes[2].grid(alpha=0.3)\n",
    "\n",
    "plt.tight_layout()\n",
    "plt.show()"
   ]
  },
  {
   "cell_type": "markdown",
   "metadata": {},
   "source": [
    "## 7. Análisis por Grupos"
   ]
  },
  {
   "cell_type": "code",
   "execution_count": null,
   "metadata": {},
   "outputs": [],
   "source": [
    "# Satisfacción promedio por área\n",
    "satisfaccion_por_area = df.groupby('area')['satisfaccion'].agg(['mean', 'median', 'std', 'count'])\n",
    "satisfaccion_por_area.columns = ['Media', 'Mediana', 'Desv. Estándar', 'N']\n",
    "print(\"Satisfacción por Área:\")\n",
    "print(satisfaccion_por_area)"
   ]
  },
  {
   "cell_type": "code",
   "execution_count": null,
   "metadata": {},
   "outputs": [],
   "source": [
    "# Gráfico de barras con error bars\n",
    "plt.figure(figsize=(10, 6))\n",
    "satisfaccion_por_area['Media'].plot(kind='bar', color='teal', edgecolor='black', \n",
    "                                      yerr=satisfaccion_por_area['Desv. Estándar'], \n",
    "                                      capsize=5)\n",
    "plt.title('Satisfacción Promedio por Área (con Desviación Estándar)', fontsize=14, fontweight='bold')\n",
    "plt.xlabel('Área', fontsize=12)\n",
    "plt.ylabel('Satisfacción Media', fontsize=12)\n",
    "plt.xticks(rotation=0)\n",
    "plt.ylim(0, 10)\n",
    "plt.axhline(y=df['satisfaccion'].mean(), color='red', linestyle='--', label='Media General')\n",
    "plt.legend()\n",
    "plt.grid(axis='y', alpha=0.3)\n",
    "plt.tight_layout()\n",
    "plt.show()"
   ]
  },
  {
   "cell_type": "code",
   "execution_count": null,
   "metadata": {},
   "outputs": [],
   "source": [
    "# Boxplot comparativo por área\n",
    "plt.figure(figsize=(12, 6))\n",
    "df.boxplot(column='satisfaccion', by='area', grid=False, patch_artist=True)\n",
    "plt.title('Distribución de Satisfacción por Área', fontsize=14, fontweight='bold')\n",
    "plt.suptitle('')  # Eliminar título automático\n",
    "plt.xlabel('Área', fontsize=12)\n",
    "plt.ylabel('Satisfacción (1-10)', fontsize=12)\n",
    "plt.tight_layout()\n",
    "plt.show()"
   ]
  },
  {
   "cell_type": "markdown",
   "metadata": {},
   "source": [
    "## 8. Matriz de Correlación"
   ]
  },
  {
   "cell_type": "code",
   "execution_count": null,
   "metadata": {},
   "outputs": [],
   "source": [
    "# Seleccionar solo columnas numéricas\n",
    "columnas_numericas = ['edad', 'tiempo_servicio', 'satisfaccion', 'calidad_atencion', 'tiempo_espera']\n",
    "df_numerico = df[columnas_numericas]\n",
    "\n",
    "# Calcular matriz de correlación\n",
    "correlacion = df_numerico.corr()\n",
    "\n",
    "print(\"Matriz de Correlación:\")\n",
    "print(correlacion)"
   ]
  },
  {
   "cell_type": "code",
   "execution_count": null,
   "metadata": {},
   "outputs": [],
   "source": [
    "# Heatmap de correlación\n",
    "plt.figure(figsize=(10, 8))\n",
    "sns.heatmap(correlacion, annot=True, cmap='coolwarm', center=0, \n",
    "            square=True, linewidths=1, cbar_kws={\"shrink\": 0.8},\n",
    "            fmt='.2f', vmin=-1, vmax=1)\n",
    "plt.title('Matriz de Correlación - Variables Numéricas', fontsize=16, fontweight='bold')\n",
    "plt.tight_layout()\n",
    "plt.show()"
   ]
  },
  {
   "cell_type": "markdown",
   "metadata": {},
   "source": [
    "## 9. Insights Preliminares\n",
    "\n",
    "Basado en el análisis exploratorio, podemos observar:\n",
    "\n",
    "### Observaciones:\n",
    "- **Distribución de satisfacción:** [Describir si es simétrica, sesgada, etc.]\n",
    "- **Diferencias por área:** [Indicar si se observan diferencias notables]\n",
    "- **Correlaciones:** [Mencionar variables con correlación fuerte]\n",
    "- **Outliers:** [Indicar si se detectaron valores atípicos]\n",
    "\n",
    "### Próximos pasos:\n",
    "1. Realizar pruebas de hipótesis para confirmar diferencias entre áreas\n",
    "2. Analizar en profundidad las variables con alta correlación\n",
    "3. Investigar outliers identificados\n"
   ]
  },
  {
   "cell_type": "markdown",
   "metadata": {},
   "source": [
    "## 10. Ejercicios Propuestos\n",
    "\n",
    "1. **Análisis por género:** Compara la satisfacción promedio entre géneros\n",
    "2. **Segmentación por edad:** Crea grupos de edad (jóvenes, adultos, mayores) y analiza diferencias\n",
    "3. **Tiempo de servicio:** ¿Existe relación entre tiempo usando el servicio y satisfacción?\n",
    "4. **Combinaciones:** Analiza satisfacción por área Y género simultáneamente\n"
   ]
  },
  {
   "cell_type": "code",
   "execution_count": null,
   "metadata": {},
   "outputs": [],
   "source": [
    "# Espacio para tus ejercicios\n"
   ]
  },
  {
   "cell_type": "markdown",
   "metadata": {},
   "source": [
    "---\n",
    "\n",
    "## Resumen\n",
    "\n",
    "En este notebook aprendiste a:\n",
    "- ✓ Cargar y explorar datasets con pandas\n",
    "- ✓ Analizar variables categóricas y numéricas\n",
    "- ✓ Crear visualizaciones descriptivas\n",
    "- ✓ Calcular correlaciones entre variables\n",
    "- ✓ Identificar outliers con boxplots\n",
    "\n",
    "**Siguiente notebook:** Medidas de Tendencia Central y Dispersión\n"
   ]
  }
 ],
 "metadata": {
  "kernelspec": {
   "display_name": "Python 3",
   "language": "python",
   "name": "python3"
  },
  "language_info": {
   "codemirror_mode": {
    "name": "ipython",
    "version": 3
   },
   "file_extension": ".py",
   "mimetype": "text/x-python",
   "name": "python",
   "nbconvert_exporter": "python",
   "pygments_lexer": "ipython3",
   "version": "3.10.0"
  }
 },
 "nbformat": 4,
 "nbformat_minor": 4
}
