{
 "cells": [
  {
   "cell_type": "markdown",
   "metadata": {},
   "source": [
    "# Medidas de Tendencia Central y Dispersión\n",
    "\n",
    "## Objetivos\n",
    "- Calcular e interpretar media, mediana y moda\n",
    "- Entender medidas de dispersión (varianza, desviación estándar, rango)\n",
    "- Aplicar cuartiles y detectar outliers\n",
    "- Interpretar resultados en contexto de negocio\n",
    "\n",
    "---"
   ]
  },
  {
   "cell_type": "markdown",
   "metadata": {},
   "source": [
    "## 1. Preparación"
   ]
  },
  {
   "cell_type": "code",
   "execution_count": null,
   "metadata": {},
   "outputs": [],
   "source": [
    "import pandas as pd\n",
    "import numpy as np\n",
    "from scipy import stats\n",
    "import matplotlib.pyplot as plt\n",
    "import seaborn as sns\n",
    "\n",
    "# Configuración\n",
    "plt.style.use('seaborn-v0_8-whitegrid')\n",
    "sns.set_palette(\"Set2\")\n",
    "%matplotlib inline\n",
    "\n",
    "# Cargar datos\n",
    "df = pd.read_csv('../datos/ejemplo_satisfaccion_clientes.csv')\n",
    "print(f\"Dataset cargado: {df.shape[0]} registros\")"
   ]
  },
  {
   "cell_type": "markdown",
   "metadata": {},
   "source": [
    "## 2. Medidas de Tendencia Central\n",
    "\n",
    "### 2.1 Media (Promedio)"
   ]
  },
  {
   "cell_type": "code",
   "execution_count": null,
   "metadata": {},
   "outputs": [],
   "source": [
    "# Media de satisfacción\n",
    "media_satisfaccion = df['satisfaccion'].mean()\n",
    "\n",
    "print(f\"Media de satisfacción: {media_satisfaccion:.2f}\")\n",
    "print(f\"\\nInterpretación: En promedio, los beneficiarios califican el servicio con {media_satisfaccion:.2f}/10\")"
   ]
  },
  {
   "cell_type": "code",
   "execution_count": null,
   "metadata": {},
   "outputs": [],
   "source": [
    "# Calcular media con numpy (alternativa)\n",
    "media_numpy = np.mean(df['satisfaccion'])\n",
    "print(f\"Media (numpy): {media_numpy:.2f}\")\n",
    "\n",
    "# Verificar que son iguales\n",
    "assert media_satisfaccion == media_numpy, \"Las medias deberían ser iguales\"\n",
    "print(\"✓ Ambos métodos producen el mismo resultado\")"
   ]
  },
  {
   "cell_type": "markdown",
   "metadata": {},
   "source": [
    "### 2.2 Mediana"
   ]
  },
  {
   "cell_type": "code",
   "execution_count": null,
   "metadata": {},
   "outputs": [],
   "source": [
    "# Mediana de satisfacción\n",
    "mediana_satisfaccion = df['satisfaccion'].median()\n",
    "\n",
    "print(f\"Mediana de satisfacción: {mediana_satisfaccion:.2f}\")\n",
    "print(f\"\\nInterpretación: El 50% de los beneficiarios califica con {mediana_satisfaccion:.2f} o menos\")"
   ]
  },
  {
   "cell_type": "code",
   "execution_count": null,
   "metadata": {},
   "outputs": [],
   "source": [
    "# Comparar media vs mediana\n",
    "print(\"=\" * 50)\n",
    "print(\"COMPARACIÓN MEDIA VS MEDIANA\")\n",
    "print(\"=\" * 50)\n",
    "print(f\"Media:    {media_satisfaccion:.2f}\")\n",
    "print(f\"Mediana:  {mediana_satisfaccion:.2f}\")\n",
    "print(f\"Diferencia: {abs(media_satisfaccion - mediana_satisfaccion):.2f}\")\n",
    "\n",
    "if media_satisfaccion > mediana_satisfaccion:\n",
    "    print(\"\\n📊 La media > mediana sugiere una distribución sesgada a la DERECHA\")\n",
    "    print(\"   (Hay valores altos que jalan el promedio hacia arriba)\")\n",
    "elif media_satisfaccion < mediana_satisfaccion:\n",
    "    print(\"\\n📊 La media < mediana sugiere una distribución sesgada a la IZQUIERDA\")\n",
    "    print(\"   (Hay valores bajos que jalan el promedio hacia abajo)\")\n",
    "else:\n",
    "    print(\"\\n📊 La media ≈ mediana sugiere una distribución SIMÉTRICA\")"
   ]
  },
  {
   "cell_type": "markdown",
   "metadata": {},
   "source": [
    "### 2.3 Moda"
   ]
  },
  {
   "cell_type": "code",
   "execution_count": null,
   "metadata": {},
   "outputs": [],
   "source": [
    "# Moda de satisfacción (con pandas)\n",
    "moda_satisfaccion = df['satisfaccion'].mode()[0]\n",
    "\n",
    "print(f\"Moda de satisfacción: {moda_satisfaccion}\")\n",
    "print(f\"\\nInterpretación: La calificación más frecuente es {moda_satisfaccion}/10\")\n",
    "\n",
    "# Frecuencia de cada valor\n",
    "print(\"\\nDistribución de frecuencias:\")\n",
    "print(df['satisfaccion'].value_counts().sort_index())"
   ]
  },
  {
   "cell_type": "code",
   "execution_count": null,
   "metadata": {},
   "outputs": [],
   "source": [
    "# Visualizar las tres medidas\n",
    "plt.figure(figsize=(12, 6))\n",
    "plt.hist(df['satisfaccion'], bins=10, color='skyblue', edgecolor='black', alpha=0.7)\n",
    "plt.axvline(media_satisfaccion, color='red', linestyle='--', linewidth=2, label=f'Media = {media_satisfaccion:.2f}')\n",
    "plt.axvline(mediana_satisfaccion, color='green', linestyle='--', linewidth=2, label=f'Mediana = {mediana_satisfaccion:.2f}')\n",
    "plt.axvline(moda_satisfaccion, color='orange', linestyle='--', linewidth=2, label=f'Moda = {moda_satisfaccion}')\n",
    "\n",
    "plt.title('Distribución de Satisfacción con Medidas de Tendencia Central', fontsize=14, fontweight='bold')\n",
    "plt.xlabel('Satisfacción (1-10)', fontsize=12)\n",
    "plt.ylabel('Frecuencia', fontsize=12)\n",
    "plt.legend(fontsize=11)\n",
    "plt.grid(alpha=0.3)\n",
    "plt.tight_layout()\n",
    "plt.show()"
   ]
  },
  {
   "cell_type": "markdown",
   "metadata": {},
   "source": [
    "## 3. Medidas de Dispersión\n",
    "\n",
    "### 3.1 Rango"
   ]
  },
  {
   "cell_type": "code",
   "execution_count": null,
   "metadata": {},
   "outputs": [],
   "source": [
    "# Rango de satisfacción\n",
    "minimo = df['satisfaccion'].min()\n",
    "maximo = df['satisfaccion'].max()\n",
    "rango = maximo - minimo\n",
    "\n",
    "print(f\"Valor mínimo: {minimo}\")\n",
    "print(f\"Valor máximo: {maximo}\")\n",
    "print(f\"Rango: {rango}\")\n",
    "print(f\"\\nInterpretación: La satisfacción varía desde {minimo} hasta {maximo} (rango de {rango} puntos)\")"
   ]
  },
  {
   "cell_type": "markdown",
   "metadata": {},
   "source": [
    "### 3.2 Varianza y Desviación Estándar"
   ]
  },
  {
   "cell_type": "code",
   "execution_count": null,
   "metadata": {},
   "outputs": [],
   "source": [
    "# Varianza muestral (ddof=1 por defecto en pandas)\n",
    "varianza = df['satisfaccion'].var()\n",
    "\n",
    "# Desviación estándar muestral\n",
    "desv_std = df['satisfaccion'].std()\n",
    "\n",
    "print(f\"Varianza muestral: {varianza:.4f}\")\n",
    "print(f\"Desviación estándar muestral: {desv_std:.4f}\")\n",
    "print(f\"\\nInterpretación: En promedio, los datos se desvían ±{desv_std:.2f} puntos de la media ({media_satisfaccion:.2f})\")"
   ]
  },
  {
   "cell_type": "code",
   "execution_count": null,
   "metadata": {},
   "outputs": [],
   "source": [
    "# Coeficiente de variación (CV)\n",
    "cv = (desv_std / media_satisfaccion) * 100\n",
    "\n",
    "print(f\"Coeficiente de Variación: {cv:.2f}%\")\n",
    "print(f\"\\nInterpretación:\")\n",
    "if cv < 15:\n",
    "    print(\"  → Baja variabilidad: Los datos son HOMOGÉNEOS\")\n",
    "elif cv < 30:\n",
    "    print(\"  → Variabilidad moderada\")\n",
    "else:\n",
    "    print(\"  → Alta variabilidad: Los datos son HETEROGÉNEOS\")"
   ]
  },
  {
   "cell_type": "markdown",
   "metadata": {},
   "source": [
    "### 3.3 Cuartiles y Rango Intercuartílico (IQR)"
   ]
  },
  {
   "cell_type": "code",
   "execution_count": null,
   "metadata": {},
   "outputs": [],
   "source": [
    "# Cuartiles\n",
    "Q1 = df['satisfaccion'].quantile(0.25)\n",
    "Q2 = df['satisfaccion'].quantile(0.50)  # Mediana\n",
    "Q3 = df['satisfaccion'].quantile(0.75)\n",
    "\n",
    "# Rango intercuartílico\n",
    "IQR = Q3 - Q1\n",
    "\n",
    "print(\"CUARTILES\")\n",
    "print(\"=\" * 40)\n",
    "print(f\"Q1 (25%): {Q1}\")\n",
    "print(f\"Q2 (50%): {Q2} (Mediana)\")\n",
    "print(f\"Q3 (75%): {Q3}\")\n",
    "print(f\"\\nIQR (Rango Intercuartílico): {IQR}\")\n",
    "print(f\"\\nInterpretación: El 50% central de los datos está entre {Q1} y {Q3}\")"
   ]
  },
  {
   "cell_type": "code",
   "execution_count": null,
   "metadata": {},
   "outputs": [],
   "source": [
    "# Boxplot con cuartiles etiquetados\n",
    "fig, ax = plt.subplots(figsize=(10, 6))\n",
    "bp = ax.boxplot(df['satisfaccion'], vert=True, patch_artist=True,\n",
    "                boxprops=dict(facecolor='lightblue', color='blue'),\n",
    "                medianprops=dict(color='red', linewidth=2),\n",
    "                whiskerprops=dict(color='blue', linewidth=1.5),\n",
    "                capprops=dict(color='blue', linewidth=1.5))\n",
    "\n",
    "ax.set_ylabel('Satisfacción (1-10)', fontsize=12)\n",
    "ax.set_title('Boxplot de Satisfacción con Cuartiles', fontsize=14, fontweight='bold')\n",
    "ax.set_xticklabels(['Satisfacción'])\n",
    "\n",
    "# Añadir etiquetas de cuartiles\n",
    "ax.text(1.15, Q1, f'Q1 = {Q1}', fontsize=10, color='blue')\n",
    "ax.text(1.15, Q2, f'Q2 = {Q2}', fontsize=10, color='red')\n",
    "ax.text(1.15, Q3, f'Q3 = {Q3}', fontsize=10, color='blue')\n",
    "\n",
    "ax.grid(alpha=0.3, axis='y')\n",
    "plt.tight_layout()\n",
    "plt.show()"
   ]
  },
  {
   "cell_type": "markdown",
   "metadata": {},
   "source": [
    "## 4. Detección de Outliers"
   ]
  },
  {
   "cell_type": "code",
   "execution_count": null,
   "metadata": {},
   "outputs": [],
   "source": [
    "# Límites para outliers (regla de 1.5*IQR)\n",
    "limite_inferior = Q1 - 1.5 * IQR\n",
    "limite_superior = Q3 + 1.5 * IQR\n",
    "\n",
    "print(\"DETECCIÓN DE OUTLIERS\")\n",
    "print(\"=\" * 40)\n",
    "print(f\"Límite inferior: {limite_inferior}\")\n",
    "print(f\"Límite superior: {limite_superior}\")\n",
    "\n",
    "# Identificar outliers\n",
    "outliers = df[(df['satisfaccion'] < limite_inferior) | (df['satisfaccion'] > limite_superior)]\n",
    "\n",
    "print(f\"\\nNúmero de outliers detectados: {len(outliers)}\")\n",
    "\n",
    "if len(outliers) > 0:\n",
    "    print(f\"\\nOutliers encontrados:\")\n",
    "    print(outliers[['id', 'area', 'satisfaccion']])\n",
    "else:\n",
    "    print(\"\\n✓ No se detectaron outliers\")"
   ]
  },
  {
   "cell_type": "code",
   "execution_count": null,
   "metadata": {},
   "outputs": [],
   "source": [
    "# Porcentaje de outliers\n",
    "porcentaje_outliers = (len(outliers) / len(df)) * 100\n",
    "print(f\"Porcentaje de outliers: {porcentaje_outliers:.2f}%\")\n",
    "\n",
    "if porcentaje_outliers > 5:\n",
    "    print(\"\\n⚠️ Más del 5% de datos son outliers. Revisar si hay errores en los datos.\")\n",
    "else:\n",
    "    print(\"\\n✓ Porcentaje de outliers es aceptable.\")"
   ]
  },
  {
   "cell_type": "markdown",
   "metadata": {},
   "source": [
    "## 5. Resumen Estadístico Completo"
   ]
  },
  {
   "cell_type": "code",
   "execution_count": null,
   "metadata": {},
   "outputs": [],
   "source": [
    "# Resumen completo de la variable satisfacción\n",
    "print(\"RESUMEN ESTADÍSTICO DE SATISFACCIÓN\")\n",
    "print(\"=\" * 50)\n",
    "print(df['satisfaccion'].describe())\n",
    "\n",
    "# Agregar otras estadísticas\n",
    "print(f\"\\nEstadísticas adicionales:\")\n",
    "print(f\"Moda: {moda_satisfaccion}\")\n",
    "print(f\"Rango: {rango}\")\n",
    "print(f\"IQR: {IQR}\")\n",
    "print(f\"Coeficiente de Variación: {cv:.2f}%\")"
   ]
  },
  {
   "cell_type": "code",
   "execution_count": null,
   "metadata": {},
   "outputs": [],
   "source": [
    "# Crear tabla resumen personalizada\n",
    "resumen = pd.DataFrame({\n",
    "    'Estadística': ['n', 'Media', 'Mediana', 'Moda', 'Desv. Estándar', 'Varianza', \n",
    "                   'Mínimo', 'Q1', 'Q3', 'Máximo', 'Rango', 'IQR', 'CV (%)'],\n",
    "    'Valor': [\n",
    "        len(df),\n",
    "        f\"{media_satisfaccion:.2f}\",\n",
    "        f\"{mediana_satisfaccion:.2f}\",\n",
    "        f\"{moda_satisfaccion}\",\n",
    "        f\"{desv_std:.2f}\",\n",
    "        f\"{varianza:.2f}\",\n",
    "        f\"{minimo}\",\n",
    "        f\"{Q1}\",\n",
    "        f\"{Q3}\",\n",
    "        f\"{maximo}\",\n",
    "        f\"{rango}\",\n",
    "        f\"{IQR}\",\n",
    "        f\"{cv:.2f}\"\n",
    "    ]\n",
    "})\n",
    "\n",
    "print(\"\\nTABLA RESUMEN - SATISFACCIÓN\")\n",
    "print(resumen.to_string(index=False))"
   ]
  },
  {
   "cell_type": "markdown",
   "metadata": {},
   "source": [
    "## 6. Comparación entre Áreas"
   ]
  },
  {
   "cell_type": "code",
   "execution_count": null,
   "metadata": {},
   "outputs": [],
   "source": [
    "# Calcular estadísticas por área\n",
    "estadisticas_por_area = df.groupby('area')['satisfaccion'].agg([\n",
    "    ('n', 'count'),\n",
    "    ('Media', 'mean'),\n",
    "    ('Mediana', 'median'),\n",
    "    ('Desv.Std', 'std'),\n",
    "    ('Mínimo', 'min'),\n",
    "    ('Q1', lambda x: x.quantile(0.25)),\n",
    "    ('Q3', lambda x: x.quantile(0.75)),\n",
    "    ('Máximo', 'max')\n",
    "]).round(2)\n",
    "\n",
    "print(\"ESTADÍSTICAS POR ÁREA\")\n",
    "print(\"=\" * 80)\n",
    "print(estadisticas_por_area)"
   ]
  },
  {
   "cell_type": "code",
   "execution_count": null,
   "metadata": {},
   "outputs": [],
   "source": [
    "# Visualización comparativa con boxplots\n",
    "plt.figure(figsize=(12, 6))\n",
    "df.boxplot(column='satisfaccion', by='area', patch_artist=True, grid=False)\n",
    "plt.suptitle('')  # Eliminar título automático\n",
    "plt.title('Comparación de Satisfacción por Área', fontsize=14, fontweight='bold')\n",
    "plt.xlabel('Área', fontsize=12)\n",
    "plt.ylabel('Satisfacción (1-10)', fontsize=12)\n",
    "plt.tight_layout()\n",
    "plt.show()"
   ]
  },
  {
   "cell_type": "code",
   "execution_count": null,
   "metadata": {},
   "outputs": [],
   "source": [
    "# Violinplot para ver distribuciones completas\n",
    "plt.figure(figsize=(12, 6))\n",
    "sns.violinplot(data=df, x='area', y='satisfaccion', palette='Set2')\n",
    "plt.title('Distribución de Satisfacción por Área (Violin Plot)', fontsize=14, fontweight='bold')\n",
    "plt.xlabel('Área', fontsize=12)\n",
    "plt.ylabel('Satisfacción (1-10)', fontsize=12)\n",
    "plt.grid(alpha=0.3, axis='y')\n",
    "plt.tight_layout()\n",
    "plt.show()"
   ]
  },
  {
   "cell_type": "markdown",
   "metadata": {},
   "source": [
    "## 7. Interpretación en Contexto de Negocio"
   ]
  },
  {
   "cell_type": "code",
   "execution_count": null,
   "metadata": {},
   "outputs": [],
   "source": [
    "# Generar reporte automático\n",
    "print(\"=\"*60)\n",
    "print(\"REPORTE EJECUTIVO - ANÁLISIS DE SATISFACCIÓN\")\n",
    "print(\"=\"*60)\n",
    "\n",
    "print(f\"\\n📊 TENDENCIA CENTRAL:\")\n",
    "print(f\"   • La satisfacción promedio es {media_satisfaccion:.2f}/10\")\n",
    "print(f\"   • El 50% de beneficiarios califica con {mediana_satisfaccion}/10 o más\")\n",
    "print(f\"   • La calificación más frecuente es {moda_satisfaccion}/10\")\n",
    "\n",
    "print(f\"\\n📈 DISPERSIÓN:\")\n",
    "print(f\"   • Desviación estándar: ±{desv_std:.2f} puntos\")\n",
    "print(f\"   • Coeficiente de variación: {cv:.2f}%\")\n",
    "print(f\"   • Rango de calificaciones: {minimo} a {maximo}\")\n",
    "\n",
    "print(f\"\\n🎯 DISTRIBUCIÓN:\")\n",
    "print(f\"   • Q1 (25% más bajo): {Q1}\")\n",
    "print(f\"   • Q3 (75% más alto): {Q3}\")\n",
    "print(f\"   • El 50% central varía entre {Q1} y {Q3}\")\n",
    "\n",
    "print(f\"\\n⚠️ OUTLIERS:\")\n",
    "print(f\"   • {len(outliers)} outliers detectados ({porcentaje_outliers:.1f}%)\")\n",
    "\n",
    "# Área con mejor desempeño\n",
    "mejor_area = estadisticas_por_area['Media'].idxmax()\n",
    "mejor_media = estadisticas_por_area.loc[mejor_area, 'Media']\n",
    "\n",
    "print(f\"\\n🏆 MEJOR DESEMPEÑO:\")\n",
    "print(f\"   • Área {mejor_area} tiene la mayor satisfacción promedio ({mejor_media:.2f})\")\n",
    "\n",
    "print(\"\\n\" + \"=\"*60)"
   ]
  },
  {
   "cell_type": "markdown",
   "metadata": {},
   "source": [
    "## 8. Ejercicios Propuestos\n",
    "\n",
    "### Ejercicio 1: Calidad de Atención\n",
    "Calcula todas las medidas de tendencia central y dispersión para la variable `calidad_atencion`\n",
    "\n",
    "### Ejercicio 2: Tiempo de Espera\n",
    "Analiza la variable `tiempo_espera`:\n",
    "- ¿Cuál es el tiempo promedio?\n",
    "- ¿Hay mucha variabilidad?\n",
    "- ¿Existen outliers?\n",
    "\n",
    "### Ejercicio 3: Comparación por Género\n",
    "Compara las estadísticas de satisfacción entre géneros\n",
    "\n",
    "### Ejercicio 4: Segmentación por Edad\n",
    "Crea grupos de edad (ej: <30, 30-50, >50) y compara satisfacción entre ellos\n"
   ]
  },
  {
   "cell_type": "code",
   "execution_count": null,
   "metadata": {},
   "outputs": [],
   "source": [
    "# Tu código aquí\n"
   ]
  },
  {
   "cell_type": "markdown",
   "metadata": {},
   "source": [
    "---\n",
    "\n",
    "## Resumen\n",
    "\n",
    "En este notebook aprendiste a:\n",
    "- ✓ Calcular e interpretar medidas de tendencia central (media, mediana, moda)\n",
    "- ✓ Calcular e interpretar medidas de dispersión (varianza, desv. estándar, rango, IQR)\n",
    "- ✓ Identificar outliers usando la regla de 1.5*IQR\n",
    "- ✓ Comparar estadísticas entre grupos\n",
    "- ✓ Interpretar resultados en contexto de negocio\n",
    "\n",
    "**Siguiente notebook:** Pruebas de Hipótesis para 1 y 2 Muestras\n"
   ]
  }
 ],
 "metadata": {
  "kernelspec": {
   "display_name": "Python 3",
   "language": "python",
   "name": "python3"
  },
  "language_info": {
   "codemirror_mode": {
    "name": "ipython",
    "version": 3
   },
   "file_extension": ".py",
   "mimetype": "text/x-python",
   "name": "python",
   "nbconvert_exporter": "python",
   "pygments_lexer": "ipython3",
   "version": "3.10.0"
  }
 },
 "nbformat": 4,
 "nbformat_minor": 4
}
